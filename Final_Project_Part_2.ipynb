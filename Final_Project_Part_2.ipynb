{
  "nbformat": 4,
  "nbformat_minor": 0,
  "metadata": {
    "colab": {
      "provenance": [],
      "include_colab_link": true
    },
    "kernelspec": {
      "name": "python3",
      "display_name": "Python 3"
    },
    "language_info": {
      "name": "python"
    },
    "widgets": {
      "application/vnd.jupyter.widget-state+json": {
        "ac2e5380766e440194dc552f4055e8f2": {
          "model_module": "@jupyter-widgets/controls",
          "model_name": "ButtonModel",
          "model_module_version": "1.5.0",
          "state": {
            "_dom_classes": [],
            "_model_module": "@jupyter-widgets/controls",
            "_model_module_version": "1.5.0",
            "_model_name": "ButtonModel",
            "_view_count": null,
            "_view_module": "@jupyter-widgets/controls",
            "_view_module_version": "1.5.0",
            "_view_name": "ButtonView",
            "button_style": "",
            "description": "Get Data",
            "disabled": false,
            "icon": "check",
            "layout": "IPY_MODEL_022379c603cd49c7bb9a181de9b4277e",
            "style": "IPY_MODEL_0ba84b819aae485eba2aa365c42e6a75",
            "tooltip": "Get Data"
          }
        },
        "022379c603cd49c7bb9a181de9b4277e": {
          "model_module": "@jupyter-widgets/base",
          "model_name": "LayoutModel",
          "model_module_version": "1.2.0",
          "state": {
            "_model_module": "@jupyter-widgets/base",
            "_model_module_version": "1.2.0",
            "_model_name": "LayoutModel",
            "_view_count": null,
            "_view_module": "@jupyter-widgets/base",
            "_view_module_version": "1.2.0",
            "_view_name": "LayoutView",
            "align_content": null,
            "align_items": null,
            "align_self": null,
            "border": null,
            "bottom": null,
            "display": null,
            "flex": null,
            "flex_flow": null,
            "grid_area": null,
            "grid_auto_columns": null,
            "grid_auto_flow": null,
            "grid_auto_rows": null,
            "grid_column": null,
            "grid_gap": null,
            "grid_row": null,
            "grid_template_areas": null,
            "grid_template_columns": null,
            "grid_template_rows": null,
            "height": null,
            "justify_content": null,
            "justify_items": null,
            "left": null,
            "margin": null,
            "max_height": null,
            "max_width": null,
            "min_height": null,
            "min_width": null,
            "object_fit": null,
            "object_position": null,
            "order": null,
            "overflow": null,
            "overflow_x": null,
            "overflow_y": null,
            "padding": null,
            "right": null,
            "top": null,
            "visibility": null,
            "width": null
          }
        },
        "0ba84b819aae485eba2aa365c42e6a75": {
          "model_module": "@jupyter-widgets/controls",
          "model_name": "ButtonStyleModel",
          "model_module_version": "1.5.0",
          "state": {
            "_model_module": "@jupyter-widgets/controls",
            "_model_module_version": "1.5.0",
            "_model_name": "ButtonStyleModel",
            "_view_count": null,
            "_view_module": "@jupyter-widgets/base",
            "_view_module_version": "1.2.0",
            "_view_name": "StyleView",
            "button_color": null,
            "font_weight": ""
          }
        },
        "a1e110ec98de45a68997e2d9fe76f1bc": {
          "model_module": "@jupyter-widgets/output",
          "model_name": "OutputModel",
          "model_module_version": "1.0.0",
          "state": {
            "_dom_classes": [],
            "_model_module": "@jupyter-widgets/output",
            "_model_module_version": "1.0.0",
            "_model_name": "OutputModel",
            "_view_count": null,
            "_view_module": "@jupyter-widgets/output",
            "_view_module_version": "1.0.0",
            "_view_name": "OutputView",
            "layout": "IPY_MODEL_a62b7dbedc2a466f86a10eba6ee1b527",
            "msg_id": "",
            "outputs": []
          }
        },
        "a62b7dbedc2a466f86a10eba6ee1b527": {
          "model_module": "@jupyter-widgets/base",
          "model_name": "LayoutModel",
          "model_module_version": "1.2.0",
          "state": {
            "_model_module": "@jupyter-widgets/base",
            "_model_module_version": "1.2.0",
            "_model_name": "LayoutModel",
            "_view_count": null,
            "_view_module": "@jupyter-widgets/base",
            "_view_module_version": "1.2.0",
            "_view_name": "LayoutView",
            "align_content": null,
            "align_items": null,
            "align_self": null,
            "border": null,
            "bottom": null,
            "display": null,
            "flex": null,
            "flex_flow": null,
            "grid_area": null,
            "grid_auto_columns": null,
            "grid_auto_flow": null,
            "grid_auto_rows": null,
            "grid_column": null,
            "grid_gap": null,
            "grid_row": null,
            "grid_template_areas": null,
            "grid_template_columns": null,
            "grid_template_rows": null,
            "height": null,
            "justify_content": null,
            "justify_items": null,
            "left": null,
            "margin": null,
            "max_height": null,
            "max_width": null,
            "min_height": null,
            "min_width": null,
            "object_fit": null,
            "object_position": null,
            "order": null,
            "overflow": null,
            "overflow_x": null,
            "overflow_y": null,
            "padding": null,
            "right": null,
            "top": null,
            "visibility": null,
            "width": null
          }
        },
        "2ceeb965905f41669c938371718c87d9": {
          "model_module": "@jupyter-widgets/controls",
          "model_name": "VBoxModel",
          "model_module_version": "1.5.0",
          "state": {
            "_dom_classes": [],
            "_model_module": "@jupyter-widgets/controls",
            "_model_module_version": "1.5.0",
            "_model_name": "VBoxModel",
            "_view_count": null,
            "_view_module": "@jupyter-widgets/controls",
            "_view_module_version": "1.5.0",
            "_view_name": "VBoxView",
            "box_style": "",
            "children": [
              "IPY_MODEL_0262b2f3665b4ce6903db35db0724250",
              "IPY_MODEL_5a15a1afabc4479d8480f702f2c85bc9"
            ],
            "layout": "IPY_MODEL_3e4d3f41546942fd9fa5e8115ffa7213"
          }
        },
        "0262b2f3665b4ce6903db35db0724250": {
          "model_module": "@jupyter-widgets/controls",
          "model_name": "HBoxModel",
          "model_module_version": "1.5.0",
          "state": {
            "_dom_classes": [],
            "_model_module": "@jupyter-widgets/controls",
            "_model_module_version": "1.5.0",
            "_model_name": "HBoxModel",
            "_view_count": null,
            "_view_module": "@jupyter-widgets/controls",
            "_view_module_version": "1.5.0",
            "_view_name": "HBoxView",
            "box_style": "",
            "children": [
              "IPY_MODEL_0cb0c6c99fd84406a1656e6229fbb0b7",
              "IPY_MODEL_ac2b8e58d87e4b20b582996826ac63a8",
              "IPY_MODEL_5b66f175fb2f4296814c6ffe9f4a596f",
              "IPY_MODEL_66ca2e8b24a64c939a5d1afea371e5d2"
            ],
            "layout": "IPY_MODEL_f0e9ea2a6111478a9e2e15a6522864be"
          }
        },
        "5a15a1afabc4479d8480f702f2c85bc9": {
          "model_module": "@jupyter-widgets/controls",
          "model_name": "VBoxModel",
          "model_module_version": "1.5.0",
          "state": {
            "_dom_classes": [],
            "_model_module": "@jupyter-widgets/controls",
            "_model_module_version": "1.5.0",
            "_model_name": "VBoxModel",
            "_view_count": null,
            "_view_module": "@jupyter-widgets/controls",
            "_view_module_version": "1.5.0",
            "_view_name": "VBoxView",
            "box_style": "",
            "children": [
              "IPY_MODEL_c7a5671c2b8648859e8b8af787493b4e"
            ],
            "layout": "IPY_MODEL_b20e7feabd7440a59d6f689ec6335f85"
          }
        },
        "3e4d3f41546942fd9fa5e8115ffa7213": {
          "model_module": "@jupyter-widgets/base",
          "model_name": "LayoutModel",
          "model_module_version": "1.2.0",
          "state": {
            "_model_module": "@jupyter-widgets/base",
            "_model_module_version": "1.2.0",
            "_model_name": "LayoutModel",
            "_view_count": null,
            "_view_module": "@jupyter-widgets/base",
            "_view_module_version": "1.2.0",
            "_view_name": "LayoutView",
            "align_content": null,
            "align_items": null,
            "align_self": null,
            "border": null,
            "bottom": null,
            "display": null,
            "flex": null,
            "flex_flow": null,
            "grid_area": null,
            "grid_auto_columns": null,
            "grid_auto_flow": null,
            "grid_auto_rows": null,
            "grid_column": null,
            "grid_gap": null,
            "grid_row": null,
            "grid_template_areas": null,
            "grid_template_columns": null,
            "grid_template_rows": null,
            "height": null,
            "justify_content": null,
            "justify_items": null,
            "left": null,
            "margin": null,
            "max_height": null,
            "max_width": null,
            "min_height": null,
            "min_width": null,
            "object_fit": null,
            "object_position": null,
            "order": null,
            "overflow": null,
            "overflow_x": null,
            "overflow_y": null,
            "padding": null,
            "right": null,
            "top": null,
            "visibility": null,
            "width": null
          }
        },
        "0cb0c6c99fd84406a1656e6229fbb0b7": {
          "model_module": "@jupyter-widgets/controls",
          "model_name": "CheckboxModel",
          "model_module_version": "1.5.0",
          "state": {
            "_dom_classes": [],
            "_model_module": "@jupyter-widgets/controls",
            "_model_module_version": "1.5.0",
            "_model_name": "CheckboxModel",
            "_view_count": null,
            "_view_module": "@jupyter-widgets/controls",
            "_view_module_version": "1.5.0",
            "_view_name": "CheckboxView",
            "description": "Manhattan",
            "description_tooltip": null,
            "disabled": false,
            "indent": false,
            "layout": "IPY_MODEL_717d27f1da8944b78330622ffce2e243",
            "style": "IPY_MODEL_93beb5c5f66f4aae877f6afb6f676ffe",
            "value": true
          }
        },
        "ac2b8e58d87e4b20b582996826ac63a8": {
          "model_module": "@jupyter-widgets/controls",
          "model_name": "CheckboxModel",
          "model_module_version": "1.5.0",
          "state": {
            "_dom_classes": [],
            "_model_module": "@jupyter-widgets/controls",
            "_model_module_version": "1.5.0",
            "_model_name": "CheckboxModel",
            "_view_count": null,
            "_view_module": "@jupyter-widgets/controls",
            "_view_module_version": "1.5.0",
            "_view_name": "CheckboxView",
            "description": "Brooklyn",
            "description_tooltip": null,
            "disabled": false,
            "indent": false,
            "layout": "IPY_MODEL_1ff6e455baae4e489a2c7c7c5c2f1dc7",
            "style": "IPY_MODEL_286647bcbdc545f08e89741a63074898",
            "value": true
          }
        },
        "5b66f175fb2f4296814c6ffe9f4a596f": {
          "model_module": "@jupyter-widgets/controls",
          "model_name": "CheckboxModel",
          "model_module_version": "1.5.0",
          "state": {
            "_dom_classes": [],
            "_model_module": "@jupyter-widgets/controls",
            "_model_module_version": "1.5.0",
            "_model_name": "CheckboxModel",
            "_view_count": null,
            "_view_module": "@jupyter-widgets/controls",
            "_view_module_version": "1.5.0",
            "_view_name": "CheckboxView",
            "description": "Queens",
            "description_tooltip": null,
            "disabled": false,
            "indent": false,
            "layout": "IPY_MODEL_6840da5749344efba4c5f384654222cd",
            "style": "IPY_MODEL_7f44777aa74847ffbb51ca204f141ef1",
            "value": true
          }
        },
        "66ca2e8b24a64c939a5d1afea371e5d2": {
          "model_module": "@jupyter-widgets/controls",
          "model_name": "CheckboxModel",
          "model_module_version": "1.5.0",
          "state": {
            "_dom_classes": [],
            "_model_module": "@jupyter-widgets/controls",
            "_model_module_version": "1.5.0",
            "_model_name": "CheckboxModel",
            "_view_count": null,
            "_view_module": "@jupyter-widgets/controls",
            "_view_module_version": "1.5.0",
            "_view_name": "CheckboxView",
            "description": "Bronx",
            "description_tooltip": null,
            "disabled": false,
            "indent": false,
            "layout": "IPY_MODEL_6fb12fe3279842cab88e27d11c2df5b4",
            "style": "IPY_MODEL_4e581ede4316425887cd2008628172d6",
            "value": true
          }
        },
        "f0e9ea2a6111478a9e2e15a6522864be": {
          "model_module": "@jupyter-widgets/base",
          "model_name": "LayoutModel",
          "model_module_version": "1.2.0",
          "state": {
            "_model_module": "@jupyter-widgets/base",
            "_model_module_version": "1.2.0",
            "_model_name": "LayoutModel",
            "_view_count": null,
            "_view_module": "@jupyter-widgets/base",
            "_view_module_version": "1.2.0",
            "_view_name": "LayoutView",
            "align_content": null,
            "align_items": null,
            "align_self": null,
            "border": null,
            "bottom": null,
            "display": null,
            "flex": null,
            "flex_flow": null,
            "grid_area": null,
            "grid_auto_columns": null,
            "grid_auto_flow": null,
            "grid_auto_rows": null,
            "grid_column": null,
            "grid_gap": null,
            "grid_row": null,
            "grid_template_areas": null,
            "grid_template_columns": null,
            "grid_template_rows": null,
            "height": null,
            "justify_content": null,
            "justify_items": null,
            "left": null,
            "margin": null,
            "max_height": null,
            "max_width": null,
            "min_height": null,
            "min_width": null,
            "object_fit": null,
            "object_position": null,
            "order": null,
            "overflow": null,
            "overflow_x": null,
            "overflow_y": null,
            "padding": null,
            "right": null,
            "top": null,
            "visibility": null,
            "width": null
          }
        },
        "c7a5671c2b8648859e8b8af787493b4e": {
          "model_module": "jupyterlab-plotly",
          "model_name": "FigureModel",
          "model_module_version": "^5.11.0",
          "state": {
            "_config": {
              "plotlyServerURL": "https://plot.ly"
            },
            "_data": [
              {
                "name": "Non-Compliant",
                "x": [
                  "Manhattan",
                  "Brooklyn",
                  "Queens",
                  "Bronx"
                ],
                "y": [
                  364,
                  121,
                  132,
                  9
                ],
                "type": "bar",
                "uid": "dab62d55-679e-4ba3-954a-fe989fc5f11a"
              },
              {
                "name": "For HIQA Review",
                "x": [
                  "Manhattan",
                  "Brooklyn",
                  "Queens",
                  "Bronx"
                ],
                "y": [
                  52,
                  15,
                  10,
                  0
                ],
                "type": "bar",
                "uid": "064ad359-b9e3-40d4-aa38-8dd51c7912dc"
              },
              {
                "name": "Cease and Desist",
                "x": [
                  "Manhattan",
                  "Brooklyn",
                  "Queens",
                  "Bronx"
                ],
                "y": [
                  118,
                  73,
                  62,
                  20
                ],
                "type": "bar",
                "uid": "2f1d5f0d-8b3c-408b-aaf3-4985c71af3bb"
              },
              {
                "name": "Compliant",
                "x": [
                  "Manhattan",
                  "Brooklyn",
                  "Queens",
                  "Bronx"
                ],
                "y": [
                  214,
                  94,
                  46,
                  15
                ],
                "type": "bar",
                "uid": "e5f0feda-2eb4-406c-9d84-4ed767ae3077"
              },
              {
                "name": "Suspended and Deactivated",
                "x": [
                  "Manhattan",
                  "Brooklyn",
                  "Queens",
                  "Bronx"
                ],
                "y": [
                  20,
                  18,
                  6,
                  0
                ],
                "type": "bar",
                "uid": "7192388f-4392-4910-a913-aecda0b52b63"
              },
              {
                "name": "Under Review",
                "x": [
                  "Manhattan",
                  "Brooklyn",
                  "Queens",
                  "Bronx"
                ],
                "y": [
                  35,
                  19,
                  12,
                  0
                ],
                "type": "bar",
                "uid": "d7976667-fb25-4a50-87a5-2c8dd662ea43"
              },
              {
                "name": "Skipped Inspection",
                "x": [
                  "Manhattan",
                  "Brooklyn",
                  "Queens",
                  "Bronx"
                ],
                "y": [
                  129,
                  74,
                  65,
                  9
                ],
                "type": "bar",
                "uid": "782badf2-f798-4341-9dfa-2fc07e5e8a1b"
              },
              {
                "name": "Marked For Removal",
                "x": [
                  "Manhattan",
                  "Brooklyn",
                  "Queens",
                  "Bronx"
                ],
                "y": [
                  19,
                  6,
                  5,
                  0
                ],
                "type": "bar",
                "uid": "17b1886d-4d67-46a8-92ea-138cc9ba91b2"
              },
              {
                "name": "Pre-Suspension",
                "x": [
                  "Manhattan",
                  "Brooklyn",
                  "Queens",
                  "Bronx"
                ],
                "y": [
                  13,
                  9,
                  6,
                  0
                ],
                "type": "bar",
                "uid": "0f2e3e3e-5cd6-4d45-9c03-2c56899719c6"
              },
              {
                "name": "Pre-Removal",
                "x": [
                  "Manhattan",
                  "Brooklyn",
                  "Queens",
                  "Bronx"
                ],
                "y": [
                  12,
                  3,
                  8,
                  0
                ],
                "type": "bar",
                "uid": "2c8f9a40-47c1-445a-babc-a60a22a8e2cc"
              },
              {
                "name": "Removed and Deactivated",
                "x": [
                  "Manhattan",
                  "Brooklyn",
                  "Queens",
                  "Bronx"
                ],
                "y": [
                  1,
                  2,
                  0,
                  0
                ],
                "type": "bar",
                "uid": "3872cf7b-dba5-4732-8716-a092c9da9173"
              }
            ],
            "_dom_classes": [],
            "_js2py_layoutDelta": {},
            "_js2py_pointsCallback": {},
            "_js2py_relayout": {},
            "_js2py_restyle": {},
            "_js2py_traceDeltas": {},
            "_js2py_update": {},
            "_last_layout_edit_id": 0,
            "_last_trace_edit_id": 0,
            "_layout": {
              "barmode": "group"
            },
            "_model_module": "jupyterlab-plotly",
            "_model_module_version": "^5.11.0",
            "_model_name": "FigureModel",
            "_py2js_addTraces": {},
            "_py2js_animate": {},
            "_py2js_deleteTraces": {},
            "_py2js_moveTraces": {},
            "_py2js_relayout": null,
            "_py2js_removeLayoutProps": {},
            "_py2js_removeTraceProps": {},
            "_py2js_restyle": {},
            "_py2js_update": {},
            "_view_count": 1,
            "_view_module": "jupyterlab-plotly",
            "_view_module_version": "^5.11.0",
            "_view_name": "FigureView"
          }
        },
        "b20e7feabd7440a59d6f689ec6335f85": {
          "model_module": "@jupyter-widgets/base",
          "model_name": "LayoutModel",
          "model_module_version": "1.2.0",
          "state": {
            "_model_module": "@jupyter-widgets/base",
            "_model_module_version": "1.2.0",
            "_model_name": "LayoutModel",
            "_view_count": null,
            "_view_module": "@jupyter-widgets/base",
            "_view_module_version": "1.2.0",
            "_view_name": "LayoutView",
            "align_content": null,
            "align_items": null,
            "align_self": null,
            "border": null,
            "bottom": null,
            "display": null,
            "flex": null,
            "flex_flow": null,
            "grid_area": null,
            "grid_auto_columns": null,
            "grid_auto_flow": null,
            "grid_auto_rows": null,
            "grid_column": null,
            "grid_gap": null,
            "grid_row": null,
            "grid_template_areas": null,
            "grid_template_columns": null,
            "grid_template_rows": null,
            "height": null,
            "justify_content": null,
            "justify_items": null,
            "left": null,
            "margin": null,
            "max_height": null,
            "max_width": null,
            "min_height": null,
            "min_width": null,
            "object_fit": null,
            "object_position": null,
            "order": null,
            "overflow": null,
            "overflow_x": null,
            "overflow_y": null,
            "padding": null,
            "right": null,
            "top": null,
            "visibility": null,
            "width": null
          }
        },
        "717d27f1da8944b78330622ffce2e243": {
          "model_module": "@jupyter-widgets/base",
          "model_name": "LayoutModel",
          "model_module_version": "1.2.0",
          "state": {
            "_model_module": "@jupyter-widgets/base",
            "_model_module_version": "1.2.0",
            "_model_name": "LayoutModel",
            "_view_count": null,
            "_view_module": "@jupyter-widgets/base",
            "_view_module_version": "1.2.0",
            "_view_name": "LayoutView",
            "align_content": null,
            "align_items": null,
            "align_self": null,
            "border": null,
            "bottom": null,
            "display": null,
            "flex": null,
            "flex_flow": null,
            "grid_area": null,
            "grid_auto_columns": null,
            "grid_auto_flow": null,
            "grid_auto_rows": null,
            "grid_column": null,
            "grid_gap": null,
            "grid_row": null,
            "grid_template_areas": null,
            "grid_template_columns": null,
            "grid_template_rows": null,
            "height": null,
            "justify_content": null,
            "justify_items": null,
            "left": null,
            "margin": null,
            "max_height": null,
            "max_width": null,
            "min_height": null,
            "min_width": null,
            "object_fit": null,
            "object_position": null,
            "order": null,
            "overflow": null,
            "overflow_x": null,
            "overflow_y": null,
            "padding": null,
            "right": null,
            "top": null,
            "visibility": null,
            "width": null
          }
        },
        "93beb5c5f66f4aae877f6afb6f676ffe": {
          "model_module": "@jupyter-widgets/controls",
          "model_name": "DescriptionStyleModel",
          "model_module_version": "1.5.0",
          "state": {
            "_model_module": "@jupyter-widgets/controls",
            "_model_module_version": "1.5.0",
            "_model_name": "DescriptionStyleModel",
            "_view_count": null,
            "_view_module": "@jupyter-widgets/base",
            "_view_module_version": "1.2.0",
            "_view_name": "StyleView",
            "description_width": ""
          }
        },
        "1ff6e455baae4e489a2c7c7c5c2f1dc7": {
          "model_module": "@jupyter-widgets/base",
          "model_name": "LayoutModel",
          "model_module_version": "1.2.0",
          "state": {
            "_model_module": "@jupyter-widgets/base",
            "_model_module_version": "1.2.0",
            "_model_name": "LayoutModel",
            "_view_count": null,
            "_view_module": "@jupyter-widgets/base",
            "_view_module_version": "1.2.0",
            "_view_name": "LayoutView",
            "align_content": null,
            "align_items": null,
            "align_self": null,
            "border": null,
            "bottom": null,
            "display": null,
            "flex": null,
            "flex_flow": null,
            "grid_area": null,
            "grid_auto_columns": null,
            "grid_auto_flow": null,
            "grid_auto_rows": null,
            "grid_column": null,
            "grid_gap": null,
            "grid_row": null,
            "grid_template_areas": null,
            "grid_template_columns": null,
            "grid_template_rows": null,
            "height": null,
            "justify_content": null,
            "justify_items": null,
            "left": null,
            "margin": null,
            "max_height": null,
            "max_width": null,
            "min_height": null,
            "min_width": null,
            "object_fit": null,
            "object_position": null,
            "order": null,
            "overflow": null,
            "overflow_x": null,
            "overflow_y": null,
            "padding": null,
            "right": null,
            "top": null,
            "visibility": null,
            "width": null
          }
        },
        "286647bcbdc545f08e89741a63074898": {
          "model_module": "@jupyter-widgets/controls",
          "model_name": "DescriptionStyleModel",
          "model_module_version": "1.5.0",
          "state": {
            "_model_module": "@jupyter-widgets/controls",
            "_model_module_version": "1.5.0",
            "_model_name": "DescriptionStyleModel",
            "_view_count": null,
            "_view_module": "@jupyter-widgets/base",
            "_view_module_version": "1.2.0",
            "_view_name": "StyleView",
            "description_width": ""
          }
        },
        "6840da5749344efba4c5f384654222cd": {
          "model_module": "@jupyter-widgets/base",
          "model_name": "LayoutModel",
          "model_module_version": "1.2.0",
          "state": {
            "_model_module": "@jupyter-widgets/base",
            "_model_module_version": "1.2.0",
            "_model_name": "LayoutModel",
            "_view_count": null,
            "_view_module": "@jupyter-widgets/base",
            "_view_module_version": "1.2.0",
            "_view_name": "LayoutView",
            "align_content": null,
            "align_items": null,
            "align_self": null,
            "border": null,
            "bottom": null,
            "display": null,
            "flex": null,
            "flex_flow": null,
            "grid_area": null,
            "grid_auto_columns": null,
            "grid_auto_flow": null,
            "grid_auto_rows": null,
            "grid_column": null,
            "grid_gap": null,
            "grid_row": null,
            "grid_template_areas": null,
            "grid_template_columns": null,
            "grid_template_rows": null,
            "height": null,
            "justify_content": null,
            "justify_items": null,
            "left": null,
            "margin": null,
            "max_height": null,
            "max_width": null,
            "min_height": null,
            "min_width": null,
            "object_fit": null,
            "object_position": null,
            "order": null,
            "overflow": null,
            "overflow_x": null,
            "overflow_y": null,
            "padding": null,
            "right": null,
            "top": null,
            "visibility": null,
            "width": null
          }
        },
        "7f44777aa74847ffbb51ca204f141ef1": {
          "model_module": "@jupyter-widgets/controls",
          "model_name": "DescriptionStyleModel",
          "model_module_version": "1.5.0",
          "state": {
            "_model_module": "@jupyter-widgets/controls",
            "_model_module_version": "1.5.0",
            "_model_name": "DescriptionStyleModel",
            "_view_count": null,
            "_view_module": "@jupyter-widgets/base",
            "_view_module_version": "1.2.0",
            "_view_name": "StyleView",
            "description_width": ""
          }
        },
        "6fb12fe3279842cab88e27d11c2df5b4": {
          "model_module": "@jupyter-widgets/base",
          "model_name": "LayoutModel",
          "model_module_version": "1.2.0",
          "state": {
            "_model_module": "@jupyter-widgets/base",
            "_model_module_version": "1.2.0",
            "_model_name": "LayoutModel",
            "_view_count": null,
            "_view_module": "@jupyter-widgets/base",
            "_view_module_version": "1.2.0",
            "_view_name": "LayoutView",
            "align_content": null,
            "align_items": null,
            "align_self": null,
            "border": null,
            "bottom": null,
            "display": null,
            "flex": null,
            "flex_flow": null,
            "grid_area": null,
            "grid_auto_columns": null,
            "grid_auto_flow": null,
            "grid_auto_rows": null,
            "grid_column": null,
            "grid_gap": null,
            "grid_row": null,
            "grid_template_areas": null,
            "grid_template_columns": null,
            "grid_template_rows": null,
            "height": null,
            "justify_content": null,
            "justify_items": null,
            "left": null,
            "margin": null,
            "max_height": null,
            "max_width": null,
            "min_height": null,
            "min_width": null,
            "object_fit": null,
            "object_position": null,
            "order": null,
            "overflow": null,
            "overflow_x": null,
            "overflow_y": null,
            "padding": null,
            "right": null,
            "top": null,
            "visibility": null,
            "width": null
          }
        },
        "4e581ede4316425887cd2008628172d6": {
          "model_module": "@jupyter-widgets/controls",
          "model_name": "DescriptionStyleModel",
          "model_module_version": "1.5.0",
          "state": {
            "_model_module": "@jupyter-widgets/controls",
            "_model_module_version": "1.5.0",
            "_model_name": "DescriptionStyleModel",
            "_view_count": null,
            "_view_module": "@jupyter-widgets/base",
            "_view_module_version": "1.2.0",
            "_view_name": "StyleView",
            "description_width": ""
          }
        },
        "827ac0ab49b44e1cb9c7ec8e698ab351": {
          "model_module": "@jupyter-widgets/controls",
          "model_name": "VBoxModel",
          "model_module_version": "1.5.0",
          "state": {
            "_dom_classes": [],
            "_model_module": "@jupyter-widgets/controls",
            "_model_module_version": "1.5.0",
            "_model_name": "VBoxModel",
            "_view_count": null,
            "_view_module": "@jupyter-widgets/controls",
            "_view_module_version": "1.5.0",
            "_view_name": "VBoxView",
            "box_style": "",
            "children": [
              "IPY_MODEL_90b34cdc0f194b7c85b7fc9354977035",
              "IPY_MODEL_a3184cd2a739405eb82310b1c22abf40"
            ],
            "layout": "IPY_MODEL_9ff5a191aab0464da00a9c20b9421dbd"
          }
        },
        "90b34cdc0f194b7c85b7fc9354977035": {
          "model_module": "@jupyter-widgets/controls",
          "model_name": "HBoxModel",
          "model_module_version": "1.5.0",
          "state": {
            "_dom_classes": [],
            "_model_module": "@jupyter-widgets/controls",
            "_model_module_version": "1.5.0",
            "_model_name": "HBoxModel",
            "_view_count": null,
            "_view_module": "@jupyter-widgets/controls",
            "_view_module_version": "1.5.0",
            "_view_name": "HBoxView",
            "box_style": "",
            "children": [
              "IPY_MODEL_cd7792a4a6394aa488b3d30ba945b44a",
              "IPY_MODEL_2414b824160d4aa6b8775b62e5e2c56a",
              "IPY_MODEL_da733e70b2524aa49e775171a5ca8eca",
              "IPY_MODEL_b8484a8701e9430280b54e38422aee25"
            ],
            "layout": "IPY_MODEL_dfee25c374af4917b69917d111d37dda"
          }
        },
        "a3184cd2a739405eb82310b1c22abf40": {
          "model_module": "@jupyter-widgets/controls",
          "model_name": "VBoxModel",
          "model_module_version": "1.5.0",
          "state": {
            "_dom_classes": [],
            "_model_module": "@jupyter-widgets/controls",
            "_model_module_version": "1.5.0",
            "_model_name": "VBoxModel",
            "_view_count": null,
            "_view_module": "@jupyter-widgets/controls",
            "_view_module_version": "1.5.0",
            "_view_name": "VBoxView",
            "box_style": "",
            "children": [
              "IPY_MODEL_d0649bb6ddb34fd4b39b992b465581fe"
            ],
            "layout": "IPY_MODEL_d30e99a6bf794c609f3a32bb3da7d496"
          }
        },
        "9ff5a191aab0464da00a9c20b9421dbd": {
          "model_module": "@jupyter-widgets/base",
          "model_name": "LayoutModel",
          "model_module_version": "1.2.0",
          "state": {
            "_model_module": "@jupyter-widgets/base",
            "_model_module_version": "1.2.0",
            "_model_name": "LayoutModel",
            "_view_count": null,
            "_view_module": "@jupyter-widgets/base",
            "_view_module_version": "1.2.0",
            "_view_name": "LayoutView",
            "align_content": null,
            "align_items": null,
            "align_self": null,
            "border": null,
            "bottom": null,
            "display": null,
            "flex": null,
            "flex_flow": null,
            "grid_area": null,
            "grid_auto_columns": null,
            "grid_auto_flow": null,
            "grid_auto_rows": null,
            "grid_column": null,
            "grid_gap": null,
            "grid_row": null,
            "grid_template_areas": null,
            "grid_template_columns": null,
            "grid_template_rows": null,
            "height": null,
            "justify_content": null,
            "justify_items": null,
            "left": null,
            "margin": null,
            "max_height": null,
            "max_width": null,
            "min_height": null,
            "min_width": null,
            "object_fit": null,
            "object_position": null,
            "order": null,
            "overflow": null,
            "overflow_x": null,
            "overflow_y": null,
            "padding": null,
            "right": null,
            "top": null,
            "visibility": null,
            "width": null
          }
        },
        "cd7792a4a6394aa488b3d30ba945b44a": {
          "model_module": "@jupyter-widgets/controls",
          "model_name": "CheckboxModel",
          "model_module_version": "1.5.0",
          "state": {
            "_dom_classes": [],
            "_model_module": "@jupyter-widgets/controls",
            "_model_module_version": "1.5.0",
            "_model_name": "CheckboxModel",
            "_view_count": null,
            "_view_module": "@jupyter-widgets/controls",
            "_view_module_version": "1.5.0",
            "_view_name": "CheckboxView",
            "description": "Manhattan",
            "description_tooltip": null,
            "disabled": false,
            "indent": false,
            "layout": "IPY_MODEL_ce09bf9cf8d4484a9849d7a4bf6e6af8",
            "style": "IPY_MODEL_28b277f997704fcc9571381117c91634",
            "value": true
          }
        },
        "2414b824160d4aa6b8775b62e5e2c56a": {
          "model_module": "@jupyter-widgets/controls",
          "model_name": "CheckboxModel",
          "model_module_version": "1.5.0",
          "state": {
            "_dom_classes": [],
            "_model_module": "@jupyter-widgets/controls",
            "_model_module_version": "1.5.0",
            "_model_name": "CheckboxModel",
            "_view_count": null,
            "_view_module": "@jupyter-widgets/controls",
            "_view_module_version": "1.5.0",
            "_view_name": "CheckboxView",
            "description": "Brooklyn",
            "description_tooltip": null,
            "disabled": false,
            "indent": false,
            "layout": "IPY_MODEL_2e3db6bf0625401aa3c38287763782bb",
            "style": "IPY_MODEL_17885ba4074e4408a53d1c5252a4b85d",
            "value": true
          }
        },
        "da733e70b2524aa49e775171a5ca8eca": {
          "model_module": "@jupyter-widgets/controls",
          "model_name": "CheckboxModel",
          "model_module_version": "1.5.0",
          "state": {
            "_dom_classes": [],
            "_model_module": "@jupyter-widgets/controls",
            "_model_module_version": "1.5.0",
            "_model_name": "CheckboxModel",
            "_view_count": null,
            "_view_module": "@jupyter-widgets/controls",
            "_view_module_version": "1.5.0",
            "_view_name": "CheckboxView",
            "description": "Queens",
            "description_tooltip": null,
            "disabled": false,
            "indent": false,
            "layout": "IPY_MODEL_e18065dcc38b425d824c70bdfb3f7ea8",
            "style": "IPY_MODEL_a7e1f9d8752b42e2830c0c728f34f556",
            "value": true
          }
        },
        "b8484a8701e9430280b54e38422aee25": {
          "model_module": "@jupyter-widgets/controls",
          "model_name": "CheckboxModel",
          "model_module_version": "1.5.0",
          "state": {
            "_dom_classes": [],
            "_model_module": "@jupyter-widgets/controls",
            "_model_module_version": "1.5.0",
            "_model_name": "CheckboxModel",
            "_view_count": null,
            "_view_module": "@jupyter-widgets/controls",
            "_view_module_version": "1.5.0",
            "_view_name": "CheckboxView",
            "description": "Bronx",
            "description_tooltip": null,
            "disabled": false,
            "indent": false,
            "layout": "IPY_MODEL_73b8692f6b7347f288caa2016df67355",
            "style": "IPY_MODEL_ca600458b02e4100b98e851cd43bc107",
            "value": true
          }
        },
        "dfee25c374af4917b69917d111d37dda": {
          "model_module": "@jupyter-widgets/base",
          "model_name": "LayoutModel",
          "model_module_version": "1.2.0",
          "state": {
            "_model_module": "@jupyter-widgets/base",
            "_model_module_version": "1.2.0",
            "_model_name": "LayoutModel",
            "_view_count": null,
            "_view_module": "@jupyter-widgets/base",
            "_view_module_version": "1.2.0",
            "_view_name": "LayoutView",
            "align_content": null,
            "align_items": null,
            "align_self": null,
            "border": null,
            "bottom": null,
            "display": null,
            "flex": null,
            "flex_flow": null,
            "grid_area": null,
            "grid_auto_columns": null,
            "grid_auto_flow": null,
            "grid_auto_rows": null,
            "grid_column": null,
            "grid_gap": null,
            "grid_row": null,
            "grid_template_areas": null,
            "grid_template_columns": null,
            "grid_template_rows": null,
            "height": null,
            "justify_content": null,
            "justify_items": null,
            "left": null,
            "margin": null,
            "max_height": null,
            "max_width": null,
            "min_height": null,
            "min_width": null,
            "object_fit": null,
            "object_position": null,
            "order": null,
            "overflow": null,
            "overflow_x": null,
            "overflow_y": null,
            "padding": null,
            "right": null,
            "top": null,
            "visibility": null,
            "width": null
          }
        },
        "d0649bb6ddb34fd4b39b992b465581fe": {
          "model_module": "jupyterlab-plotly",
          "model_name": "FigureModel",
          "model_module_version": "^5.11.0",
          "state": {
            "_config": {
              "plotlyServerURL": "https://plot.ly"
            },
            "_data": [
              {
                "name": "Non-Compliant",
                "x": [
                  "Manhattan",
                  "Brooklyn",
                  "Queens",
                  "Bronx"
                ],
                "y": [
                  364,
                  121,
                  132,
                  9
                ],
                "type": "bar",
                "uid": "22195518-b9eb-46da-bb5a-0582c76308b1"
              },
              {
                "name": "For HIQA Review",
                "x": [
                  "Manhattan",
                  "Brooklyn",
                  "Queens",
                  "Bronx"
                ],
                "y": [
                  52,
                  15,
                  10,
                  0
                ],
                "type": "bar",
                "uid": "185f3405-8bc6-4c0a-bb22-14240c391667"
              },
              {
                "name": "Cease and Desist",
                "x": [
                  "Manhattan",
                  "Brooklyn",
                  "Queens",
                  "Bronx"
                ],
                "y": [
                  118,
                  73,
                  62,
                  20
                ],
                "type": "bar",
                "uid": "ff3477ec-6ab6-4155-ad8d-3c426ea41e6d"
              },
              {
                "name": "Compliant",
                "x": [
                  "Manhattan",
                  "Brooklyn",
                  "Queens",
                  "Bronx"
                ],
                "y": [
                  214,
                  94,
                  46,
                  15
                ],
                "type": "bar",
                "uid": "2193b98f-ff26-4143-a0d7-3a98b3435e78"
              },
              {
                "name": "Suspended and Deactivated",
                "x": [
                  "Manhattan",
                  "Brooklyn",
                  "Queens",
                  "Bronx"
                ],
                "y": [
                  20,
                  18,
                  6,
                  0
                ],
                "type": "bar",
                "uid": "f09488bb-014e-400e-990b-1bb5bb2781bf"
              },
              {
                "name": "Under Review",
                "x": [
                  "Manhattan",
                  "Brooklyn",
                  "Queens",
                  "Bronx"
                ],
                "y": [
                  35,
                  19,
                  12,
                  0
                ],
                "type": "bar",
                "uid": "27b9b206-5107-4712-b438-9aa744b4f406"
              },
              {
                "name": "Skipped Inspection",
                "x": [
                  "Manhattan",
                  "Brooklyn",
                  "Queens",
                  "Bronx"
                ],
                "y": [
                  129,
                  74,
                  65,
                  9
                ],
                "type": "bar",
                "uid": "c1d42c3a-0186-4779-9fcc-7e09e691b703"
              },
              {
                "name": "Marked For Removal",
                "x": [
                  "Manhattan",
                  "Brooklyn",
                  "Queens",
                  "Bronx"
                ],
                "y": [
                  19,
                  6,
                  5,
                  0
                ],
                "type": "bar",
                "uid": "e7bbbfad-6ac9-42bc-9e16-18ebab13f41a"
              },
              {
                "name": "Pre-Suspension",
                "x": [
                  "Manhattan",
                  "Brooklyn",
                  "Queens",
                  "Bronx"
                ],
                "y": [
                  13,
                  9,
                  6,
                  0
                ],
                "type": "bar",
                "uid": "795df922-2ec6-4679-919c-d3f50b7ec81c"
              },
              {
                "name": "Pre-Removal",
                "x": [
                  "Manhattan",
                  "Brooklyn",
                  "Queens",
                  "Bronx"
                ],
                "y": [
                  12,
                  3,
                  8,
                  0
                ],
                "type": "bar",
                "uid": "77c7784f-3e69-4c0a-b0c2-fe7e03940199"
              },
              {
                "name": "Removed and Deactivated",
                "x": [
                  "Manhattan",
                  "Brooklyn",
                  "Queens",
                  "Bronx"
                ],
                "y": [
                  1,
                  2,
                  0,
                  0
                ],
                "type": "bar",
                "uid": "a36df640-8efa-4615-bf84-5b1fcdb467ed"
              }
            ],
            "_dom_classes": [],
            "_js2py_layoutDelta": {},
            "_js2py_pointsCallback": {},
            "_js2py_relayout": {},
            "_js2py_restyle": {},
            "_js2py_traceDeltas": {},
            "_js2py_update": {},
            "_last_layout_edit_id": 0,
            "_last_trace_edit_id": 0,
            "_layout": {
              "barmode": "group"
            },
            "_model_module": "jupyterlab-plotly",
            "_model_module_version": "^5.11.0",
            "_model_name": "FigureModel",
            "_py2js_addTraces": {},
            "_py2js_animate": {},
            "_py2js_deleteTraces": {},
            "_py2js_moveTraces": {},
            "_py2js_relayout": null,
            "_py2js_removeLayoutProps": {},
            "_py2js_removeTraceProps": {},
            "_py2js_restyle": {},
            "_py2js_update": {},
            "_view_count": 1,
            "_view_module": "jupyterlab-plotly",
            "_view_module_version": "^5.11.0",
            "_view_name": "FigureView"
          }
        },
        "d30e99a6bf794c609f3a32bb3da7d496": {
          "model_module": "@jupyter-widgets/base",
          "model_name": "LayoutModel",
          "model_module_version": "1.2.0",
          "state": {
            "_model_module": "@jupyter-widgets/base",
            "_model_module_version": "1.2.0",
            "_model_name": "LayoutModel",
            "_view_count": null,
            "_view_module": "@jupyter-widgets/base",
            "_view_module_version": "1.2.0",
            "_view_name": "LayoutView",
            "align_content": null,
            "align_items": null,
            "align_self": null,
            "border": null,
            "bottom": null,
            "display": null,
            "flex": null,
            "flex_flow": null,
            "grid_area": null,
            "grid_auto_columns": null,
            "grid_auto_flow": null,
            "grid_auto_rows": null,
            "grid_column": null,
            "grid_gap": null,
            "grid_row": null,
            "grid_template_areas": null,
            "grid_template_columns": null,
            "grid_template_rows": null,
            "height": null,
            "justify_content": null,
            "justify_items": null,
            "left": null,
            "margin": null,
            "max_height": null,
            "max_width": null,
            "min_height": null,
            "min_width": null,
            "object_fit": null,
            "object_position": null,
            "order": null,
            "overflow": null,
            "overflow_x": null,
            "overflow_y": null,
            "padding": null,
            "right": null,
            "top": null,
            "visibility": null,
            "width": null
          }
        },
        "ce09bf9cf8d4484a9849d7a4bf6e6af8": {
          "model_module": "@jupyter-widgets/base",
          "model_name": "LayoutModel",
          "model_module_version": "1.2.0",
          "state": {
            "_model_module": "@jupyter-widgets/base",
            "_model_module_version": "1.2.0",
            "_model_name": "LayoutModel",
            "_view_count": null,
            "_view_module": "@jupyter-widgets/base",
            "_view_module_version": "1.2.0",
            "_view_name": "LayoutView",
            "align_content": null,
            "align_items": null,
            "align_self": null,
            "border": null,
            "bottom": null,
            "display": null,
            "flex": null,
            "flex_flow": null,
            "grid_area": null,
            "grid_auto_columns": null,
            "grid_auto_flow": null,
            "grid_auto_rows": null,
            "grid_column": null,
            "grid_gap": null,
            "grid_row": null,
            "grid_template_areas": null,
            "grid_template_columns": null,
            "grid_template_rows": null,
            "height": null,
            "justify_content": null,
            "justify_items": null,
            "left": null,
            "margin": null,
            "max_height": null,
            "max_width": null,
            "min_height": null,
            "min_width": null,
            "object_fit": null,
            "object_position": null,
            "order": null,
            "overflow": null,
            "overflow_x": null,
            "overflow_y": null,
            "padding": null,
            "right": null,
            "top": null,
            "visibility": null,
            "width": null
          }
        },
        "28b277f997704fcc9571381117c91634": {
          "model_module": "@jupyter-widgets/controls",
          "model_name": "DescriptionStyleModel",
          "model_module_version": "1.5.0",
          "state": {
            "_model_module": "@jupyter-widgets/controls",
            "_model_module_version": "1.5.0",
            "_model_name": "DescriptionStyleModel",
            "_view_count": null,
            "_view_module": "@jupyter-widgets/base",
            "_view_module_version": "1.2.0",
            "_view_name": "StyleView",
            "description_width": ""
          }
        },
        "2e3db6bf0625401aa3c38287763782bb": {
          "model_module": "@jupyter-widgets/base",
          "model_name": "LayoutModel",
          "model_module_version": "1.2.0",
          "state": {
            "_model_module": "@jupyter-widgets/base",
            "_model_module_version": "1.2.0",
            "_model_name": "LayoutModel",
            "_view_count": null,
            "_view_module": "@jupyter-widgets/base",
            "_view_module_version": "1.2.0",
            "_view_name": "LayoutView",
            "align_content": null,
            "align_items": null,
            "align_self": null,
            "border": null,
            "bottom": null,
            "display": null,
            "flex": null,
            "flex_flow": null,
            "grid_area": null,
            "grid_auto_columns": null,
            "grid_auto_flow": null,
            "grid_auto_rows": null,
            "grid_column": null,
            "grid_gap": null,
            "grid_row": null,
            "grid_template_areas": null,
            "grid_template_columns": null,
            "grid_template_rows": null,
            "height": null,
            "justify_content": null,
            "justify_items": null,
            "left": null,
            "margin": null,
            "max_height": null,
            "max_width": null,
            "min_height": null,
            "min_width": null,
            "object_fit": null,
            "object_position": null,
            "order": null,
            "overflow": null,
            "overflow_x": null,
            "overflow_y": null,
            "padding": null,
            "right": null,
            "top": null,
            "visibility": null,
            "width": null
          }
        },
        "17885ba4074e4408a53d1c5252a4b85d": {
          "model_module": "@jupyter-widgets/controls",
          "model_name": "DescriptionStyleModel",
          "model_module_version": "1.5.0",
          "state": {
            "_model_module": "@jupyter-widgets/controls",
            "_model_module_version": "1.5.0",
            "_model_name": "DescriptionStyleModel",
            "_view_count": null,
            "_view_module": "@jupyter-widgets/base",
            "_view_module_version": "1.2.0",
            "_view_name": "StyleView",
            "description_width": ""
          }
        },
        "e18065dcc38b425d824c70bdfb3f7ea8": {
          "model_module": "@jupyter-widgets/base",
          "model_name": "LayoutModel",
          "model_module_version": "1.2.0",
          "state": {
            "_model_module": "@jupyter-widgets/base",
            "_model_module_version": "1.2.0",
            "_model_name": "LayoutModel",
            "_view_count": null,
            "_view_module": "@jupyter-widgets/base",
            "_view_module_version": "1.2.0",
            "_view_name": "LayoutView",
            "align_content": null,
            "align_items": null,
            "align_self": null,
            "border": null,
            "bottom": null,
            "display": null,
            "flex": null,
            "flex_flow": null,
            "grid_area": null,
            "grid_auto_columns": null,
            "grid_auto_flow": null,
            "grid_auto_rows": null,
            "grid_column": null,
            "grid_gap": null,
            "grid_row": null,
            "grid_template_areas": null,
            "grid_template_columns": null,
            "grid_template_rows": null,
            "height": null,
            "justify_content": null,
            "justify_items": null,
            "left": null,
            "margin": null,
            "max_height": null,
            "max_width": null,
            "min_height": null,
            "min_width": null,
            "object_fit": null,
            "object_position": null,
            "order": null,
            "overflow": null,
            "overflow_x": null,
            "overflow_y": null,
            "padding": null,
            "right": null,
            "top": null,
            "visibility": null,
            "width": null
          }
        },
        "a7e1f9d8752b42e2830c0c728f34f556": {
          "model_module": "@jupyter-widgets/controls",
          "model_name": "DescriptionStyleModel",
          "model_module_version": "1.5.0",
          "state": {
            "_model_module": "@jupyter-widgets/controls",
            "_model_module_version": "1.5.0",
            "_model_name": "DescriptionStyleModel",
            "_view_count": null,
            "_view_module": "@jupyter-widgets/base",
            "_view_module_version": "1.2.0",
            "_view_name": "StyleView",
            "description_width": ""
          }
        },
        "73b8692f6b7347f288caa2016df67355": {
          "model_module": "@jupyter-widgets/base",
          "model_name": "LayoutModel",
          "model_module_version": "1.2.0",
          "state": {
            "_model_module": "@jupyter-widgets/base",
            "_model_module_version": "1.2.0",
            "_model_name": "LayoutModel",
            "_view_count": null,
            "_view_module": "@jupyter-widgets/base",
            "_view_module_version": "1.2.0",
            "_view_name": "LayoutView",
            "align_content": null,
            "align_items": null,
            "align_self": null,
            "border": null,
            "bottom": null,
            "display": null,
            "flex": null,
            "flex_flow": null,
            "grid_area": null,
            "grid_auto_columns": null,
            "grid_auto_flow": null,
            "grid_auto_rows": null,
            "grid_column": null,
            "grid_gap": null,
            "grid_row": null,
            "grid_template_areas": null,
            "grid_template_columns": null,
            "grid_template_rows": null,
            "height": null,
            "justify_content": null,
            "justify_items": null,
            "left": null,
            "margin": null,
            "max_height": null,
            "max_width": null,
            "min_height": null,
            "min_width": null,
            "object_fit": null,
            "object_position": null,
            "order": null,
            "overflow": null,
            "overflow_x": null,
            "overflow_y": null,
            "padding": null,
            "right": null,
            "top": null,
            "visibility": null,
            "width": null
          }
        },
        "ca600458b02e4100b98e851cd43bc107": {
          "model_module": "@jupyter-widgets/controls",
          "model_name": "DescriptionStyleModel",
          "model_module_version": "1.5.0",
          "state": {
            "_model_module": "@jupyter-widgets/controls",
            "_model_module_version": "1.5.0",
            "_model_name": "DescriptionStyleModel",
            "_view_count": null,
            "_view_module": "@jupyter-widgets/base",
            "_view_module_version": "1.2.0",
            "_view_name": "StyleView",
            "description_width": ""
          }
        }
      }
    }
  },
  "cells": [
    {
      "cell_type": "markdown",
      "metadata": {
        "id": "view-in-github",
        "colab_type": "text"
      },
      "source": [
        "<a href=\"https://colab.research.google.com/github/jaiswal9/Data-Viz/blob/main/Final_Project_Part_2.ipynb\" target=\"_parent\"><img src=\"https://colab.research.google.com/assets/colab-badge.svg\" alt=\"Open In Colab\"/></a>"
      ]
    },
    {
      "cell_type": "code",
      "execution_count": 72,
      "metadata": {
        "colab": {
          "base_uri": "https://localhost:8080/"
        },
        "id": "DxqXEZajMoLv",
        "outputId": "c2c6634a-b525-4ae3-d880-a0ccd0389f0d"
      },
      "outputs": [
        {
          "output_type": "stream",
          "name": "stdout",
          "text": [
            "Looking in indexes: https://pypi.org/simple, https://us-python.pkg.dev/colab-wheels/public/simple/\n",
            "Requirement already satisfied: sodapy in /usr/local/lib/python3.8/dist-packages (2.2.0)\n",
            "Requirement already satisfied: requests>=2.28.1 in /usr/local/lib/python3.8/dist-packages (from sodapy) (2.28.1)\n",
            "Requirement already satisfied: certifi>=2017.4.17 in /usr/local/lib/python3.8/dist-packages (from requests>=2.28.1->sodapy) (2022.9.24)\n",
            "Requirement already satisfied: urllib3<1.27,>=1.21.1 in /usr/local/lib/python3.8/dist-packages (from requests>=2.28.1->sodapy) (1.24.3)\n",
            "Requirement already satisfied: idna<4,>=2.5 in /usr/local/lib/python3.8/dist-packages (from requests>=2.28.1->sodapy) (2.10)\n",
            "Requirement already satisfied: charset-normalizer<3,>=2 in /usr/local/lib/python3.8/dist-packages (from requests>=2.28.1->sodapy) (2.1.1)\n"
          ]
        }
      ],
      "source": [
        "pip install sodapy"
      ]
    },
    {
      "cell_type": "code",
      "source": [
        "!pip install plotly"
      ],
      "metadata": {
        "colab": {
          "base_uri": "https://localhost:8080/"
        },
        "id": "DHoY5TVzh4Rb",
        "outputId": "b50596bc-3e5c-46c7-fe3e-ca4a6b45b257"
      },
      "execution_count": 73,
      "outputs": [
        {
          "output_type": "stream",
          "name": "stdout",
          "text": [
            "Looking in indexes: https://pypi.org/simple, https://us-python.pkg.dev/colab-wheels/public/simple/\n",
            "Requirement already satisfied: plotly in /usr/local/lib/python3.8/dist-packages (5.11.0)\n",
            "Requirement already satisfied: tenacity>=6.2.0 in /usr/local/lib/python3.8/dist-packages (from plotly) (8.1.0)\n"
          ]
        }
      ]
    },
    {
      "cell_type": "code",
      "source": [
        "pip install geopandas"
      ],
      "metadata": {
        "colab": {
          "base_uri": "https://localhost:8080/"
        },
        "id": "znAYVra4M4vq",
        "outputId": "13dcbba9-1221-40bb-8966-8d39903db597"
      },
      "execution_count": 74,
      "outputs": [
        {
          "output_type": "stream",
          "name": "stdout",
          "text": [
            "Looking in indexes: https://pypi.org/simple, https://us-python.pkg.dev/colab-wheels/public/simple/\n",
            "Requirement already satisfied: geopandas in /usr/local/lib/python3.8/dist-packages (0.12.2)\n",
            "Requirement already satisfied: packaging in /usr/local/lib/python3.8/dist-packages (from geopandas) (21.3)\n",
            "Requirement already satisfied: fiona>=1.8 in /usr/local/lib/python3.8/dist-packages (from geopandas) (1.8.22)\n",
            "Requirement already satisfied: shapely>=1.7 in /usr/local/lib/python3.8/dist-packages (from geopandas) (1.8.5.post1)\n",
            "Requirement already satisfied: pyproj>=2.6.1.post1 in /usr/local/lib/python3.8/dist-packages (from geopandas) (3.4.1)\n",
            "Requirement already satisfied: pandas>=1.0.0 in /usr/local/lib/python3.8/dist-packages (from geopandas) (1.5.2)\n",
            "Requirement already satisfied: click-plugins>=1.0 in /usr/local/lib/python3.8/dist-packages (from fiona>=1.8->geopandas) (1.1.1)\n",
            "Requirement already satisfied: click>=4.0 in /usr/local/lib/python3.8/dist-packages (from fiona>=1.8->geopandas) (7.1.2)\n",
            "Requirement already satisfied: munch in /usr/local/lib/python3.8/dist-packages (from fiona>=1.8->geopandas) (2.5.0)\n",
            "Requirement already satisfied: six>=1.7 in /usr/local/lib/python3.8/dist-packages (from fiona>=1.8->geopandas) (1.15.0)\n",
            "Requirement already satisfied: certifi in /usr/local/lib/python3.8/dist-packages (from fiona>=1.8->geopandas) (2022.9.24)\n",
            "Requirement already satisfied: setuptools in /usr/local/lib/python3.8/dist-packages (from fiona>=1.8->geopandas) (57.4.0)\n",
            "Requirement already satisfied: cligj>=0.5 in /usr/local/lib/python3.8/dist-packages (from fiona>=1.8->geopandas) (0.7.2)\n",
            "Requirement already satisfied: attrs>=17 in /usr/local/lib/python3.8/dist-packages (from fiona>=1.8->geopandas) (22.1.0)\n",
            "Requirement already satisfied: numpy>=1.20.3 in /usr/local/lib/python3.8/dist-packages (from pandas>=1.0.0->geopandas) (1.23.5)\n",
            "Requirement already satisfied: python-dateutil>=2.8.1 in /usr/local/lib/python3.8/dist-packages (from pandas>=1.0.0->geopandas) (2.8.2)\n",
            "Requirement already satisfied: pytz>=2020.1 in /usr/local/lib/python3.8/dist-packages (from pandas>=1.0.0->geopandas) (2022.6)\n",
            "Requirement already satisfied: pyparsing!=3.0.5,>=2.0.2 in /usr/local/lib/python3.8/dist-packages (from packaging->geopandas) (3.0.9)\n"
          ]
        }
      ]
    },
    {
      "cell_type": "code",
      "source": [
        "pip install bqplot"
      ],
      "metadata": {
        "colab": {
          "base_uri": "https://localhost:8080/"
        },
        "id": "hCo8IDV1M98C",
        "outputId": "02ec2b91-97f8-4593-e3f5-1cfe5aeff5d1"
      },
      "execution_count": 75,
      "outputs": [
        {
          "output_type": "stream",
          "name": "stdout",
          "text": [
            "Looking in indexes: https://pypi.org/simple, https://us-python.pkg.dev/colab-wheels/public/simple/\n",
            "Requirement already satisfied: bqplot in /usr/local/lib/python3.8/dist-packages (0.12.36)\n",
            "Requirement already satisfied: ipywidgets<9,>=7.5.0 in /usr/local/lib/python3.8/dist-packages (from bqplot) (7.7.1)\n",
            "Requirement already satisfied: traitlets>=4.3.0 in /usr/local/lib/python3.8/dist-packages (from bqplot) (5.6.0)\n",
            "Requirement already satisfied: pandas<2.0.0,>=1.0.0 in /usr/local/lib/python3.8/dist-packages (from bqplot) (1.5.2)\n",
            "Requirement already satisfied: numpy<2.0.0,>=1.10.4 in /usr/local/lib/python3.8/dist-packages (from bqplot) (1.23.5)\n",
            "Requirement already satisfied: traittypes>=0.0.6 in /usr/local/lib/python3.8/dist-packages (from bqplot) (0.2.1)\n",
            "Requirement already satisfied: ipykernel>=4.5.1 in /usr/local/lib/python3.8/dist-packages (from ipywidgets<9,>=7.5.0->bqplot) (5.3.4)\n",
            "Requirement already satisfied: jupyterlab-widgets>=1.0.0 in /usr/local/lib/python3.8/dist-packages (from ipywidgets<9,>=7.5.0->bqplot) (3.0.3)\n",
            "Requirement already satisfied: ipython>=4.0.0 in /usr/local/lib/python3.8/dist-packages (from ipywidgets<9,>=7.5.0->bqplot) (7.9.0)\n",
            "Requirement already satisfied: ipython-genutils~=0.2.0 in /usr/local/lib/python3.8/dist-packages (from ipywidgets<9,>=7.5.0->bqplot) (0.2.0)\n",
            "Requirement already satisfied: widgetsnbextension~=3.6.0 in /usr/local/lib/python3.8/dist-packages (from ipywidgets<9,>=7.5.0->bqplot) (3.6.1)\n",
            "Requirement already satisfied: jupyter-client in /usr/local/lib/python3.8/dist-packages (from ipykernel>=4.5.1->ipywidgets<9,>=7.5.0->bqplot) (6.1.12)\n",
            "Requirement already satisfied: tornado>=4.2 in /usr/local/lib/python3.8/dist-packages (from ipykernel>=4.5.1->ipywidgets<9,>=7.5.0->bqplot) (6.0.4)\n",
            "Requirement already satisfied: decorator in /usr/local/lib/python3.8/dist-packages (from ipython>=4.0.0->ipywidgets<9,>=7.5.0->bqplot) (4.4.2)\n",
            "Requirement already satisfied: backcall in /usr/local/lib/python3.8/dist-packages (from ipython>=4.0.0->ipywidgets<9,>=7.5.0->bqplot) (0.2.0)\n",
            "Requirement already satisfied: setuptools>=18.5 in /usr/local/lib/python3.8/dist-packages (from ipython>=4.0.0->ipywidgets<9,>=7.5.0->bqplot) (57.4.0)\n",
            "Requirement already satisfied: prompt-toolkit<2.1.0,>=2.0.0 in /usr/local/lib/python3.8/dist-packages (from ipython>=4.0.0->ipywidgets<9,>=7.5.0->bqplot) (2.0.10)\n",
            "Requirement already satisfied: pexpect in /usr/local/lib/python3.8/dist-packages (from ipython>=4.0.0->ipywidgets<9,>=7.5.0->bqplot) (4.8.0)\n",
            "Requirement already satisfied: jedi>=0.10 in /usr/local/lib/python3.8/dist-packages (from ipython>=4.0.0->ipywidgets<9,>=7.5.0->bqplot) (0.18.2)\n",
            "Requirement already satisfied: pygments in /usr/local/lib/python3.8/dist-packages (from ipython>=4.0.0->ipywidgets<9,>=7.5.0->bqplot) (2.6.1)\n",
            "Requirement already satisfied: pickleshare in /usr/local/lib/python3.8/dist-packages (from ipython>=4.0.0->ipywidgets<9,>=7.5.0->bqplot) (0.7.5)\n",
            "Requirement already satisfied: parso<0.9.0,>=0.8.0 in /usr/local/lib/python3.8/dist-packages (from jedi>=0.10->ipython>=4.0.0->ipywidgets<9,>=7.5.0->bqplot) (0.8.3)\n",
            "Requirement already satisfied: python-dateutil>=2.8.1 in /usr/local/lib/python3.8/dist-packages (from pandas<2.0.0,>=1.0.0->bqplot) (2.8.2)\n",
            "Requirement already satisfied: pytz>=2020.1 in /usr/local/lib/python3.8/dist-packages (from pandas<2.0.0,>=1.0.0->bqplot) (2022.6)\n",
            "Requirement already satisfied: six>=1.9.0 in /usr/local/lib/python3.8/dist-packages (from prompt-toolkit<2.1.0,>=2.0.0->ipython>=4.0.0->ipywidgets<9,>=7.5.0->bqplot) (1.15.0)\n",
            "Requirement already satisfied: wcwidth in /usr/local/lib/python3.8/dist-packages (from prompt-toolkit<2.1.0,>=2.0.0->ipython>=4.0.0->ipywidgets<9,>=7.5.0->bqplot) (0.2.5)\n",
            "Requirement already satisfied: notebook>=4.4.1 in /usr/local/lib/python3.8/dist-packages (from widgetsnbextension~=3.6.0->ipywidgets<9,>=7.5.0->bqplot) (5.7.16)\n",
            "Requirement already satisfied: terminado>=0.8.1 in /usr/local/lib/python3.8/dist-packages (from notebook>=4.4.1->widgetsnbextension~=3.6.0->ipywidgets<9,>=7.5.0->bqplot) (0.13.3)\n",
            "Requirement already satisfied: nbformat in /usr/local/lib/python3.8/dist-packages (from notebook>=4.4.1->widgetsnbextension~=3.6.0->ipywidgets<9,>=7.5.0->bqplot) (5.7.0)\n",
            "Requirement already satisfied: Send2Trash in /usr/local/lib/python3.8/dist-packages (from notebook>=4.4.1->widgetsnbextension~=3.6.0->ipywidgets<9,>=7.5.0->bqplot) (1.8.0)\n",
            "Requirement already satisfied: nbconvert<6.0 in /usr/local/lib/python3.8/dist-packages (from notebook>=4.4.1->widgetsnbextension~=3.6.0->ipywidgets<9,>=7.5.0->bqplot) (5.6.1)\n",
            "Requirement already satisfied: jupyter-core>=4.4.0 in /usr/local/lib/python3.8/dist-packages (from notebook>=4.4.1->widgetsnbextension~=3.6.0->ipywidgets<9,>=7.5.0->bqplot) (5.1.0)\n",
            "Requirement already satisfied: prometheus-client in /usr/local/lib/python3.8/dist-packages (from notebook>=4.4.1->widgetsnbextension~=3.6.0->ipywidgets<9,>=7.5.0->bqplot) (0.15.0)\n",
            "Requirement already satisfied: jinja2<=3.0.0 in /usr/local/lib/python3.8/dist-packages (from notebook>=4.4.1->widgetsnbextension~=3.6.0->ipywidgets<9,>=7.5.0->bqplot) (2.11.3)\n",
            "Requirement already satisfied: pyzmq>=17 in /usr/local/lib/python3.8/dist-packages (from notebook>=4.4.1->widgetsnbextension~=3.6.0->ipywidgets<9,>=7.5.0->bqplot) (23.2.1)\n",
            "Requirement already satisfied: MarkupSafe>=0.23 in /usr/local/lib/python3.8/dist-packages (from jinja2<=3.0.0->notebook>=4.4.1->widgetsnbextension~=3.6.0->ipywidgets<9,>=7.5.0->bqplot) (2.0.1)\n",
            "Requirement already satisfied: platformdirs>=2.5 in /usr/local/lib/python3.8/dist-packages (from jupyter-core>=4.4.0->notebook>=4.4.1->widgetsnbextension~=3.6.0->ipywidgets<9,>=7.5.0->bqplot) (2.5.4)\n",
            "Requirement already satisfied: bleach in /usr/local/lib/python3.8/dist-packages (from nbconvert<6.0->notebook>=4.4.1->widgetsnbextension~=3.6.0->ipywidgets<9,>=7.5.0->bqplot) (5.0.1)\n",
            "Requirement already satisfied: testpath in /usr/local/lib/python3.8/dist-packages (from nbconvert<6.0->notebook>=4.4.1->widgetsnbextension~=3.6.0->ipywidgets<9,>=7.5.0->bqplot) (0.6.0)\n",
            "Requirement already satisfied: mistune<2,>=0.8.1 in /usr/local/lib/python3.8/dist-packages (from nbconvert<6.0->notebook>=4.4.1->widgetsnbextension~=3.6.0->ipywidgets<9,>=7.5.0->bqplot) (0.8.4)\n",
            "Requirement already satisfied: defusedxml in /usr/local/lib/python3.8/dist-packages (from nbconvert<6.0->notebook>=4.4.1->widgetsnbextension~=3.6.0->ipywidgets<9,>=7.5.0->bqplot) (0.7.1)\n",
            "Requirement already satisfied: entrypoints>=0.2.2 in /usr/local/lib/python3.8/dist-packages (from nbconvert<6.0->notebook>=4.4.1->widgetsnbextension~=3.6.0->ipywidgets<9,>=7.5.0->bqplot) (0.4)\n",
            "Requirement already satisfied: pandocfilters>=1.4.1 in /usr/local/lib/python3.8/dist-packages (from nbconvert<6.0->notebook>=4.4.1->widgetsnbextension~=3.6.0->ipywidgets<9,>=7.5.0->bqplot) (1.5.0)\n",
            "Requirement already satisfied: jsonschema>=2.6 in /usr/local/lib/python3.8/dist-packages (from nbformat->notebook>=4.4.1->widgetsnbextension~=3.6.0->ipywidgets<9,>=7.5.0->bqplot) (4.3.3)\n",
            "Requirement already satisfied: fastjsonschema in /usr/local/lib/python3.8/dist-packages (from nbformat->notebook>=4.4.1->widgetsnbextension~=3.6.0->ipywidgets<9,>=7.5.0->bqplot) (2.16.2)\n",
            "Requirement already satisfied: attrs>=17.4.0 in /usr/local/lib/python3.8/dist-packages (from jsonschema>=2.6->nbformat->notebook>=4.4.1->widgetsnbextension~=3.6.0->ipywidgets<9,>=7.5.0->bqplot) (22.1.0)\n",
            "Requirement already satisfied: importlib-resources>=1.4.0 in /usr/local/lib/python3.8/dist-packages (from jsonschema>=2.6->nbformat->notebook>=4.4.1->widgetsnbextension~=3.6.0->ipywidgets<9,>=7.5.0->bqplot) (5.10.0)\n",
            "Requirement already satisfied: pyrsistent!=0.17.0,!=0.17.1,!=0.17.2,>=0.14.0 in /usr/local/lib/python3.8/dist-packages (from jsonschema>=2.6->nbformat->notebook>=4.4.1->widgetsnbextension~=3.6.0->ipywidgets<9,>=7.5.0->bqplot) (0.19.2)\n",
            "Requirement already satisfied: zipp>=3.1.0 in /usr/local/lib/python3.8/dist-packages (from importlib-resources>=1.4.0->jsonschema>=2.6->nbformat->notebook>=4.4.1->widgetsnbextension~=3.6.0->ipywidgets<9,>=7.5.0->bqplot) (3.11.0)\n",
            "Requirement already satisfied: ptyprocess in /usr/local/lib/python3.8/dist-packages (from terminado>=0.8.1->notebook>=4.4.1->widgetsnbextension~=3.6.0->ipywidgets<9,>=7.5.0->bqplot) (0.7.0)\n",
            "Requirement already satisfied: webencodings in /usr/local/lib/python3.8/dist-packages (from bleach->nbconvert<6.0->notebook>=4.4.1->widgetsnbextension~=3.6.0->ipywidgets<9,>=7.5.0->bqplot) (0.5.1)\n"
          ]
        }
      ]
    },
    {
      "cell_type": "code",
      "source": [
        "pip install matplotlib"
      ],
      "metadata": {
        "colab": {
          "base_uri": "https://localhost:8080/"
        },
        "id": "d-hfzg-7NJzi",
        "outputId": "4bb05a63-b186-4ba9-dbe2-f64887e9b4d1"
      },
      "execution_count": 76,
      "outputs": [
        {
          "output_type": "stream",
          "name": "stdout",
          "text": [
            "Looking in indexes: https://pypi.org/simple, https://us-python.pkg.dev/colab-wheels/public/simple/\n",
            "Requirement already satisfied: matplotlib in /usr/local/lib/python3.8/dist-packages (3.1.1)\n",
            "Requirement already satisfied: python-dateutil>=2.1 in /usr/local/lib/python3.8/dist-packages (from matplotlib) (2.8.2)\n",
            "Requirement already satisfied: cycler>=0.10 in /usr/local/lib/python3.8/dist-packages (from matplotlib) (0.11.0)\n",
            "Requirement already satisfied: kiwisolver>=1.0.1 in /usr/local/lib/python3.8/dist-packages (from matplotlib) (1.4.4)\n",
            "Requirement already satisfied: pyparsing!=2.0.4,!=2.1.2,!=2.1.6,>=2.0.1 in /usr/local/lib/python3.8/dist-packages (from matplotlib) (3.0.9)\n",
            "Requirement already satisfied: numpy>=1.11 in /usr/local/lib/python3.8/dist-packages (from matplotlib) (1.23.5)\n",
            "Requirement already satisfied: six>=1.5 in /usr/local/lib/python3.8/dist-packages (from python-dateutil>=2.1->matplotlib) (1.15.0)\n"
          ]
        }
      ]
    },
    {
      "cell_type": "code",
      "source": [
        "pip install ipywidgets"
      ],
      "metadata": {
        "colab": {
          "base_uri": "https://localhost:8080/"
        },
        "id": "UluknCRlNNe5",
        "outputId": "b59942f6-db2d-49cb-8fc1-c03e0cb3146b"
      },
      "execution_count": 77,
      "outputs": [
        {
          "output_type": "stream",
          "name": "stdout",
          "text": [
            "Looking in indexes: https://pypi.org/simple, https://us-python.pkg.dev/colab-wheels/public/simple/\n",
            "Requirement already satisfied: ipywidgets in /usr/local/lib/python3.8/dist-packages (7.7.1)\n",
            "Requirement already satisfied: ipython-genutils~=0.2.0 in /usr/local/lib/python3.8/dist-packages (from ipywidgets) (0.2.0)\n",
            "Requirement already satisfied: jupyterlab-widgets>=1.0.0 in /usr/local/lib/python3.8/dist-packages (from ipywidgets) (3.0.3)\n",
            "Requirement already satisfied: ipython>=4.0.0 in /usr/local/lib/python3.8/dist-packages (from ipywidgets) (7.9.0)\n",
            "Requirement already satisfied: widgetsnbextension~=3.6.0 in /usr/local/lib/python3.8/dist-packages (from ipywidgets) (3.6.1)\n",
            "Requirement already satisfied: ipykernel>=4.5.1 in /usr/local/lib/python3.8/dist-packages (from ipywidgets) (5.3.4)\n",
            "Requirement already satisfied: traitlets>=4.3.1 in /usr/local/lib/python3.8/dist-packages (from ipywidgets) (5.6.0)\n",
            "Requirement already satisfied: jupyter-client in /usr/local/lib/python3.8/dist-packages (from ipykernel>=4.5.1->ipywidgets) (6.1.12)\n",
            "Requirement already satisfied: tornado>=4.2 in /usr/local/lib/python3.8/dist-packages (from ipykernel>=4.5.1->ipywidgets) (6.0.4)\n",
            "Requirement already satisfied: pexpect in /usr/local/lib/python3.8/dist-packages (from ipython>=4.0.0->ipywidgets) (4.8.0)\n",
            "Requirement already satisfied: setuptools>=18.5 in /usr/local/lib/python3.8/dist-packages (from ipython>=4.0.0->ipywidgets) (57.4.0)\n",
            "Requirement already satisfied: decorator in /usr/local/lib/python3.8/dist-packages (from ipython>=4.0.0->ipywidgets) (4.4.2)\n",
            "Requirement already satisfied: pickleshare in /usr/local/lib/python3.8/dist-packages (from ipython>=4.0.0->ipywidgets) (0.7.5)\n",
            "Requirement already satisfied: backcall in /usr/local/lib/python3.8/dist-packages (from ipython>=4.0.0->ipywidgets) (0.2.0)\n",
            "Requirement already satisfied: pygments in /usr/local/lib/python3.8/dist-packages (from ipython>=4.0.0->ipywidgets) (2.6.1)\n",
            "Requirement already satisfied: jedi>=0.10 in /usr/local/lib/python3.8/dist-packages (from ipython>=4.0.0->ipywidgets) (0.18.2)\n",
            "Requirement already satisfied: prompt-toolkit<2.1.0,>=2.0.0 in /usr/local/lib/python3.8/dist-packages (from ipython>=4.0.0->ipywidgets) (2.0.10)\n",
            "Requirement already satisfied: parso<0.9.0,>=0.8.0 in /usr/local/lib/python3.8/dist-packages (from jedi>=0.10->ipython>=4.0.0->ipywidgets) (0.8.3)\n",
            "Requirement already satisfied: six>=1.9.0 in /usr/local/lib/python3.8/dist-packages (from prompt-toolkit<2.1.0,>=2.0.0->ipython>=4.0.0->ipywidgets) (1.15.0)\n",
            "Requirement already satisfied: wcwidth in /usr/local/lib/python3.8/dist-packages (from prompt-toolkit<2.1.0,>=2.0.0->ipython>=4.0.0->ipywidgets) (0.2.5)\n",
            "Requirement already satisfied: notebook>=4.4.1 in /usr/local/lib/python3.8/dist-packages (from widgetsnbextension~=3.6.0->ipywidgets) (5.7.16)\n",
            "Requirement already satisfied: nbconvert<6.0 in /usr/local/lib/python3.8/dist-packages (from notebook>=4.4.1->widgetsnbextension~=3.6.0->ipywidgets) (5.6.1)\n",
            "Requirement already satisfied: prometheus-client in /usr/local/lib/python3.8/dist-packages (from notebook>=4.4.1->widgetsnbextension~=3.6.0->ipywidgets) (0.15.0)\n",
            "Requirement already satisfied: jupyter-core>=4.4.0 in /usr/local/lib/python3.8/dist-packages (from notebook>=4.4.1->widgetsnbextension~=3.6.0->ipywidgets) (5.1.0)\n",
            "Requirement already satisfied: nbformat in /usr/local/lib/python3.8/dist-packages (from notebook>=4.4.1->widgetsnbextension~=3.6.0->ipywidgets) (5.7.0)\n",
            "Requirement already satisfied: terminado>=0.8.1 in /usr/local/lib/python3.8/dist-packages (from notebook>=4.4.1->widgetsnbextension~=3.6.0->ipywidgets) (0.13.3)\n",
            "Requirement already satisfied: Send2Trash in /usr/local/lib/python3.8/dist-packages (from notebook>=4.4.1->widgetsnbextension~=3.6.0->ipywidgets) (1.8.0)\n",
            "Requirement already satisfied: jinja2<=3.0.0 in /usr/local/lib/python3.8/dist-packages (from notebook>=4.4.1->widgetsnbextension~=3.6.0->ipywidgets) (2.11.3)\n",
            "Requirement already satisfied: pyzmq>=17 in /usr/local/lib/python3.8/dist-packages (from notebook>=4.4.1->widgetsnbextension~=3.6.0->ipywidgets) (23.2.1)\n",
            "Requirement already satisfied: MarkupSafe>=0.23 in /usr/local/lib/python3.8/dist-packages (from jinja2<=3.0.0->notebook>=4.4.1->widgetsnbextension~=3.6.0->ipywidgets) (2.0.1)\n",
            "Requirement already satisfied: python-dateutil>=2.1 in /usr/local/lib/python3.8/dist-packages (from jupyter-client->ipykernel>=4.5.1->ipywidgets) (2.8.2)\n",
            "Requirement already satisfied: platformdirs>=2.5 in /usr/local/lib/python3.8/dist-packages (from jupyter-core>=4.4.0->notebook>=4.4.1->widgetsnbextension~=3.6.0->ipywidgets) (2.5.4)\n",
            "Requirement already satisfied: entrypoints>=0.2.2 in /usr/local/lib/python3.8/dist-packages (from nbconvert<6.0->notebook>=4.4.1->widgetsnbextension~=3.6.0->ipywidgets) (0.4)\n",
            "Requirement already satisfied: pandocfilters>=1.4.1 in /usr/local/lib/python3.8/dist-packages (from nbconvert<6.0->notebook>=4.4.1->widgetsnbextension~=3.6.0->ipywidgets) (1.5.0)\n",
            "Requirement already satisfied: bleach in /usr/local/lib/python3.8/dist-packages (from nbconvert<6.0->notebook>=4.4.1->widgetsnbextension~=3.6.0->ipywidgets) (5.0.1)\n",
            "Requirement already satisfied: defusedxml in /usr/local/lib/python3.8/dist-packages (from nbconvert<6.0->notebook>=4.4.1->widgetsnbextension~=3.6.0->ipywidgets) (0.7.1)\n",
            "Requirement already satisfied: mistune<2,>=0.8.1 in /usr/local/lib/python3.8/dist-packages (from nbconvert<6.0->notebook>=4.4.1->widgetsnbextension~=3.6.0->ipywidgets) (0.8.4)\n",
            "Requirement already satisfied: testpath in /usr/local/lib/python3.8/dist-packages (from nbconvert<6.0->notebook>=4.4.1->widgetsnbextension~=3.6.0->ipywidgets) (0.6.0)\n",
            "Requirement already satisfied: jsonschema>=2.6 in /usr/local/lib/python3.8/dist-packages (from nbformat->notebook>=4.4.1->widgetsnbextension~=3.6.0->ipywidgets) (4.3.3)\n",
            "Requirement already satisfied: fastjsonschema in /usr/local/lib/python3.8/dist-packages (from nbformat->notebook>=4.4.1->widgetsnbextension~=3.6.0->ipywidgets) (2.16.2)\n",
            "Requirement already satisfied: attrs>=17.4.0 in /usr/local/lib/python3.8/dist-packages (from jsonschema>=2.6->nbformat->notebook>=4.4.1->widgetsnbextension~=3.6.0->ipywidgets) (22.1.0)\n",
            "Requirement already satisfied: importlib-resources>=1.4.0 in /usr/local/lib/python3.8/dist-packages (from jsonschema>=2.6->nbformat->notebook>=4.4.1->widgetsnbextension~=3.6.0->ipywidgets) (5.10.0)\n",
            "Requirement already satisfied: pyrsistent!=0.17.0,!=0.17.1,!=0.17.2,>=0.14.0 in /usr/local/lib/python3.8/dist-packages (from jsonschema>=2.6->nbformat->notebook>=4.4.1->widgetsnbextension~=3.6.0->ipywidgets) (0.19.2)\n",
            "Requirement already satisfied: zipp>=3.1.0 in /usr/local/lib/python3.8/dist-packages (from importlib-resources>=1.4.0->jsonschema>=2.6->nbformat->notebook>=4.4.1->widgetsnbextension~=3.6.0->ipywidgets) (3.11.0)\n",
            "Requirement already satisfied: ptyprocess in /usr/local/lib/python3.8/dist-packages (from terminado>=0.8.1->notebook>=4.4.1->widgetsnbextension~=3.6.0->ipywidgets) (0.7.0)\n",
            "Requirement already satisfied: webencodings in /usr/local/lib/python3.8/dist-packages (from bleach->nbconvert<6.0->notebook>=4.4.1->widgetsnbextension~=3.6.0->ipywidgets) (0.5.1)\n"
          ]
        }
      ]
    },
    {
      "cell_type": "code",
      "source": [
        "pip install osmnx"
      ],
      "metadata": {
        "colab": {
          "base_uri": "https://localhost:8080/",
          "height": 802
        },
        "id": "5stY1saJNPMV",
        "outputId": "9104b1e7-4508-48f7-be97-d1aa412549e2"
      },
      "execution_count": 78,
      "outputs": [
        {
          "output_type": "stream",
          "name": "stdout",
          "text": [
            "Looking in indexes: https://pypi.org/simple, https://us-python.pkg.dev/colab-wheels/public/simple/\n",
            "Requirement already satisfied: osmnx in /usr/local/lib/python3.8/dist-packages (1.2.2)\n",
            "Requirement already satisfied: pandas>=1.4 in /usr/local/lib/python3.8/dist-packages (from osmnx) (1.5.2)\n",
            "Requirement already satisfied: requests>=2.28 in /usr/local/lib/python3.8/dist-packages (from osmnx) (2.28.1)\n",
            "Requirement already satisfied: Shapely<2.0,>=1.8 in /usr/local/lib/python3.8/dist-packages (from osmnx) (1.8.5.post1)\n",
            "Requirement already satisfied: numpy>=1.22 in /usr/local/lib/python3.8/dist-packages (from osmnx) (1.23.5)\n",
            "Requirement already satisfied: networkx>=2.8 in /usr/local/lib/python3.8/dist-packages (from osmnx) (2.8.8)\n",
            "Requirement already satisfied: geopandas>=0.11 in /usr/local/lib/python3.8/dist-packages (from osmnx) (0.12.2)\n",
            "Requirement already satisfied: pyproj>=3.3 in /usr/local/lib/python3.8/dist-packages (from osmnx) (3.4.1)\n",
            "Requirement already satisfied: Rtree>=1.0 in /usr/local/lib/python3.8/dist-packages (from osmnx) (1.0.1)\n",
            "Collecting matplotlib>=3.5\n",
            "  Using cached matplotlib-3.6.2-cp38-cp38-manylinux_2_12_x86_64.manylinux2010_x86_64.whl (9.4 MB)\n",
            "Requirement already satisfied: packaging in /usr/local/lib/python3.8/dist-packages (from geopandas>=0.11->osmnx) (21.3)\n",
            "Requirement already satisfied: fiona>=1.8 in /usr/local/lib/python3.8/dist-packages (from geopandas>=0.11->osmnx) (1.8.22)\n",
            "Requirement already satisfied: certifi in /usr/local/lib/python3.8/dist-packages (from fiona>=1.8->geopandas>=0.11->osmnx) (2022.9.24)\n",
            "Requirement already satisfied: setuptools in /usr/local/lib/python3.8/dist-packages (from fiona>=1.8->geopandas>=0.11->osmnx) (57.4.0)\n",
            "Requirement already satisfied: click-plugins>=1.0 in /usr/local/lib/python3.8/dist-packages (from fiona>=1.8->geopandas>=0.11->osmnx) (1.1.1)\n",
            "Requirement already satisfied: munch in /usr/local/lib/python3.8/dist-packages (from fiona>=1.8->geopandas>=0.11->osmnx) (2.5.0)\n",
            "Requirement already satisfied: cligj>=0.5 in /usr/local/lib/python3.8/dist-packages (from fiona>=1.8->geopandas>=0.11->osmnx) (0.7.2)\n",
            "Requirement already satisfied: six>=1.7 in /usr/local/lib/python3.8/dist-packages (from fiona>=1.8->geopandas>=0.11->osmnx) (1.15.0)\n",
            "Requirement already satisfied: attrs>=17 in /usr/local/lib/python3.8/dist-packages (from fiona>=1.8->geopandas>=0.11->osmnx) (22.1.0)\n",
            "Requirement already satisfied: click>=4.0 in /usr/local/lib/python3.8/dist-packages (from fiona>=1.8->geopandas>=0.11->osmnx) (7.1.2)\n",
            "Requirement already satisfied: contourpy>=1.0.1 in /usr/local/lib/python3.8/dist-packages (from matplotlib>=3.5->osmnx) (1.0.6)\n",
            "Requirement already satisfied: pillow>=6.2.0 in /usr/local/lib/python3.8/dist-packages (from matplotlib>=3.5->osmnx) (7.1.2)\n",
            "Requirement already satisfied: python-dateutil>=2.7 in /usr/local/lib/python3.8/dist-packages (from matplotlib>=3.5->osmnx) (2.8.2)\n",
            "Requirement already satisfied: fonttools>=4.22.0 in /usr/local/lib/python3.8/dist-packages (from matplotlib>=3.5->osmnx) (4.38.0)\n",
            "Requirement already satisfied: cycler>=0.10 in /usr/local/lib/python3.8/dist-packages (from matplotlib>=3.5->osmnx) (0.11.0)\n",
            "Requirement already satisfied: kiwisolver>=1.0.1 in /usr/local/lib/python3.8/dist-packages (from matplotlib>=3.5->osmnx) (1.4.4)\n",
            "Requirement already satisfied: pyparsing>=2.2.1 in /usr/local/lib/python3.8/dist-packages (from matplotlib>=3.5->osmnx) (3.0.9)\n",
            "Requirement already satisfied: pytz>=2020.1 in /usr/local/lib/python3.8/dist-packages (from pandas>=1.4->osmnx) (2022.6)\n",
            "Requirement already satisfied: idna<4,>=2.5 in /usr/local/lib/python3.8/dist-packages (from requests>=2.28->osmnx) (2.10)\n",
            "Requirement already satisfied: urllib3<1.27,>=1.21.1 in /usr/local/lib/python3.8/dist-packages (from requests>=2.28->osmnx) (1.24.3)\n",
            "Requirement already satisfied: charset-normalizer<3,>=2 in /usr/local/lib/python3.8/dist-packages (from requests>=2.28->osmnx) (2.1.1)\n",
            "Installing collected packages: matplotlib\n",
            "  Attempting uninstall: matplotlib\n",
            "    Found existing installation: matplotlib 3.1.1\n",
            "    Uninstalling matplotlib-3.1.1:\n",
            "      Successfully uninstalled matplotlib-3.1.1\n",
            "Successfully installed matplotlib-3.6.2\n"
          ]
        },
        {
          "output_type": "display_data",
          "data": {
            "application/vnd.colab-display-data+json": {
              "pip_warning": {
                "packages": [
                  "matplotlib",
                  "mpl_toolkits"
                ]
              }
            }
          },
          "metadata": {}
        }
      ]
    },
    {
      "cell_type": "code",
      "source": [
        "pip install matplotlib"
      ],
      "metadata": {
        "colab": {
          "base_uri": "https://localhost:8080/"
        },
        "id": "Ue7LMXrNj6cX",
        "outputId": "29bd05ec-1ce6-405f-93cd-81c8c7f06db1"
      },
      "execution_count": 79,
      "outputs": [
        {
          "output_type": "stream",
          "name": "stdout",
          "text": [
            "Looking in indexes: https://pypi.org/simple, https://us-python.pkg.dev/colab-wheels/public/simple/\n",
            "Requirement already satisfied: matplotlib in /usr/local/lib/python3.8/dist-packages (3.6.2)\n",
            "Requirement already satisfied: numpy>=1.19 in /usr/local/lib/python3.8/dist-packages (from matplotlib) (1.23.5)\n",
            "Requirement already satisfied: pillow>=6.2.0 in /usr/local/lib/python3.8/dist-packages (from matplotlib) (7.1.2)\n",
            "Requirement already satisfied: packaging>=20.0 in /usr/local/lib/python3.8/dist-packages (from matplotlib) (21.3)\n",
            "Requirement already satisfied: cycler>=0.10 in /usr/local/lib/python3.8/dist-packages (from matplotlib) (0.11.0)\n",
            "Requirement already satisfied: pyparsing>=2.2.1 in /usr/local/lib/python3.8/dist-packages (from matplotlib) (3.0.9)\n",
            "Requirement already satisfied: python-dateutil>=2.7 in /usr/local/lib/python3.8/dist-packages (from matplotlib) (2.8.2)\n",
            "Requirement already satisfied: kiwisolver>=1.0.1 in /usr/local/lib/python3.8/dist-packages (from matplotlib) (1.4.4)\n",
            "Requirement already satisfied: fonttools>=4.22.0 in /usr/local/lib/python3.8/dist-packages (from matplotlib) (4.38.0)\n",
            "Requirement already satisfied: contourpy>=1.0.1 in /usr/local/lib/python3.8/dist-packages (from matplotlib) (1.0.6)\n",
            "Requirement already satisfied: six>=1.5 in /usr/local/lib/python3.8/dist-packages (from python-dateutil>=2.7->matplotlib) (1.15.0)\n"
          ]
        }
      ]
    },
    {
      "cell_type": "code",
      "source": [
        "pip install plotly==5.11.0"
      ],
      "metadata": {
        "colab": {
          "base_uri": "https://localhost:8080/"
        },
        "id": "HAziuYpiF9QT",
        "outputId": "8faa4b01-e061-44b8-a9a0-79f515256bee"
      },
      "execution_count": 80,
      "outputs": [
        {
          "output_type": "stream",
          "name": "stdout",
          "text": [
            "Looking in indexes: https://pypi.org/simple, https://us-python.pkg.dev/colab-wheels/public/simple/\n",
            "Requirement already satisfied: plotly==5.11.0 in /usr/local/lib/python3.8/dist-packages (5.11.0)\n",
            "Requirement already satisfied: tenacity>=6.2.0 in /usr/local/lib/python3.8/dist-packages (from plotly==5.11.0) (8.1.0)\n"
          ]
        }
      ]
    },
    {
      "cell_type": "code",
      "source": [
        "import pandas as pd\n",
        "import matplotlib.pyplot as plt \n",
        "import numpy as np \n",
        "import geopandas as gpd\n",
        "import requests\n",
        "import bqplot\n",
        "import ipywidgets\n",
        "import ipywidgets as widgets\n",
        "import plotly.express as px\n",
        "import plotly.graph_objects as go\n",
        "import osmnx as ox\n",
        "from shapely.geometry import Point\n",
        "from sodapy import Socrata"
      ],
      "metadata": {
        "id": "Gg4BNk4GNbhh"
      },
      "execution_count": 81,
      "outputs": []
    },
    {
      "cell_type": "code",
      "source": [
        "#button code\n",
        "#this creates a function getdata - getdata will collect the data from the source\n",
        "#on button clicked is what is called when the button is clicked \n",
        "\n",
        "out = ipywidgets.Output(laylout = {'border': '1px solid black'})\n",
        "data = []\n",
        "def getdata(): \n",
        "\n",
        "#Drishti code: \n",
        "\n",
        "  # Unauthenticated client only works with public data sets. Note 'None'\n",
        "# in place of application token, and no username or password:\n",
        "  client = Socrata(\"data.cityofnewyork.us\", None)\n",
        "\n",
        "# Example authenticated client (needed for non-public datasets):\n",
        "# client = Socrata(data.cityofnewyork.us,\n",
        "#                  MyAppToken,\n",
        "#                  username=\"user@example.com\",\n",
        "#                  password=\"AFakePassword\")\n",
        "\n",
        "# First 2000 results, returned as JSON from API / converted to Python list of\n",
        "# dictionaries by sodapy.\n",
        "  results = client.get(\"4dx7-axux\", limit=2000)\n",
        "\n",
        "# Convert to pandas DataFrame\n",
        "  results_df = pd.DataFrame.from_records(results)\n",
        "\n",
        "\n",
        "#Sam code:\n",
        "  for i in results_df:\n",
        "    data.append(results_df[i])\n",
        "  return results_df\n",
        "  \n",
        "#sam\n",
        "def on_button_clicked(b):\n",
        "  getdata()\n",
        "  with out:\n",
        "    print('button clicked')"
      ],
      "metadata": {
        "id": "EJyaLQtHaSs3"
      },
      "execution_count": 82,
      "outputs": []
    },
    {
      "cell_type": "code",
      "source": [
        "#create a button that runs getdata() (sam)\n",
        "button = ipywidgets.Button(\n",
        "    description = 'Get Data', \n",
        "    disabled = False, \n",
        "    button_style = '', \n",
        "    tooltip = 'Get Data',\n",
        "    icon = 'check', \n",
        ")\n",
        "display(button, out)\n",
        "\n",
        "button.on_click(on_button_clicked)"
      ],
      "metadata": {
        "colab": {
          "base_uri": "https://localhost:8080/",
          "height": 49,
          "referenced_widgets": [
            "ac2e5380766e440194dc552f4055e8f2",
            "022379c603cd49c7bb9a181de9b4277e",
            "0ba84b819aae485eba2aa365c42e6a75",
            "a1e110ec98de45a68997e2d9fe76f1bc",
            "a62b7dbedc2a466f86a10eba6ee1b527"
          ]
        },
        "id": "SurxnkSlh451",
        "outputId": "cb3eebd3-bee6-4b52-b3cf-d381eb7d7dc8"
      },
      "execution_count": 86,
      "outputs": [
        {
          "output_type": "display_data",
          "data": {
            "text/plain": [
              "Button(description='Get Data', icon='check', style=ButtonStyle(), tooltip='Get Data')"
            ],
            "application/vnd.jupyter.widget-view+json": {
              "version_major": 2,
              "version_minor": 0,
              "model_id": "ac2e5380766e440194dc552f4055e8f2"
            }
          },
          "metadata": {
            "application/vnd.jupyter.widget-view+json": {
              "colab": {
                "custom_widget_manager": {
                  "url": "https://ssl.gstatic.com/colaboratory-static/widgets/colab-cdn-widget-manager/d2e234f7cc04bf79/manager.min.js"
                }
              }
            }
          }
        },
        {
          "output_type": "display_data",
          "data": {
            "text/plain": [
              "Output()"
            ],
            "application/vnd.jupyter.widget-view+json": {
              "version_major": 2,
              "version_minor": 0,
              "model_id": "a1e110ec98de45a68997e2d9fe76f1bc"
            }
          },
          "metadata": {
            "application/vnd.jupyter.widget-view+json": {
              "colab": {
                "custom_widget_manager": {
                  "url": "https://ssl.gstatic.com/colaboratory-static/widgets/colab-cdn-widget-manager/d2e234f7cc04bf79/manager.min.js"
                }
              }
            }
          }
        }
      ]
    },
    {
      "cell_type": "code",
      "source": [
        "#this is the code that is making the data collected after clicking the button into a readable dataframe (sam)\n",
        "d = pd.DataFrame(data)\n",
        "df = pd.DataFrame.transpose(d)\n",
        "df\n",
        "#make sure to click get data before running the rest of the code!"
      ],
      "metadata": {
        "id": "zKa5GDUoiS-b",
        "colab": {
          "base_uri": "https://localhost:8080/",
          "height": 922
        },
        "outputId": "60b7c820-8d2b-41ba-e123-e92e080ecd89"
      },
      "execution_count": 87,
      "outputs": [
        {
          "output_type": "execute_result",
          "data": {
            "text/plain": [
              "        borough             restaurantname seatingchoice  \\\n",
              "0     Manhattan                Oscar Wilde          both   \n",
              "1     Manhattan        LA RUBIA RESTAURANT          both   \n",
              "2     Manhattan               Thai Sliders      sidewalk   \n",
              "3      Brooklyn                      Otway          both   \n",
              "4      Brooklyn  WILLIAMSBURG THAI CUISINE          both   \n",
              "...         ...                        ...           ...   \n",
              "1995  Manhattan   Totto Ramen Midtown East      sidewalk   \n",
              "1996     Queens           Bund on Broadway          both   \n",
              "1997   Brooklyn                 SALVATORES       roadway   \n",
              "1998  Manhattan                LA VILLETTA          both   \n",
              "1999     Queens                      Blend          both   \n",
              "\n",
              "                     legalbusinessname       businessaddress  \\\n",
              "0                   Camelot Castle LLC      45  West 27th st   \n",
              "1              LA RUBIA RESTAURANT INC         3517 BROADWAY   \n",
              "2                       Silom Thai Inc         150   8th Ave   \n",
              "3                     St james 930 LLC     930 Fulton street   \n",
              "4     WILLIAMSBURG THAI CUISINE NY INC    212 BEDFORD AVENUE   \n",
              "...                                ...                   ...   \n",
              "1995            New Season Foods Corp.  248 East 52nd Street   \n",
              "1996  Bund on Broadway & Company, Inc.      25 - 08 Broadway   \n",
              "1997      SALVATORE'S PIZZERIA NYC LLC          291 3 AVENUE   \n",
              "1998                        JONILU LLC  398 EAST   52 STREET   \n",
              "1999               Cullen Partners LLC     47-04 Vernon Blvd   \n",
              "\n",
              "     restaurantinspectionid isroadwaycompliant              inspectedon  \\\n",
              "0                     72891      Non-Compliant  2021-12-20T16:06:58.000   \n",
              "1                     72892    For HIQA Review  2021-12-20T16:18:42.000   \n",
              "2                     72893      Non-Compliant  2021-12-20T16:35:41.000   \n",
              "3                     72894   Cease and Desist  2021-12-20T16:38:45.000   \n",
              "4                     72896          Compliant  2021-12-20T16:52:41.000   \n",
              "...                     ...                ...                      ...   \n",
              "1995                  75042   Cease and Desist  2022-02-18T12:56:14.000   \n",
              "1996                  75043   Cease and Desist  2022-02-18T13:05:47.000   \n",
              "1997                  75044      Non-Compliant  2022-02-18T13:37:08.000   \n",
              "1998                  75045   Cease and Desist  2022-02-18T13:46:58.000   \n",
              "1999                  75046   Cease and Desist  2022-02-18T13:49:27.000   \n",
              "\n",
              "     agencycode postcode   latitude   longitude communityboard  \\\n",
              "0           DOT    10001  40.744876  -73.989657              5   \n",
              "1           DOT    10031  40.825863  -73.950874              9   \n",
              "2           DOT    10011  40.741906  -74.000945              4   \n",
              "3           DOT    11238  40.682833  -73.963833              2   \n",
              "4           DOT    11249  40.716913  -73.958728              1   \n",
              "...         ...      ...        ...         ...            ...   \n",
              "1995        DOT    10022  40.756603  -73.968749              6   \n",
              "1996        DOT    11106  40.763304  -73.928214              1   \n",
              "1997        DOT    11215  40.676956  -73.986405              6   \n",
              "1998        DOT    10022  40.754988  -73.964927              6   \n",
              "1999        DOT    11101  40.745295  -73.953254              2   \n",
              "\n",
              "     councildistrict censustract      bin         bbl  \\\n",
              "0                  3          58  1015677  1008290011   \n",
              "1                  7         229  1062369  1020910032   \n",
              "2                  3          81  1013845  1007670002   \n",
              "3                 35         201  3335112  3020130038   \n",
              "4                 33         553  3062192  3023350026   \n",
              "...              ...         ...      ...         ...   \n",
              "1995               4          98  1038490  1013250132   \n",
              "1996              22          53  4007156  4005800020   \n",
              "1997              39         119  3007692  3004540013   \n",
              "1998               4        8603  1081200  1013630047   \n",
              "1999              26           7  4000085  4000290046   \n",
              "\n",
              "                                             nta skippedreason  \n",
              "0     Hudson Yards-Chelsea-Flatiron-Union Square           NaN  \n",
              "1                               Hamilton Heights           NaN  \n",
              "2     Hudson Yards-Chelsea-Flatiron-Union Square           NaN  \n",
              "3                                   Clinton Hill           NaN  \n",
              "4                          North Side-South Side           NaN  \n",
              "...                                          ...           ...  \n",
              "1995                     Turtle Bay-East Midtown           NaN  \n",
              "1996                                     Astoria           NaN  \n",
              "1997                          Park Slope-Gowanus           NaN  \n",
              "1998                     Turtle Bay-East Midtown           NaN  \n",
              "1999        Hunters Point-Sunnyside-West Maspeth           NaN  \n",
              "\n",
              "[2000 rows x 19 columns]"
            ],
            "text/html": [
              "\n",
              "  <div id=\"df-22a014ac-7c89-4f5a-8823-6596775436f5\">\n",
              "    <div class=\"colab-df-container\">\n",
              "      <div>\n",
              "<style scoped>\n",
              "    .dataframe tbody tr th:only-of-type {\n",
              "        vertical-align: middle;\n",
              "    }\n",
              "\n",
              "    .dataframe tbody tr th {\n",
              "        vertical-align: top;\n",
              "    }\n",
              "\n",
              "    .dataframe thead th {\n",
              "        text-align: right;\n",
              "    }\n",
              "</style>\n",
              "<table border=\"1\" class=\"dataframe\">\n",
              "  <thead>\n",
              "    <tr style=\"text-align: right;\">\n",
              "      <th></th>\n",
              "      <th>borough</th>\n",
              "      <th>restaurantname</th>\n",
              "      <th>seatingchoice</th>\n",
              "      <th>legalbusinessname</th>\n",
              "      <th>businessaddress</th>\n",
              "      <th>restaurantinspectionid</th>\n",
              "      <th>isroadwaycompliant</th>\n",
              "      <th>inspectedon</th>\n",
              "      <th>agencycode</th>\n",
              "      <th>postcode</th>\n",
              "      <th>latitude</th>\n",
              "      <th>longitude</th>\n",
              "      <th>communityboard</th>\n",
              "      <th>councildistrict</th>\n",
              "      <th>censustract</th>\n",
              "      <th>bin</th>\n",
              "      <th>bbl</th>\n",
              "      <th>nta</th>\n",
              "      <th>skippedreason</th>\n",
              "    </tr>\n",
              "  </thead>\n",
              "  <tbody>\n",
              "    <tr>\n",
              "      <th>0</th>\n",
              "      <td>Manhattan</td>\n",
              "      <td>Oscar Wilde</td>\n",
              "      <td>both</td>\n",
              "      <td>Camelot Castle LLC</td>\n",
              "      <td>45  West 27th st</td>\n",
              "      <td>72891</td>\n",
              "      <td>Non-Compliant</td>\n",
              "      <td>2021-12-20T16:06:58.000</td>\n",
              "      <td>DOT</td>\n",
              "      <td>10001</td>\n",
              "      <td>40.744876</td>\n",
              "      <td>-73.989657</td>\n",
              "      <td>5</td>\n",
              "      <td>3</td>\n",
              "      <td>58</td>\n",
              "      <td>1015677</td>\n",
              "      <td>1008290011</td>\n",
              "      <td>Hudson Yards-Chelsea-Flatiron-Union Square</td>\n",
              "      <td>NaN</td>\n",
              "    </tr>\n",
              "    <tr>\n",
              "      <th>1</th>\n",
              "      <td>Manhattan</td>\n",
              "      <td>LA RUBIA RESTAURANT</td>\n",
              "      <td>both</td>\n",
              "      <td>LA RUBIA RESTAURANT INC</td>\n",
              "      <td>3517 BROADWAY</td>\n",
              "      <td>72892</td>\n",
              "      <td>For HIQA Review</td>\n",
              "      <td>2021-12-20T16:18:42.000</td>\n",
              "      <td>DOT</td>\n",
              "      <td>10031</td>\n",
              "      <td>40.825863</td>\n",
              "      <td>-73.950874</td>\n",
              "      <td>9</td>\n",
              "      <td>7</td>\n",
              "      <td>229</td>\n",
              "      <td>1062369</td>\n",
              "      <td>1020910032</td>\n",
              "      <td>Hamilton Heights</td>\n",
              "      <td>NaN</td>\n",
              "    </tr>\n",
              "    <tr>\n",
              "      <th>2</th>\n",
              "      <td>Manhattan</td>\n",
              "      <td>Thai Sliders</td>\n",
              "      <td>sidewalk</td>\n",
              "      <td>Silom Thai Inc</td>\n",
              "      <td>150   8th Ave</td>\n",
              "      <td>72893</td>\n",
              "      <td>Non-Compliant</td>\n",
              "      <td>2021-12-20T16:35:41.000</td>\n",
              "      <td>DOT</td>\n",
              "      <td>10011</td>\n",
              "      <td>40.741906</td>\n",
              "      <td>-74.000945</td>\n",
              "      <td>4</td>\n",
              "      <td>3</td>\n",
              "      <td>81</td>\n",
              "      <td>1013845</td>\n",
              "      <td>1007670002</td>\n",
              "      <td>Hudson Yards-Chelsea-Flatiron-Union Square</td>\n",
              "      <td>NaN</td>\n",
              "    </tr>\n",
              "    <tr>\n",
              "      <th>3</th>\n",
              "      <td>Brooklyn</td>\n",
              "      <td>Otway</td>\n",
              "      <td>both</td>\n",
              "      <td>St james 930 LLC</td>\n",
              "      <td>930 Fulton street</td>\n",
              "      <td>72894</td>\n",
              "      <td>Cease and Desist</td>\n",
              "      <td>2021-12-20T16:38:45.000</td>\n",
              "      <td>DOT</td>\n",
              "      <td>11238</td>\n",
              "      <td>40.682833</td>\n",
              "      <td>-73.963833</td>\n",
              "      <td>2</td>\n",
              "      <td>35</td>\n",
              "      <td>201</td>\n",
              "      <td>3335112</td>\n",
              "      <td>3020130038</td>\n",
              "      <td>Clinton Hill</td>\n",
              "      <td>NaN</td>\n",
              "    </tr>\n",
              "    <tr>\n",
              "      <th>4</th>\n",
              "      <td>Brooklyn</td>\n",
              "      <td>WILLIAMSBURG THAI CUISINE</td>\n",
              "      <td>both</td>\n",
              "      <td>WILLIAMSBURG THAI CUISINE NY INC</td>\n",
              "      <td>212 BEDFORD AVENUE</td>\n",
              "      <td>72896</td>\n",
              "      <td>Compliant</td>\n",
              "      <td>2021-12-20T16:52:41.000</td>\n",
              "      <td>DOT</td>\n",
              "      <td>11249</td>\n",
              "      <td>40.716913</td>\n",
              "      <td>-73.958728</td>\n",
              "      <td>1</td>\n",
              "      <td>33</td>\n",
              "      <td>553</td>\n",
              "      <td>3062192</td>\n",
              "      <td>3023350026</td>\n",
              "      <td>North Side-South Side</td>\n",
              "      <td>NaN</td>\n",
              "    </tr>\n",
              "    <tr>\n",
              "      <th>...</th>\n",
              "      <td>...</td>\n",
              "      <td>...</td>\n",
              "      <td>...</td>\n",
              "      <td>...</td>\n",
              "      <td>...</td>\n",
              "      <td>...</td>\n",
              "      <td>...</td>\n",
              "      <td>...</td>\n",
              "      <td>...</td>\n",
              "      <td>...</td>\n",
              "      <td>...</td>\n",
              "      <td>...</td>\n",
              "      <td>...</td>\n",
              "      <td>...</td>\n",
              "      <td>...</td>\n",
              "      <td>...</td>\n",
              "      <td>...</td>\n",
              "      <td>...</td>\n",
              "      <td>...</td>\n",
              "    </tr>\n",
              "    <tr>\n",
              "      <th>1995</th>\n",
              "      <td>Manhattan</td>\n",
              "      <td>Totto Ramen Midtown East</td>\n",
              "      <td>sidewalk</td>\n",
              "      <td>New Season Foods Corp.</td>\n",
              "      <td>248 East 52nd Street</td>\n",
              "      <td>75042</td>\n",
              "      <td>Cease and Desist</td>\n",
              "      <td>2022-02-18T12:56:14.000</td>\n",
              "      <td>DOT</td>\n",
              "      <td>10022</td>\n",
              "      <td>40.756603</td>\n",
              "      <td>-73.968749</td>\n",
              "      <td>6</td>\n",
              "      <td>4</td>\n",
              "      <td>98</td>\n",
              "      <td>1038490</td>\n",
              "      <td>1013250132</td>\n",
              "      <td>Turtle Bay-East Midtown</td>\n",
              "      <td>NaN</td>\n",
              "    </tr>\n",
              "    <tr>\n",
              "      <th>1996</th>\n",
              "      <td>Queens</td>\n",
              "      <td>Bund on Broadway</td>\n",
              "      <td>both</td>\n",
              "      <td>Bund on Broadway &amp; Company, Inc.</td>\n",
              "      <td>25 - 08 Broadway</td>\n",
              "      <td>75043</td>\n",
              "      <td>Cease and Desist</td>\n",
              "      <td>2022-02-18T13:05:47.000</td>\n",
              "      <td>DOT</td>\n",
              "      <td>11106</td>\n",
              "      <td>40.763304</td>\n",
              "      <td>-73.928214</td>\n",
              "      <td>1</td>\n",
              "      <td>22</td>\n",
              "      <td>53</td>\n",
              "      <td>4007156</td>\n",
              "      <td>4005800020</td>\n",
              "      <td>Astoria</td>\n",
              "      <td>NaN</td>\n",
              "    </tr>\n",
              "    <tr>\n",
              "      <th>1997</th>\n",
              "      <td>Brooklyn</td>\n",
              "      <td>SALVATORES</td>\n",
              "      <td>roadway</td>\n",
              "      <td>SALVATORE'S PIZZERIA NYC LLC</td>\n",
              "      <td>291 3 AVENUE</td>\n",
              "      <td>75044</td>\n",
              "      <td>Non-Compliant</td>\n",
              "      <td>2022-02-18T13:37:08.000</td>\n",
              "      <td>DOT</td>\n",
              "      <td>11215</td>\n",
              "      <td>40.676956</td>\n",
              "      <td>-73.986405</td>\n",
              "      <td>6</td>\n",
              "      <td>39</td>\n",
              "      <td>119</td>\n",
              "      <td>3007692</td>\n",
              "      <td>3004540013</td>\n",
              "      <td>Park Slope-Gowanus</td>\n",
              "      <td>NaN</td>\n",
              "    </tr>\n",
              "    <tr>\n",
              "      <th>1998</th>\n",
              "      <td>Manhattan</td>\n",
              "      <td>LA VILLETTA</td>\n",
              "      <td>both</td>\n",
              "      <td>JONILU LLC</td>\n",
              "      <td>398 EAST   52 STREET</td>\n",
              "      <td>75045</td>\n",
              "      <td>Cease and Desist</td>\n",
              "      <td>2022-02-18T13:46:58.000</td>\n",
              "      <td>DOT</td>\n",
              "      <td>10022</td>\n",
              "      <td>40.754988</td>\n",
              "      <td>-73.964927</td>\n",
              "      <td>6</td>\n",
              "      <td>4</td>\n",
              "      <td>8603</td>\n",
              "      <td>1081200</td>\n",
              "      <td>1013630047</td>\n",
              "      <td>Turtle Bay-East Midtown</td>\n",
              "      <td>NaN</td>\n",
              "    </tr>\n",
              "    <tr>\n",
              "      <th>1999</th>\n",
              "      <td>Queens</td>\n",
              "      <td>Blend</td>\n",
              "      <td>both</td>\n",
              "      <td>Cullen Partners LLC</td>\n",
              "      <td>47-04 Vernon Blvd</td>\n",
              "      <td>75046</td>\n",
              "      <td>Cease and Desist</td>\n",
              "      <td>2022-02-18T13:49:27.000</td>\n",
              "      <td>DOT</td>\n",
              "      <td>11101</td>\n",
              "      <td>40.745295</td>\n",
              "      <td>-73.953254</td>\n",
              "      <td>2</td>\n",
              "      <td>26</td>\n",
              "      <td>7</td>\n",
              "      <td>4000085</td>\n",
              "      <td>4000290046</td>\n",
              "      <td>Hunters Point-Sunnyside-West Maspeth</td>\n",
              "      <td>NaN</td>\n",
              "    </tr>\n",
              "  </tbody>\n",
              "</table>\n",
              "<p>2000 rows × 19 columns</p>\n",
              "</div>\n",
              "      <button class=\"colab-df-convert\" onclick=\"convertToInteractive('df-22a014ac-7c89-4f5a-8823-6596775436f5')\"\n",
              "              title=\"Convert this dataframe to an interactive table.\"\n",
              "              style=\"display:none;\">\n",
              "        \n",
              "  <svg xmlns=\"http://www.w3.org/2000/svg\" height=\"24px\"viewBox=\"0 0 24 24\"\n",
              "       width=\"24px\">\n",
              "    <path d=\"M0 0h24v24H0V0z\" fill=\"none\"/>\n",
              "    <path d=\"M18.56 5.44l.94 2.06.94-2.06 2.06-.94-2.06-.94-.94-2.06-.94 2.06-2.06.94zm-11 1L8.5 8.5l.94-2.06 2.06-.94-2.06-.94L8.5 2.5l-.94 2.06-2.06.94zm10 10l.94 2.06.94-2.06 2.06-.94-2.06-.94-.94-2.06-.94 2.06-2.06.94z\"/><path d=\"M17.41 7.96l-1.37-1.37c-.4-.4-.92-.59-1.43-.59-.52 0-1.04.2-1.43.59L10.3 9.45l-7.72 7.72c-.78.78-.78 2.05 0 2.83L4 21.41c.39.39.9.59 1.41.59.51 0 1.02-.2 1.41-.59l7.78-7.78 2.81-2.81c.8-.78.8-2.07 0-2.86zM5.41 20L4 18.59l7.72-7.72 1.47 1.35L5.41 20z\"/>\n",
              "  </svg>\n",
              "      </button>\n",
              "      \n",
              "  <style>\n",
              "    .colab-df-container {\n",
              "      display:flex;\n",
              "      flex-wrap:wrap;\n",
              "      gap: 12px;\n",
              "    }\n",
              "\n",
              "    .colab-df-convert {\n",
              "      background-color: #E8F0FE;\n",
              "      border: none;\n",
              "      border-radius: 50%;\n",
              "      cursor: pointer;\n",
              "      display: none;\n",
              "      fill: #1967D2;\n",
              "      height: 32px;\n",
              "      padding: 0 0 0 0;\n",
              "      width: 32px;\n",
              "    }\n",
              "\n",
              "    .colab-df-convert:hover {\n",
              "      background-color: #E2EBFA;\n",
              "      box-shadow: 0px 1px 2px rgba(60, 64, 67, 0.3), 0px 1px 3px 1px rgba(60, 64, 67, 0.15);\n",
              "      fill: #174EA6;\n",
              "    }\n",
              "\n",
              "    [theme=dark] .colab-df-convert {\n",
              "      background-color: #3B4455;\n",
              "      fill: #D2E3FC;\n",
              "    }\n",
              "\n",
              "    [theme=dark] .colab-df-convert:hover {\n",
              "      background-color: #434B5C;\n",
              "      box-shadow: 0px 1px 3px 1px rgba(0, 0, 0, 0.15);\n",
              "      filter: drop-shadow(0px 1px 2px rgba(0, 0, 0, 0.3));\n",
              "      fill: #FFFFFF;\n",
              "    }\n",
              "  </style>\n",
              "\n",
              "      <script>\n",
              "        const buttonEl =\n",
              "          document.querySelector('#df-22a014ac-7c89-4f5a-8823-6596775436f5 button.colab-df-convert');\n",
              "        buttonEl.style.display =\n",
              "          google.colab.kernel.accessAllowed ? 'block' : 'none';\n",
              "\n",
              "        async function convertToInteractive(key) {\n",
              "          const element = document.querySelector('#df-22a014ac-7c89-4f5a-8823-6596775436f5');\n",
              "          const dataTable =\n",
              "            await google.colab.kernel.invokeFunction('convertToInteractive',\n",
              "                                                     [key], {});\n",
              "          if (!dataTable) return;\n",
              "\n",
              "          const docLinkHtml = 'Like what you see? Visit the ' +\n",
              "            '<a target=\"_blank\" href=https://colab.research.google.com/notebooks/data_table.ipynb>data table notebook</a>'\n",
              "            + ' to learn more about interactive tables.';\n",
              "          element.innerHTML = '';\n",
              "          dataTable['output_type'] = 'display_data';\n",
              "          await google.colab.output.renderOutput(dataTable, element);\n",
              "          const docLink = document.createElement('div');\n",
              "          docLink.innerHTML = docLinkHtml;\n",
              "          element.appendChild(docLink);\n",
              "        }\n",
              "      </script>\n",
              "    </div>\n",
              "  </div>\n",
              "  "
            ]
          },
          "metadata": {},
          "execution_count": 87
        }
      ]
    },
    {
      "cell_type": "code",
      "source": [],
      "metadata": {
        "id": "5ZIgrsoAjLng"
      },
      "execution_count": 87,
      "outputs": []
    },
    {
      "cell_type": "code",
      "source": [
        "#creating a copy of the data to manipulate into a geopandas data frame (sam)\n",
        "ll = df[['latitude', 'longitude']].copy()\n",
        "latlong = gpd.GeoDataFrame(ll, geometry = gpd.points_from_xy(ll.longitude, ll.latitude))"
      ],
      "metadata": {
        "id": "mBYgc66giVFX"
      },
      "execution_count": 88,
      "outputs": []
    },
    {
      "cell_type": "code",
      "source": [
        "latlong"
      ],
      "metadata": {
        "colab": {
          "base_uri": "https://localhost:8080/",
          "height": 424
        },
        "id": "lcR2z0EMjBt3",
        "outputId": "a28a9a07-b9e1-4982-f419-13c44c18c7c3"
      },
      "execution_count": 89,
      "outputs": [
        {
          "output_type": "execute_result",
          "data": {
            "text/plain": [
              "       latitude   longitude                    geometry\n",
              "0     40.744876  -73.989657  POINT (-73.98966 40.74488)\n",
              "1     40.825863  -73.950874  POINT (-73.95087 40.82586)\n",
              "2     40.741906  -74.000945  POINT (-74.00095 40.74191)\n",
              "3     40.682833  -73.963833  POINT (-73.96383 40.68283)\n",
              "4     40.716913  -73.958728  POINT (-73.95873 40.71691)\n",
              "...         ...         ...                         ...\n",
              "1995  40.756603  -73.968749  POINT (-73.96875 40.75660)\n",
              "1996  40.763304  -73.928214  POINT (-73.92821 40.76330)\n",
              "1997  40.676956  -73.986405  POINT (-73.98641 40.67696)\n",
              "1998  40.754988  -73.964927  POINT (-73.96493 40.75499)\n",
              "1999  40.745295  -73.953254  POINT (-73.95325 40.74529)\n",
              "\n",
              "[2000 rows x 3 columns]"
            ],
            "text/html": [
              "\n",
              "  <div id=\"df-11dd2a77-f788-4274-8333-f80c45385eb2\">\n",
              "    <div class=\"colab-df-container\">\n",
              "      <div>\n",
              "<style scoped>\n",
              "    .dataframe tbody tr th:only-of-type {\n",
              "        vertical-align: middle;\n",
              "    }\n",
              "\n",
              "    .dataframe tbody tr th {\n",
              "        vertical-align: top;\n",
              "    }\n",
              "\n",
              "    .dataframe thead th {\n",
              "        text-align: right;\n",
              "    }\n",
              "</style>\n",
              "<table border=\"1\" class=\"dataframe\">\n",
              "  <thead>\n",
              "    <tr style=\"text-align: right;\">\n",
              "      <th></th>\n",
              "      <th>latitude</th>\n",
              "      <th>longitude</th>\n",
              "      <th>geometry</th>\n",
              "    </tr>\n",
              "  </thead>\n",
              "  <tbody>\n",
              "    <tr>\n",
              "      <th>0</th>\n",
              "      <td>40.744876</td>\n",
              "      <td>-73.989657</td>\n",
              "      <td>POINT (-73.98966 40.74488)</td>\n",
              "    </tr>\n",
              "    <tr>\n",
              "      <th>1</th>\n",
              "      <td>40.825863</td>\n",
              "      <td>-73.950874</td>\n",
              "      <td>POINT (-73.95087 40.82586)</td>\n",
              "    </tr>\n",
              "    <tr>\n",
              "      <th>2</th>\n",
              "      <td>40.741906</td>\n",
              "      <td>-74.000945</td>\n",
              "      <td>POINT (-74.00095 40.74191)</td>\n",
              "    </tr>\n",
              "    <tr>\n",
              "      <th>3</th>\n",
              "      <td>40.682833</td>\n",
              "      <td>-73.963833</td>\n",
              "      <td>POINT (-73.96383 40.68283)</td>\n",
              "    </tr>\n",
              "    <tr>\n",
              "      <th>4</th>\n",
              "      <td>40.716913</td>\n",
              "      <td>-73.958728</td>\n",
              "      <td>POINT (-73.95873 40.71691)</td>\n",
              "    </tr>\n",
              "    <tr>\n",
              "      <th>...</th>\n",
              "      <td>...</td>\n",
              "      <td>...</td>\n",
              "      <td>...</td>\n",
              "    </tr>\n",
              "    <tr>\n",
              "      <th>1995</th>\n",
              "      <td>40.756603</td>\n",
              "      <td>-73.968749</td>\n",
              "      <td>POINT (-73.96875 40.75660)</td>\n",
              "    </tr>\n",
              "    <tr>\n",
              "      <th>1996</th>\n",
              "      <td>40.763304</td>\n",
              "      <td>-73.928214</td>\n",
              "      <td>POINT (-73.92821 40.76330)</td>\n",
              "    </tr>\n",
              "    <tr>\n",
              "      <th>1997</th>\n",
              "      <td>40.676956</td>\n",
              "      <td>-73.986405</td>\n",
              "      <td>POINT (-73.98641 40.67696)</td>\n",
              "    </tr>\n",
              "    <tr>\n",
              "      <th>1998</th>\n",
              "      <td>40.754988</td>\n",
              "      <td>-73.964927</td>\n",
              "      <td>POINT (-73.96493 40.75499)</td>\n",
              "    </tr>\n",
              "    <tr>\n",
              "      <th>1999</th>\n",
              "      <td>40.745295</td>\n",
              "      <td>-73.953254</td>\n",
              "      <td>POINT (-73.95325 40.74529)</td>\n",
              "    </tr>\n",
              "  </tbody>\n",
              "</table>\n",
              "<p>2000 rows × 3 columns</p>\n",
              "</div>\n",
              "      <button class=\"colab-df-convert\" onclick=\"convertToInteractive('df-11dd2a77-f788-4274-8333-f80c45385eb2')\"\n",
              "              title=\"Convert this dataframe to an interactive table.\"\n",
              "              style=\"display:none;\">\n",
              "        \n",
              "  <svg xmlns=\"http://www.w3.org/2000/svg\" height=\"24px\"viewBox=\"0 0 24 24\"\n",
              "       width=\"24px\">\n",
              "    <path d=\"M0 0h24v24H0V0z\" fill=\"none\"/>\n",
              "    <path d=\"M18.56 5.44l.94 2.06.94-2.06 2.06-.94-2.06-.94-.94-2.06-.94 2.06-2.06.94zm-11 1L8.5 8.5l.94-2.06 2.06-.94-2.06-.94L8.5 2.5l-.94 2.06-2.06.94zm10 10l.94 2.06.94-2.06 2.06-.94-2.06-.94-.94-2.06-.94 2.06-2.06.94z\"/><path d=\"M17.41 7.96l-1.37-1.37c-.4-.4-.92-.59-1.43-.59-.52 0-1.04.2-1.43.59L10.3 9.45l-7.72 7.72c-.78.78-.78 2.05 0 2.83L4 21.41c.39.39.9.59 1.41.59.51 0 1.02-.2 1.41-.59l7.78-7.78 2.81-2.81c.8-.78.8-2.07 0-2.86zM5.41 20L4 18.59l7.72-7.72 1.47 1.35L5.41 20z\"/>\n",
              "  </svg>\n",
              "      </button>\n",
              "      \n",
              "  <style>\n",
              "    .colab-df-container {\n",
              "      display:flex;\n",
              "      flex-wrap:wrap;\n",
              "      gap: 12px;\n",
              "    }\n",
              "\n",
              "    .colab-df-convert {\n",
              "      background-color: #E8F0FE;\n",
              "      border: none;\n",
              "      border-radius: 50%;\n",
              "      cursor: pointer;\n",
              "      display: none;\n",
              "      fill: #1967D2;\n",
              "      height: 32px;\n",
              "      padding: 0 0 0 0;\n",
              "      width: 32px;\n",
              "    }\n",
              "\n",
              "    .colab-df-convert:hover {\n",
              "      background-color: #E2EBFA;\n",
              "      box-shadow: 0px 1px 2px rgba(60, 64, 67, 0.3), 0px 1px 3px 1px rgba(60, 64, 67, 0.15);\n",
              "      fill: #174EA6;\n",
              "    }\n",
              "\n",
              "    [theme=dark] .colab-df-convert {\n",
              "      background-color: #3B4455;\n",
              "      fill: #D2E3FC;\n",
              "    }\n",
              "\n",
              "    [theme=dark] .colab-df-convert:hover {\n",
              "      background-color: #434B5C;\n",
              "      box-shadow: 0px 1px 3px 1px rgba(0, 0, 0, 0.15);\n",
              "      filter: drop-shadow(0px 1px 2px rgba(0, 0, 0, 0.3));\n",
              "      fill: #FFFFFF;\n",
              "    }\n",
              "  </style>\n",
              "\n",
              "      <script>\n",
              "        const buttonEl =\n",
              "          document.querySelector('#df-11dd2a77-f788-4274-8333-f80c45385eb2 button.colab-df-convert');\n",
              "        buttonEl.style.display =\n",
              "          google.colab.kernel.accessAllowed ? 'block' : 'none';\n",
              "\n",
              "        async function convertToInteractive(key) {\n",
              "          const element = document.querySelector('#df-11dd2a77-f788-4274-8333-f80c45385eb2');\n",
              "          const dataTable =\n",
              "            await google.colab.kernel.invokeFunction('convertToInteractive',\n",
              "                                                     [key], {});\n",
              "          if (!dataTable) return;\n",
              "\n",
              "          const docLinkHtml = 'Like what you see? Visit the ' +\n",
              "            '<a target=\"_blank\" href=https://colab.research.google.com/notebooks/data_table.ipynb>data table notebook</a>'\n",
              "            + ' to learn more about interactive tables.';\n",
              "          element.innerHTML = '';\n",
              "          dataTable['output_type'] = 'display_data';\n",
              "          await google.colab.output.renderOutput(dataTable, element);\n",
              "          const docLink = document.createElement('div');\n",
              "          docLink.innerHTML = docLinkHtml;\n",
              "          element.appendChild(docLink);\n",
              "        }\n",
              "      </script>\n",
              "    </div>\n",
              "  </div>\n",
              "  "
            ]
          },
          "metadata": {},
          "execution_count": 89
        }
      ]
    },
    {
      "cell_type": "code",
      "source": [
        "pip install -U matplotlib"
      ],
      "metadata": {
        "colab": {
          "base_uri": "https://localhost:8080/"
        },
        "id": "TUnJfwToHOQZ",
        "outputId": "911ad59a-d3c7-4d4e-9240-1aa8f3c6f7d3"
      },
      "execution_count": 90,
      "outputs": [
        {
          "output_type": "stream",
          "name": "stdout",
          "text": [
            "Looking in indexes: https://pypi.org/simple, https://us-python.pkg.dev/colab-wheels/public/simple/\n",
            "Requirement already satisfied: matplotlib in /usr/local/lib/python3.8/dist-packages (3.6.2)\n",
            "Requirement already satisfied: fonttools>=4.22.0 in /usr/local/lib/python3.8/dist-packages (from matplotlib) (4.38.0)\n",
            "Requirement already satisfied: numpy>=1.19 in /usr/local/lib/python3.8/dist-packages (from matplotlib) (1.23.5)\n",
            "Requirement already satisfied: pillow>=6.2.0 in /usr/local/lib/python3.8/dist-packages (from matplotlib) (7.1.2)\n",
            "Requirement already satisfied: packaging>=20.0 in /usr/local/lib/python3.8/dist-packages (from matplotlib) (21.3)\n",
            "Requirement already satisfied: pyparsing>=2.2.1 in /usr/local/lib/python3.8/dist-packages (from matplotlib) (3.0.9)\n",
            "Requirement already satisfied: kiwisolver>=1.0.1 in /usr/local/lib/python3.8/dist-packages (from matplotlib) (1.4.4)\n",
            "Requirement already satisfied: cycler>=0.10 in /usr/local/lib/python3.8/dist-packages (from matplotlib) (0.11.0)\n",
            "Requirement already satisfied: python-dateutil>=2.7 in /usr/local/lib/python3.8/dist-packages (from matplotlib) (2.8.2)\n",
            "Requirement already satisfied: contourpy>=1.0.1 in /usr/local/lib/python3.8/dist-packages (from matplotlib) (1.0.6)\n",
            "Requirement already satisfied: six>=1.5 in /usr/local/lib/python3.8/dist-packages (from python-dateutil>=2.7->matplotlib) (1.15.0)\n"
          ]
        }
      ]
    },
    {
      "cell_type": "code",
      "source": [
        "pip install matplotlib==3.1.1"
      ],
      "metadata": {
        "colab": {
          "base_uri": "https://localhost:8080/",
          "height": 429
        },
        "id": "nrja-4qJHtzj",
        "outputId": "018a09d0-0e94-46c9-8f89-b69d6a7d43d5"
      },
      "execution_count": 91,
      "outputs": [
        {
          "output_type": "stream",
          "name": "stdout",
          "text": [
            "Looking in indexes: https://pypi.org/simple, https://us-python.pkg.dev/colab-wheels/public/simple/\n",
            "Collecting matplotlib==3.1.1\n",
            "  Using cached matplotlib-3.1.1-cp38-cp38-linux_x86_64.whl\n",
            "Requirement already satisfied: kiwisolver>=1.0.1 in /usr/local/lib/python3.8/dist-packages (from matplotlib==3.1.1) (1.4.4)\n",
            "Requirement already satisfied: numpy>=1.11 in /usr/local/lib/python3.8/dist-packages (from matplotlib==3.1.1) (1.23.5)\n",
            "Requirement already satisfied: python-dateutil>=2.1 in /usr/local/lib/python3.8/dist-packages (from matplotlib==3.1.1) (2.8.2)\n",
            "Requirement already satisfied: pyparsing!=2.0.4,!=2.1.2,!=2.1.6,>=2.0.1 in /usr/local/lib/python3.8/dist-packages (from matplotlib==3.1.1) (3.0.9)\n",
            "Requirement already satisfied: cycler>=0.10 in /usr/local/lib/python3.8/dist-packages (from matplotlib==3.1.1) (0.11.0)\n",
            "Requirement already satisfied: six>=1.5 in /usr/local/lib/python3.8/dist-packages (from python-dateutil>=2.1->matplotlib==3.1.1) (1.15.0)\n",
            "Installing collected packages: matplotlib\n",
            "  Attempting uninstall: matplotlib\n",
            "    Found existing installation: matplotlib 3.6.2\n",
            "    Uninstalling matplotlib-3.6.2:\n",
            "      Successfully uninstalled matplotlib-3.6.2\n",
            "\u001b[31mERROR: pip's dependency resolver does not currently take into account all the packages that are installed. This behaviour is the source of the following dependency conflicts.\n",
            "osmnx 1.2.2 requires matplotlib>=3.5, but you have matplotlib 3.1.1 which is incompatible.\u001b[0m\n",
            "Successfully installed matplotlib-3.1.1\n"
          ]
        },
        {
          "output_type": "display_data",
          "data": {
            "application/vnd.colab-display-data+json": {
              "pip_warning": {
                "packages": [
                  "matplotlib",
                  "mpl_toolkits"
                ]
              }
            }
          },
          "metadata": {}
        }
      ]
    },
    {
      "cell_type": "code",
      "source": [
        "latlong.plot(color = 'red', markersize = 2)\n",
        "#plot of the different restaurants (sam)"
      ],
      "metadata": {
        "colab": {
          "base_uri": "https://localhost:8080/",
          "height": 283
        },
        "id": "UP4Rs6zKjeRP",
        "outputId": "bb186b97-2799-4460-a626-7c4fb831e008"
      },
      "execution_count": 92,
      "outputs": [
        {
          "output_type": "execute_result",
          "data": {
            "text/plain": [
              "<matplotlib.axes._subplots.AxesSubplot at 0x7f74ca018be0>"
            ]
          },
          "metadata": {},
          "execution_count": 92
        },
        {
          "output_type": "display_data",
          "data": {
            "text/plain": [
              "<Figure size 432x288 with 1 Axes>"
            ],
            "image/png": "[encoded data removed]"
          },
          "metadata": {
            "needs_background": "light"
          }
        }
      ]
    },
    {
      "cell_type": "code",
      "source": [
        "#creating a map of new york city (sam)\n",
        "places = [\n",
        "    \"Manhattan, New York, New York, USA\", \n",
        "    \"Bronx, New York, New York, USA\",\n",
        "    \"Queens, New York, New York, USA\",\n",
        "    \"Brooklyn, New York, New York, USA\",\n",
        "    \"Staten Island, New York, New York, USA\",\n",
        "]\n",
        "p = ox.geocode_to_gdf(places)"
      ],
      "metadata": {
        "id": "gu7g6_ykkeYg"
      },
      "execution_count": 93,
      "outputs": []
    },
    {
      "cell_type": "code",
      "source": [
        "p"
      ],
      "metadata": {
        "colab": {
          "base_uri": "https://localhost:8080/",
          "height": 580
        },
        "id": "hd_w0irQk6HZ",
        "outputId": "a73a0a1b-4243-4c0a-f888-6f278fe4fb85"
      },
      "execution_count": 94,
      "outputs": [
        {
          "output_type": "execute_result",
          "data": {
            "text/plain": [
              "                                            geometry  bbox_north  bbox_south  \\\n",
              "0  MULTIPOLYGON (((-74.04721 40.69089, -74.04720 ...   40.882012   40.679654   \n",
              "1  POLYGON ((-73.93391 40.88201, -73.92530 40.879...   40.917630   40.785739   \n",
              "2  POLYGON ((-74.04378 40.50783, -73.97787 40.519...   40.812135   40.492121   \n",
              "3  POLYGON ((-74.05669 40.62704, -74.05541 40.625...   40.739434   40.550339   \n",
              "4  POLYGON ((-74.25884 40.49887, -74.25814 40.497...   40.651506   40.476578   \n",
              "\n",
              "   bbox_east  bbox_west   place_id  osm_type   osm_id        lat        lon  \\\n",
              "0 -73.906769 -74.047207  299212727  relation  8398124  40.789624 -73.959894   \n",
              "1 -73.748374 -73.933907  299377514  relation  9691916  40.846651 -73.878594   \n",
              "2 -73.700233 -74.043780  299338987  relation  9691819  40.713508 -73.828313   \n",
              "3 -73.832945 -74.056688  299339507  relation  9691750  40.652601 -73.949721   \n",
              "4 -74.034613 -74.258843  299339926  relation  9691948  40.583456 -74.149605   \n",
              "\n",
              "                                        display_name     class  \\\n",
              "0  Manhattan, New York County, New York, United S...  boundary   \n",
              "1                 The Bronx, New York, United States  boundary   \n",
              "2                    Queens, New York, United States  boundary   \n",
              "3    Brooklyn, Kings County, New York, United States  boundary   \n",
              "4             Staten Island, New York, United States  boundary   \n",
              "\n",
              "             type  importance  \n",
              "0  administrative    1.185439  \n",
              "1  administrative    1.110803  \n",
              "2  administrative    1.121584  \n",
              "3  administrative    1.186380  \n",
              "4  administrative    1.172141  "
            ],
            "text/html": [
              "\n",
              "  <div id=\"df-a76af89d-bd3e-4754-a685-70166e85aa0a\">\n",
              "    <div class=\"colab-df-container\">\n",
              "      <div>\n",
              "<style scoped>\n",
              "    .dataframe tbody tr th:only-of-type {\n",
              "        vertical-align: middle;\n",
              "    }\n",
              "\n",
              "    .dataframe tbody tr th {\n",
              "        vertical-align: top;\n",
              "    }\n",
              "\n",
              "    .dataframe thead th {\n",
              "        text-align: right;\n",
              "    }\n",
              "</style>\n",
              "<table border=\"1\" class=\"dataframe\">\n",
              "  <thead>\n",
              "    <tr style=\"text-align: right;\">\n",
              "      <th></th>\n",
              "      <th>geometry</th>\n",
              "      <th>bbox_north</th>\n",
              "      <th>bbox_south</th>\n",
              "      <th>bbox_east</th>\n",
              "      <th>bbox_west</th>\n",
              "      <th>place_id</th>\n",
              "      <th>osm_type</th>\n",
              "      <th>osm_id</th>\n",
              "      <th>lat</th>\n",
              "      <th>lon</th>\n",
              "      <th>display_name</th>\n",
              "      <th>class</th>\n",
              "      <th>type</th>\n",
              "      <th>importance</th>\n",
              "    </tr>\n",
              "  </thead>\n",
              "  <tbody>\n",
              "    <tr>\n",
              "      <th>0</th>\n",
              "      <td>MULTIPOLYGON (((-74.04721 40.69089, -74.04720 ...</td>\n",
              "      <td>40.882012</td>\n",
              "      <td>40.679654</td>\n",
              "      <td>-73.906769</td>\n",
              "      <td>-74.047207</td>\n",
              "      <td>299212727</td>\n",
              "      <td>relation</td>\n",
              "      <td>8398124</td>\n",
              "      <td>40.789624</td>\n",
              "      <td>-73.959894</td>\n",
              "      <td>Manhattan, New York County, New York, United S...</td>\n",
              "      <td>boundary</td>\n",
              "      <td>administrative</td>\n",
              "      <td>1.185439</td>\n",
              "    </tr>\n",
              "    <tr>\n",
              "      <th>1</th>\n",
              "      <td>POLYGON ((-73.93391 40.88201, -73.92530 40.879...</td>\n",
              "      <td>40.917630</td>\n",
              "      <td>40.785739</td>\n",
              "      <td>-73.748374</td>\n",
              "      <td>-73.933907</td>\n",
              "      <td>299377514</td>\n",
              "      <td>relation</td>\n",
              "      <td>9691916</td>\n",
              "      <td>40.846651</td>\n",
              "      <td>-73.878594</td>\n",
              "      <td>The Bronx, New York, United States</td>\n",
              "      <td>boundary</td>\n",
              "      <td>administrative</td>\n",
              "      <td>1.110803</td>\n",
              "    </tr>\n",
              "    <tr>\n",
              "      <th>2</th>\n",
              "      <td>POLYGON ((-74.04378 40.50783, -73.97787 40.519...</td>\n",
              "      <td>40.812135</td>\n",
              "      <td>40.492121</td>\n",
              "      <td>-73.700233</td>\n",
              "      <td>-74.043780</td>\n",
              "      <td>299338987</td>\n",
              "      <td>relation</td>\n",
              "      <td>9691819</td>\n",
              "      <td>40.713508</td>\n",
              "      <td>-73.828313</td>\n",
              "      <td>Queens, New York, United States</td>\n",
              "      <td>boundary</td>\n",
              "      <td>administrative</td>\n",
              "      <td>1.121584</td>\n",
              "    </tr>\n",
              "    <tr>\n",
              "      <th>3</th>\n",
              "      <td>POLYGON ((-74.05669 40.62704, -74.05541 40.625...</td>\n",
              "      <td>40.739434</td>\n",
              "      <td>40.550339</td>\n",
              "      <td>-73.832945</td>\n",
              "      <td>-74.056688</td>\n",
              "      <td>299339507</td>\n",
              "      <td>relation</td>\n",
              "      <td>9691750</td>\n",
              "      <td>40.652601</td>\n",
              "      <td>-73.949721</td>\n",
              "      <td>Brooklyn, Kings County, New York, United States</td>\n",
              "      <td>boundary</td>\n",
              "      <td>administrative</td>\n",
              "      <td>1.186380</td>\n",
              "    </tr>\n",
              "    <tr>\n",
              "      <th>4</th>\n",
              "      <td>POLYGON ((-74.25884 40.49887, -74.25814 40.497...</td>\n",
              "      <td>40.651506</td>\n",
              "      <td>40.476578</td>\n",
              "      <td>-74.034613</td>\n",
              "      <td>-74.258843</td>\n",
              "      <td>299339926</td>\n",
              "      <td>relation</td>\n",
              "      <td>9691948</td>\n",
              "      <td>40.583456</td>\n",
              "      <td>-74.149605</td>\n",
              "      <td>Staten Island, New York, United States</td>\n",
              "      <td>boundary</td>\n",
              "      <td>administrative</td>\n",
              "      <td>1.172141</td>\n",
              "    </tr>\n",
              "  </tbody>\n",
              "</table>\n",
              "</div>\n",
              "      <button class=\"colab-df-convert\" onclick=\"convertToInteractive('df-a76af89d-bd3e-4754-a685-70166e85aa0a')\"\n",
              "              title=\"Convert this dataframe to an interactive table.\"\n",
              "              style=\"display:none;\">\n",
              "        \n",
              "  <svg xmlns=\"http://www.w3.org/2000/svg\" height=\"24px\"viewBox=\"0 0 24 24\"\n",
              "       width=\"24px\">\n",
              "    <path d=\"M0 0h24v24H0V0z\" fill=\"none\"/>\n",
              "    <path d=\"M18.56 5.44l.94 2.06.94-2.06 2.06-.94-2.06-.94-.94-2.06-.94 2.06-2.06.94zm-11 1L8.5 8.5l.94-2.06 2.06-.94-2.06-.94L8.5 2.5l-.94 2.06-2.06.94zm10 10l.94 2.06.94-2.06 2.06-.94-2.06-.94-.94-2.06-.94 2.06-2.06.94z\"/><path d=\"M17.41 7.96l-1.37-1.37c-.4-.4-.92-.59-1.43-.59-.52 0-1.04.2-1.43.59L10.3 9.45l-7.72 7.72c-.78.78-.78 2.05 0 2.83L4 21.41c.39.39.9.59 1.41.59.51 0 1.02-.2 1.41-.59l7.78-7.78 2.81-2.81c.8-.78.8-2.07 0-2.86zM5.41 20L4 18.59l7.72-7.72 1.47 1.35L5.41 20z\"/>\n",
              "  </svg>\n",
              "      </button>\n",
              "      \n",
              "  <style>\n",
              "    .colab-df-container {\n",
              "      display:flex;\n",
              "      flex-wrap:wrap;\n",
              "      gap: 12px;\n",
              "    }\n",
              "\n",
              "    .colab-df-convert {\n",
              "      background-color: #E8F0FE;\n",
              "      border: none;\n",
              "      border-radius: 50%;\n",
              "      cursor: pointer;\n",
              "      display: none;\n",
              "      fill: #1967D2;\n",
              "      height: 32px;\n",
              "      padding: 0 0 0 0;\n",
              "      width: 32px;\n",
              "    }\n",
              "\n",
              "    .colab-df-convert:hover {\n",
              "      background-color: #E2EBFA;\n",
              "      box-shadow: 0px 1px 2px rgba(60, 64, 67, 0.3), 0px 1px 3px 1px rgba(60, 64, 67, 0.15);\n",
              "      fill: #174EA6;\n",
              "    }\n",
              "\n",
              "    [theme=dark] .colab-df-convert {\n",
              "      background-color: #3B4455;\n",
              "      fill: #D2E3FC;\n",
              "    }\n",
              "\n",
              "    [theme=dark] .colab-df-convert:hover {\n",
              "      background-color: #434B5C;\n",
              "      box-shadow: 0px 1px 3px 1px rgba(0, 0, 0, 0.15);\n",
              "      filter: drop-shadow(0px 1px 2px rgba(0, 0, 0, 0.3));\n",
              "      fill: #FFFFFF;\n",
              "    }\n",
              "  </style>\n",
              "\n",
              "      <script>\n",
              "        const buttonEl =\n",
              "          document.querySelector('#df-a76af89d-bd3e-4754-a685-70166e85aa0a button.colab-df-convert');\n",
              "        buttonEl.style.display =\n",
              "          google.colab.kernel.accessAllowed ? 'block' : 'none';\n",
              "\n",
              "        async function convertToInteractive(key) {\n",
              "          const element = document.querySelector('#df-a76af89d-bd3e-4754-a685-70166e85aa0a');\n",
              "          const dataTable =\n",
              "            await google.colab.kernel.invokeFunction('convertToInteractive',\n",
              "                                                     [key], {});\n",
              "          if (!dataTable) return;\n",
              "\n",
              "          const docLinkHtml = 'Like what you see? Visit the ' +\n",
              "            '<a target=\"_blank\" href=https://colab.research.google.com/notebooks/data_table.ipynb>data table notebook</a>'\n",
              "            + ' to learn more about interactive tables.';\n",
              "          element.innerHTML = '';\n",
              "          dataTable['output_type'] = 'display_data';\n",
              "          await google.colab.output.renderOutput(dataTable, element);\n",
              "          const docLink = document.createElement('div');\n",
              "          docLink.innerHTML = docLinkHtml;\n",
              "          element.appendChild(docLink);\n",
              "        }\n",
              "      </script>\n",
              "    </div>\n",
              "  </div>\n",
              "  "
            ]
          },
          "metadata": {},
          "execution_count": 94
        }
      ]
    },
    {
      "cell_type": "code",
      "source": [
        "#making a copy of the new york city info - only info we need (sam)\n",
        "newyork = p[['geometry']].copy()"
      ],
      "metadata": {
        "id": "vttmKFXRk71v"
      },
      "execution_count": 95,
      "outputs": []
    },
    {
      "cell_type": "code",
      "source": [
        "newyork"
      ],
      "metadata": {
        "colab": {
          "base_uri": "https://localhost:8080/",
          "height": 206
        },
        "id": "p-t5S4vjk-E1",
        "outputId": "6e8886ad-51ad-450c-d30f-2fe9a809415c"
      },
      "execution_count": 96,
      "outputs": [
        {
          "output_type": "execute_result",
          "data": {
            "text/plain": [
              "                                            geometry\n",
              "0  MULTIPOLYGON (((-74.04721 40.69089, -74.04720 ...\n",
              "1  POLYGON ((-73.93391 40.88201, -73.92530 40.879...\n",
              "2  POLYGON ((-74.04378 40.50783, -73.97787 40.519...\n",
              "3  POLYGON ((-74.05669 40.62704, -74.05541 40.625...\n",
              "4  POLYGON ((-74.25884 40.49887, -74.25814 40.497..."
            ],
            "text/html": [
              "\n",
              "  <div id=\"df-9dd9053b-726e-4e29-9c72-173943214a1e\">\n",
              "    <div class=\"colab-df-container\">\n",
              "      <div>\n",
              "<style scoped>\n",
              "    .dataframe tbody tr th:only-of-type {\n",
              "        vertical-align: middle;\n",
              "    }\n",
              "\n",
              "    .dataframe tbody tr th {\n",
              "        vertical-align: top;\n",
              "    }\n",
              "\n",
              "    .dataframe thead th {\n",
              "        text-align: right;\n",
              "    }\n",
              "</style>\n",
              "<table border=\"1\" class=\"dataframe\">\n",
              "  <thead>\n",
              "    <tr style=\"text-align: right;\">\n",
              "      <th></th>\n",
              "      <th>geometry</th>\n",
              "    </tr>\n",
              "  </thead>\n",
              "  <tbody>\n",
              "    <tr>\n",
              "      <th>0</th>\n",
              "      <td>MULTIPOLYGON (((-74.04721 40.69089, -74.04720 ...</td>\n",
              "    </tr>\n",
              "    <tr>\n",
              "      <th>1</th>\n",
              "      <td>POLYGON ((-73.93391 40.88201, -73.92530 40.879...</td>\n",
              "    </tr>\n",
              "    <tr>\n",
              "      <th>2</th>\n",
              "      <td>POLYGON ((-74.04378 40.50783, -73.97787 40.519...</td>\n",
              "    </tr>\n",
              "    <tr>\n",
              "      <th>3</th>\n",
              "      <td>POLYGON ((-74.05669 40.62704, -74.05541 40.625...</td>\n",
              "    </tr>\n",
              "    <tr>\n",
              "      <th>4</th>\n",
              "      <td>POLYGON ((-74.25884 40.49887, -74.25814 40.497...</td>\n",
              "    </tr>\n",
              "  </tbody>\n",
              "</table>\n",
              "</div>\n",
              "      <button class=\"colab-df-convert\" onclick=\"convertToInteractive('df-9dd9053b-726e-4e29-9c72-173943214a1e')\"\n",
              "              title=\"Convert this dataframe to an interactive table.\"\n",
              "              style=\"display:none;\">\n",
              "        \n",
              "  <svg xmlns=\"http://www.w3.org/2000/svg\" height=\"24px\"viewBox=\"0 0 24 24\"\n",
              "       width=\"24px\">\n",
              "    <path d=\"M0 0h24v24H0V0z\" fill=\"none\"/>\n",
              "    <path d=\"M18.56 5.44l.94 2.06.94-2.06 2.06-.94-2.06-.94-.94-2.06-.94 2.06-2.06.94zm-11 1L8.5 8.5l.94-2.06 2.06-.94-2.06-.94L8.5 2.5l-.94 2.06-2.06.94zm10 10l.94 2.06.94-2.06 2.06-.94-2.06-.94-.94-2.06-.94 2.06-2.06.94z\"/><path d=\"M17.41 7.96l-1.37-1.37c-.4-.4-.92-.59-1.43-.59-.52 0-1.04.2-1.43.59L10.3 9.45l-7.72 7.72c-.78.78-.78 2.05 0 2.83L4 21.41c.39.39.9.59 1.41.59.51 0 1.02-.2 1.41-.59l7.78-7.78 2.81-2.81c.8-.78.8-2.07 0-2.86zM5.41 20L4 18.59l7.72-7.72 1.47 1.35L5.41 20z\"/>\n",
              "  </svg>\n",
              "      </button>\n",
              "      \n",
              "  <style>\n",
              "    .colab-df-container {\n",
              "      display:flex;\n",
              "      flex-wrap:wrap;\n",
              "      gap: 12px;\n",
              "    }\n",
              "\n",
              "    .colab-df-convert {\n",
              "      background-color: #E8F0FE;\n",
              "      border: none;\n",
              "      border-radius: 50%;\n",
              "      cursor: pointer;\n",
              "      display: none;\n",
              "      fill: #1967D2;\n",
              "      height: 32px;\n",
              "      padding: 0 0 0 0;\n",
              "      width: 32px;\n",
              "    }\n",
              "\n",
              "    .colab-df-convert:hover {\n",
              "      background-color: #E2EBFA;\n",
              "      box-shadow: 0px 1px 2px rgba(60, 64, 67, 0.3), 0px 1px 3px 1px rgba(60, 64, 67, 0.15);\n",
              "      fill: #174EA6;\n",
              "    }\n",
              "\n",
              "    [theme=dark] .colab-df-convert {\n",
              "      background-color: #3B4455;\n",
              "      fill: #D2E3FC;\n",
              "    }\n",
              "\n",
              "    [theme=dark] .colab-df-convert:hover {\n",
              "      background-color: #434B5C;\n",
              "      box-shadow: 0px 1px 3px 1px rgba(0, 0, 0, 0.15);\n",
              "      filter: drop-shadow(0px 1px 2px rgba(0, 0, 0, 0.3));\n",
              "      fill: #FFFFFF;\n",
              "    }\n",
              "  </style>\n",
              "\n",
              "      <script>\n",
              "        const buttonEl =\n",
              "          document.querySelector('#df-9dd9053b-726e-4e29-9c72-173943214a1e button.colab-df-convert');\n",
              "        buttonEl.style.display =\n",
              "          google.colab.kernel.accessAllowed ? 'block' : 'none';\n",
              "\n",
              "        async function convertToInteractive(key) {\n",
              "          const element = document.querySelector('#df-9dd9053b-726e-4e29-9c72-173943214a1e');\n",
              "          const dataTable =\n",
              "            await google.colab.kernel.invokeFunction('convertToInteractive',\n",
              "                                                     [key], {});\n",
              "          if (!dataTable) return;\n",
              "\n",
              "          const docLinkHtml = 'Like what you see? Visit the ' +\n",
              "            '<a target=\"_blank\" href=https://colab.research.google.com/notebooks/data_table.ipynb>data table notebook</a>'\n",
              "            + ' to learn more about interactive tables.';\n",
              "          element.innerHTML = '';\n",
              "          dataTable['output_type'] = 'display_data';\n",
              "          await google.colab.output.renderOutput(dataTable, element);\n",
              "          const docLink = document.createElement('div');\n",
              "          docLink.innerHTML = docLinkHtml;\n",
              "          element.appendChild(docLink);\n",
              "        }\n",
              "      </script>\n",
              "    </div>\n",
              "  </div>\n",
              "  "
            ]
          },
          "metadata": {},
          "execution_count": 96
        }
      ]
    },
    {
      "cell_type": "code",
      "source": [
        "newyork.plot()\n",
        "#plot of this new data of the area of new york city (sam)"
      ],
      "metadata": {
        "colab": {
          "base_uri": "https://localhost:8080/",
          "height": 283
        },
        "id": "d1lKEq6xk_Bf",
        "outputId": "43da5b96-4ccb-4ce8-8cf2-b974740e53a5"
      },
      "execution_count": 97,
      "outputs": [
        {
          "output_type": "execute_result",
          "data": {
            "text/plain": [
              "<matplotlib.axes._subplots.AxesSubplot at 0x7f74ce3eae20>"
            ]
          },
          "metadata": {},
          "execution_count": 97
        },
        {
          "output_type": "display_data",
          "data": {
            "text/plain": [
              "<Figure size 432x288 with 1 Axes>"
            ],
            "image/png": "[encoded data removed]"
          },
          "metadata": {
            "needs_background": "light"
          }
        }
      ]
    },
    {
      "cell_type": "code",
      "source": [
        "#plotting the points of the restaurants onto new york city (sam)\n",
        "base = newyork.plot(color = 'white', edgecolor = 'black')\n",
        "latlong.plot(ax = base, marker = 'o', color = 'red', markersize = 2)"
      ],
      "metadata": {
        "colab": {
          "base_uri": "https://localhost:8080/",
          "height": 283
        },
        "id": "AQHtmZFDlAyR",
        "outputId": "d7c2c356-1e64-4a88-c7d3-aff2dd152f1e"
      },
      "execution_count": 98,
      "outputs": [
        {
          "output_type": "execute_result",
          "data": {
            "text/plain": [
              "<matplotlib.axes._subplots.AxesSubplot at 0x7f74c9eb1b80>"
            ]
          },
          "metadata": {},
          "execution_count": 98
        },
        {
          "output_type": "display_data",
          "data": {
            "text/plain": [
              "<Figure size 432x288 with 1 Axes>"
            ],
            "image/png": "[encoded data removed]"
          },
          "metadata": {
            "needs_background": "light"
          }
        }
      ]
    },
    {
      "cell_type": "code",
      "source": [
        "#this is code for only manhattan restaurants (sam)\n",
        "place = ['Manhattan, New York, New York, USA']\n",
        "p = ox.geocode_to_gdf(place)\n",
        "manhattan = p[['geometry']].copy()\n",
        "manhattan_results = df[df['borough'] == \"Manhattan\"]\n",
        "llmanhattan = manhattan_results[['latitude', 'longitude']].copy()\n",
        "latlongmanhattan = gpd.GeoDataFrame(llmanhattan, geometry = gpd.points_from_xy(llmanhattan.longitude, llmanhattan.latitude))\n",
        "base = manhattan.plot(color = 'white', edgecolor = 'black')\n",
        "latlongmanhattan.plot(ax = base, marker = 'o', color = 'red', markersize = 2)\n"
      ],
      "metadata": {
        "colab": {
          "base_uri": "https://localhost:8080/",
          "height": 283
        },
        "id": "bh8ffqZElCWp",
        "outputId": "51f33813-d3fa-47bf-bec4-ff310a2fb385"
      },
      "execution_count": 99,
      "outputs": [
        {
          "output_type": "execute_result",
          "data": {
            "text/plain": [
              "<matplotlib.axes._subplots.AxesSubplot at 0x7f74c9e47f10>"
            ]
          },
          "metadata": {},
          "execution_count": 99
        },
        {
          "output_type": "display_data",
          "data": {
            "text/plain": [
              "<Figure size 432x288 with 1 Axes>"
            ],
            "image/png": "[encoded data removed]"
          },
          "metadata": {
            "needs_background": "light"
          }
        }
      ]
    },
    {
      "cell_type": "code",
      "source": [
        "#only the bronx (sam)\n",
        "place = ['Bronx, New York, New York, USA']\n",
        "p = ox.geocode_to_gdf(place)\n",
        "bronx = p[['geometry']].copy()\n",
        "bronx_results = df[df['borough'] == \"Bronx\"]\n",
        "llbronx = bronx_results[['latitude', 'longitude']].copy()\n",
        "latlongbronx = gpd.GeoDataFrame(llbronx, geometry = gpd.points_from_xy(llbronx.longitude, llbronx.latitude))\n",
        "base = bronx.plot(color = 'white', edgecolor = 'black')\n",
        "latlongbronx.plot(ax = base, marker = 'o', color = 'red', markersize = 2)"
      ],
      "metadata": {
        "colab": {
          "base_uri": "https://localhost:8080/",
          "height": 283
        },
        "id": "yVA7TXKFlJiu",
        "outputId": "be05a91e-3836-4440-b543-f7a11f3aaf46"
      },
      "execution_count": 100,
      "outputs": [
        {
          "output_type": "execute_result",
          "data": {
            "text/plain": [
              "<matplotlib.axes._subplots.AxesSubplot at 0x7f74c9e76af0>"
            ]
          },
          "metadata": {},
          "execution_count": 100
        },
        {
          "output_type": "display_data",
          "data": {
            "text/plain": [
              "<Figure size 432x288 with 1 Axes>"
            ],
            "image/png": "[encoded data removed]"
          },
          "metadata": {
            "needs_background": "light"
          }
        }
      ]
    },
    {
      "cell_type": "code",
      "source": [
        "#plotting only restaurants in queens (sam)\n",
        "place = ['Queens, New York, New York, USA']\n",
        "p = ox.geocode_to_gdf(place)\n",
        "queens = p[['geometry']].copy()\n",
        "queens_results = df[df['borough'] == \"Queens\"]\n",
        "llqueens = queens_results[['latitude', 'longitude']].copy()\n",
        "latlongqueens = gpd.GeoDataFrame(llqueens, geometry = gpd.points_from_xy(llqueens.longitude, llqueens.latitude))\n",
        "base = queens.plot(color = 'white', edgecolor = 'black')\n",
        "latlongqueens.plot(ax = base, marker = 'o', color = 'red', markersize = 2)"
      ],
      "metadata": {
        "colab": {
          "base_uri": "https://localhost:8080/",
          "height": 283
        },
        "id": "GSNdz0iMlPD6",
        "outputId": "6b2e6add-bb9e-4daf-9a3a-87063b865846"
      },
      "execution_count": 101,
      "outputs": [
        {
          "output_type": "execute_result",
          "data": {
            "text/plain": [
              "<matplotlib.axes._subplots.AxesSubplot at 0x7f74c9ddb340>"
            ]
          },
          "metadata": {},
          "execution_count": 101
        },
        {
          "output_type": "display_data",
          "data": {
            "text/plain": [
              "<Figure size 432x288 with 1 Axes>"
            ],
            "image/png": "[encoded data removed]"
          },
          "metadata": {
            "needs_background": "light"
          }
        }
      ]
    },
    {
      "cell_type": "code",
      "source": [
        "#only brooklyn plot (sam)\n",
        "place = ['Brooklyn, New York, New York, USA']\n",
        "p = ox.geocode_to_gdf(place)\n",
        "brooklyn = p[['geometry']].copy()\n",
        "brooklyn_results = df[df['borough'] == \"Brooklyn\"]\n",
        "llbrooklyn = brooklyn_results[['latitude', 'longitude']].copy()\n",
        "latlongbrooklyn = gpd.GeoDataFrame(llbrooklyn, geometry = gpd.points_from_xy(llbrooklyn.longitude, llbrooklyn.latitude))\n",
        "base = brooklyn.plot(color = 'white', edgecolor = 'black')\n",
        "latlongbrooklyn.plot(ax = base, marker = 'o', color = 'red', markersize = 2)"
      ],
      "metadata": {
        "colab": {
          "base_uri": "https://localhost:8080/",
          "height": 283
        },
        "id": "2GFT6xEllQKI",
        "outputId": "5bff1140-7781-49ec-f228-3d871d28cd6c"
      },
      "execution_count": 102,
      "outputs": [
        {
          "output_type": "execute_result",
          "data": {
            "text/plain": [
              "<matplotlib.axes._subplots.AxesSubplot at 0x7f74c9d5c1c0>"
            ]
          },
          "metadata": {},
          "execution_count": 102
        },
        {
          "output_type": "display_data",
          "data": {
            "text/plain": [
              "<Figure size 432x288 with 1 Axes>"
            ],
            "image/png": "[encoded data removed]"
          },
          "metadata": {
            "needs_background": "light"
          }
        }
      ]
    },
    {
      "cell_type": "code",
      "source": [
        "#finding the compliant restaurants and putting them into their own dataframe (sam)\n",
        "compliant = df[df['isroadwaycompliant'] == 'Compliant']"
      ],
      "metadata": {
        "id": "1b4ltvRMlU7N"
      },
      "execution_count": 103,
      "outputs": []
    },
    {
      "cell_type": "code",
      "source": [
        "compliant"
      ],
      "metadata": {
        "colab": {
          "base_uri": "https://localhost:8080/",
          "height": 974
        },
        "id": "qWEOKYDytbcf",
        "outputId": "7a2f669f-8401-42c0-eeb2-b0972b069aa8"
      },
      "execution_count": 104,
      "outputs": [
        {
          "output_type": "execute_result",
          "data": {
            "text/plain": [
              "        borough                      restaurantname seatingchoice  \\\n",
              "4      Brooklyn           WILLIAMSBURG THAI CUISINE          both   \n",
              "5     Manhattan                        LURE FISHBAR          both   \n",
              "6     Manhattan                        Mojo omakase          both   \n",
              "16    Manhattan                       Reliable Food      sidewalk   \n",
              "28    Manhattan                        JUE LAN CLUB          both   \n",
              "...         ...                                 ...           ...   \n",
              "1954  Manhattan        CIPRIANI DOWNTOWN RESTAURANT          both   \n",
              "1962   Brooklyn                     El viejo yayo 2          both   \n",
              "1965  Manhattan                       Noi Due Carne          both   \n",
              "1978  Manhattan  Tequila Chitos Mexican Bar & Grill      sidewalk   \n",
              "1984  Manhattan                              FRESCO          both   \n",
              "\n",
              "                      legalbusinessname       businessaddress  \\\n",
              "4      WILLIAMSBURG THAI CUISINE NY INC    212 BEDFORD AVENUE   \n",
              "5                 142 MERCER STREET LLC     142 MERCER STREET   \n",
              "6                         Mojo chef inc        177 9th avenue   \n",
              "16                   Reliable Food, Inc            59 54th st   \n",
              "28                        Jade Farm LLC      49W  20th Street   \n",
              "...                                 ...                   ...   \n",
              "1954    DOWNTOWN RESTAURANT COMPANY LLC     376 WEST BROADWAY   \n",
              "1962             Ivano restaurant corp.              317  9st   \n",
              "1965                 Noi Due Carne Inc.  141 West 69th Street   \n",
              "1978  Tequila Chitos Mexican Grill Inc.     358 W 23rd Street   \n",
              "1984            STARJEM RESTAURANT CORP   34 EAST   52 STREET   \n",
              "\n",
              "     restaurantinspectionid isroadwaycompliant              inspectedon  \\\n",
              "4                     72896          Compliant  2021-12-20T16:52:41.000   \n",
              "5                     72897          Compliant  2021-12-20T16:56:14.000   \n",
              "6                     72898          Compliant  2021-12-20T17:00:10.000   \n",
              "16                    72908          Compliant  2021-12-21T10:26:26.000   \n",
              "28                    10003          Compliant  2020-07-14T16:44:34.000   \n",
              "...                     ...                ...                      ...   \n",
              "1954                  74997          Compliant  2022-02-17T12:04:32.000   \n",
              "1962                  75005          Compliant  2022-02-17T13:37:11.000   \n",
              "1965                  75009          Compliant  2022-02-17T13:55:35.000   \n",
              "1978                  75024          Compliant  2022-02-17T15:51:44.000   \n",
              "1984                  75031          Compliant  2022-02-18T11:51:49.000   \n",
              "\n",
              "     agencycode postcode   latitude   longitude communityboard  \\\n",
              "4           DOT    11249  40.716913  -73.958728              1   \n",
              "5           DOT    10012  40.724837  -73.998402              2   \n",
              "6           DOT    10011  40.744917  -74.002487              4   \n",
              "16          DOT    10022        NaN         NaN            NaN   \n",
              "28          DEP    10011        NaN         NaN            NaN   \n",
              "...         ...      ...        ...         ...            ...   \n",
              "1954        DOT    10012  40.723769  -74.002605              2   \n",
              "1962        DOT    11715  40.668911  -73.985747              6   \n",
              "1965        DOT    10023  40.776033  -73.981485              7   \n",
              "1978        DOT    10011  40.745963  -74.000094              4   \n",
              "1984        DOT    10022  40.758954  -73.974325              5   \n",
              "\n",
              "     councildistrict censustract      bin         bbl  \\\n",
              "4                 33         553  3062192  3023350026   \n",
              "5                  1          49  1080019  1005120023   \n",
              "6                  3          89  1088184  1007187501   \n",
              "16               NaN         NaN      NaN         NaN   \n",
              "28               NaN         NaN      NaN         NaN   \n",
              "...              ...         ...      ...         ...   \n",
              "1954               1          47  1007338  1004880034   \n",
              "1962              39         137  3022143  3010050074   \n",
              "1965               6         153  1029634  1011410017   \n",
              "1978               3          93  1013378  1007467501   \n",
              "1984               4         102  1035474  1012870052   \n",
              "\n",
              "                                             nta skippedreason  \n",
              "4                          North Side-South Side           NaN  \n",
              "5         SoHo-TriBeCa-Civic Center-Little Italy           NaN  \n",
              "6     Hudson Yards-Chelsea-Flatiron-Union Square           NaN  \n",
              "16                                           NaN           NaN  \n",
              "28                                           NaN           NaN  \n",
              "...                                          ...           ...  \n",
              "1954      SoHo-TriBeCa-Civic Center-Little Italy           NaN  \n",
              "1962                          Park Slope-Gowanus           NaN  \n",
              "1965                              Lincoln Square           NaN  \n",
              "1978  Hudson Yards-Chelsea-Flatiron-Union Square           NaN  \n",
              "1984                       Midtown-Midtown South           NaN  \n",
              "\n",
              "[410 rows x 19 columns]"
            ],
            "text/html": [
              "\n",
              "  <div id=\"df-09c6c2c9-ab5f-4f12-9b46-00e1985ca97a\">\n",
              "    <div class=\"colab-df-container\">\n",
              "      <div>\n",
              "<style scoped>\n",
              "    .dataframe tbody tr th:only-of-type {\n",
              "        vertical-align: middle;\n",
              "    }\n",
              "\n",
              "    .dataframe tbody tr th {\n",
              "        vertical-align: top;\n",
              "    }\n",
              "\n",
              "    .dataframe thead th {\n",
              "        text-align: right;\n",
              "    }\n",
              "</style>\n",
              "<table border=\"1\" class=\"dataframe\">\n",
              "  <thead>\n",
              "    <tr style=\"text-align: right;\">\n",
              "      <th></th>\n",
              "      <th>borough</th>\n",
              "      <th>restaurantname</th>\n",
              "      <th>seatingchoice</th>\n",
              "      <th>legalbusinessname</th>\n",
              "      <th>businessaddress</th>\n",
              "      <th>restaurantinspectionid</th>\n",
              "      <th>isroadwaycompliant</th>\n",
              "      <th>inspectedon</th>\n",
              "      <th>agencycode</th>\n",
              "      <th>postcode</th>\n",
              "      <th>latitude</th>\n",
              "      <th>longitude</th>\n",
              "      <th>communityboard</th>\n",
              "      <th>councildistrict</th>\n",
              "      <th>censustract</th>\n",
              "      <th>bin</th>\n",
              "      <th>bbl</th>\n",
              "      <th>nta</th>\n",
              "      <th>skippedreason</th>\n",
              "    </tr>\n",
              "  </thead>\n",
              "  <tbody>\n",
              "    <tr>\n",
              "      <th>4</th>\n",
              "      <td>Brooklyn</td>\n",
              "      <td>WILLIAMSBURG THAI CUISINE</td>\n",
              "      <td>both</td>\n",
              "      <td>WILLIAMSBURG THAI CUISINE NY INC</td>\n",
              "      <td>212 BEDFORD AVENUE</td>\n",
              "      <td>72896</td>\n",
              "      <td>Compliant</td>\n",
              "      <td>2021-12-20T16:52:41.000</td>\n",
              "      <td>DOT</td>\n",
              "      <td>11249</td>\n",
              "      <td>40.716913</td>\n",
              "      <td>-73.958728</td>\n",
              "      <td>1</td>\n",
              "      <td>33</td>\n",
              "      <td>553</td>\n",
              "      <td>3062192</td>\n",
              "      <td>3023350026</td>\n",
              "      <td>North Side-South Side</td>\n",
              "      <td>NaN</td>\n",
              "    </tr>\n",
              "    <tr>\n",
              "      <th>5</th>\n",
              "      <td>Manhattan</td>\n",
              "      <td>LURE FISHBAR</td>\n",
              "      <td>both</td>\n",
              "      <td>142 MERCER STREET LLC</td>\n",
              "      <td>142 MERCER STREET</td>\n",
              "      <td>72897</td>\n",
              "      <td>Compliant</td>\n",
              "      <td>2021-12-20T16:56:14.000</td>\n",
              "      <td>DOT</td>\n",
              "      <td>10012</td>\n",
              "      <td>40.724837</td>\n",
              "      <td>-73.998402</td>\n",
              "      <td>2</td>\n",
              "      <td>1</td>\n",
              "      <td>49</td>\n",
              "      <td>1080019</td>\n",
              "      <td>1005120023</td>\n",
              "      <td>SoHo-TriBeCa-Civic Center-Little Italy</td>\n",
              "      <td>NaN</td>\n",
              "    </tr>\n",
              "    <tr>\n",
              "      <th>6</th>\n",
              "      <td>Manhattan</td>\n",
              "      <td>Mojo omakase</td>\n",
              "      <td>both</td>\n",
              "      <td>Mojo chef inc</td>\n",
              "      <td>177 9th avenue</td>\n",
              "      <td>72898</td>\n",
              "      <td>Compliant</td>\n",
              "      <td>2021-12-20T17:00:10.000</td>\n",
              "      <td>DOT</td>\n",
              "      <td>10011</td>\n",
              "      <td>40.744917</td>\n",
              "      <td>-74.002487</td>\n",
              "      <td>4</td>\n",
              "      <td>3</td>\n",
              "      <td>89</td>\n",
              "      <td>1088184</td>\n",
              "      <td>1007187501</td>\n",
              "      <td>Hudson Yards-Chelsea-Flatiron-Union Square</td>\n",
              "      <td>NaN</td>\n",
              "    </tr>\n",
              "    <tr>\n",
              "      <th>16</th>\n",
              "      <td>Manhattan</td>\n",
              "      <td>Reliable Food</td>\n",
              "      <td>sidewalk</td>\n",
              "      <td>Reliable Food, Inc</td>\n",
              "      <td>59 54th st</td>\n",
              "      <td>72908</td>\n",
              "      <td>Compliant</td>\n",
              "      <td>2021-12-21T10:26:26.000</td>\n",
              "      <td>DOT</td>\n",
              "      <td>10022</td>\n",
              "      <td>NaN</td>\n",
              "      <td>NaN</td>\n",
              "      <td>NaN</td>\n",
              "      <td>NaN</td>\n",
              "      <td>NaN</td>\n",
              "      <td>NaN</td>\n",
              "      <td>NaN</td>\n",
              "      <td>NaN</td>\n",
              "      <td>NaN</td>\n",
              "    </tr>\n",
              "    <tr>\n",
              "      <th>28</th>\n",
              "      <td>Manhattan</td>\n",
              "      <td>JUE LAN CLUB</td>\n",
              "      <td>both</td>\n",
              "      <td>Jade Farm LLC</td>\n",
              "      <td>49W  20th Street</td>\n",
              "      <td>10003</td>\n",
              "      <td>Compliant</td>\n",
              "      <td>2020-07-14T16:44:34.000</td>\n",
              "      <td>DEP</td>\n",
              "      <td>10011</td>\n",
              "      <td>NaN</td>\n",
              "      <td>NaN</td>\n",
              "      <td>NaN</td>\n",
              "      <td>NaN</td>\n",
              "      <td>NaN</td>\n",
              "      <td>NaN</td>\n",
              "      <td>NaN</td>\n",
              "      <td>NaN</td>\n",
              "      <td>NaN</td>\n",
              "    </tr>\n",
              "    <tr>\n",
              "      <th>...</th>\n",
              "      <td>...</td>\n",
              "      <td>...</td>\n",
              "      <td>...</td>\n",
              "      <td>...</td>\n",
              "      <td>...</td>\n",
              "      <td>...</td>\n",
              "      <td>...</td>\n",
              "      <td>...</td>\n",
              "      <td>...</td>\n",
              "      <td>...</td>\n",
              "      <td>...</td>\n",
              "      <td>...</td>\n",
              "      <td>...</td>\n",
              "      <td>...</td>\n",
              "      <td>...</td>\n",
              "      <td>...</td>\n",
              "      <td>...</td>\n",
              "      <td>...</td>\n",
              "      <td>...</td>\n",
              "    </tr>\n",
              "    <tr>\n",
              "      <th>1954</th>\n",
              "      <td>Manhattan</td>\n",
              "      <td>CIPRIANI DOWNTOWN RESTAURANT</td>\n",
              "      <td>both</td>\n",
              "      <td>DOWNTOWN RESTAURANT COMPANY LLC</td>\n",
              "      <td>376 WEST BROADWAY</td>\n",
              "      <td>74997</td>\n",
              "      <td>Compliant</td>\n",
              "      <td>2022-02-17T12:04:32.000</td>\n",
              "      <td>DOT</td>\n",
              "      <td>10012</td>\n",
              "      <td>40.723769</td>\n",
              "      <td>-74.002605</td>\n",
              "      <td>2</td>\n",
              "      <td>1</td>\n",
              "      <td>47</td>\n",
              "      <td>1007338</td>\n",
              "      <td>1004880034</td>\n",
              "      <td>SoHo-TriBeCa-Civic Center-Little Italy</td>\n",
              "      <td>NaN</td>\n",
              "    </tr>\n",
              "    <tr>\n",
              "      <th>1962</th>\n",
              "      <td>Brooklyn</td>\n",
              "      <td>El viejo yayo 2</td>\n",
              "      <td>both</td>\n",
              "      <td>Ivano restaurant corp.</td>\n",
              "      <td>317  9st</td>\n",
              "      <td>75005</td>\n",
              "      <td>Compliant</td>\n",
              "      <td>2022-02-17T13:37:11.000</td>\n",
              "      <td>DOT</td>\n",
              "      <td>11715</td>\n",
              "      <td>40.668911</td>\n",
              "      <td>-73.985747</td>\n",
              "      <td>6</td>\n",
              "      <td>39</td>\n",
              "      <td>137</td>\n",
              "      <td>3022143</td>\n",
              "      <td>3010050074</td>\n",
              "      <td>Park Slope-Gowanus</td>\n",
              "      <td>NaN</td>\n",
              "    </tr>\n",
              "    <tr>\n",
              "      <th>1965</th>\n",
              "      <td>Manhattan</td>\n",
              "      <td>Noi Due Carne</td>\n",
              "      <td>both</td>\n",
              "      <td>Noi Due Carne Inc.</td>\n",
              "      <td>141 West 69th Street</td>\n",
              "      <td>75009</td>\n",
              "      <td>Compliant</td>\n",
              "      <td>2022-02-17T13:55:35.000</td>\n",
              "      <td>DOT</td>\n",
              "      <td>10023</td>\n",
              "      <td>40.776033</td>\n",
              "      <td>-73.981485</td>\n",
              "      <td>7</td>\n",
              "      <td>6</td>\n",
              "      <td>153</td>\n",
              "      <td>1029634</td>\n",
              "      <td>1011410017</td>\n",
              "      <td>Lincoln Square</td>\n",
              "      <td>NaN</td>\n",
              "    </tr>\n",
              "    <tr>\n",
              "      <th>1978</th>\n",
              "      <td>Manhattan</td>\n",
              "      <td>Tequila Chitos Mexican Bar &amp; Grill</td>\n",
              "      <td>sidewalk</td>\n",
              "      <td>Tequila Chitos Mexican Grill Inc.</td>\n",
              "      <td>358 W 23rd Street</td>\n",
              "      <td>75024</td>\n",
              "      <td>Compliant</td>\n",
              "      <td>2022-02-17T15:51:44.000</td>\n",
              "      <td>DOT</td>\n",
              "      <td>10011</td>\n",
              "      <td>40.745963</td>\n",
              "      <td>-74.000094</td>\n",
              "      <td>4</td>\n",
              "      <td>3</td>\n",
              "      <td>93</td>\n",
              "      <td>1013378</td>\n",
              "      <td>1007467501</td>\n",
              "      <td>Hudson Yards-Chelsea-Flatiron-Union Square</td>\n",
              "      <td>NaN</td>\n",
              "    </tr>\n",
              "    <tr>\n",
              "      <th>1984</th>\n",
              "      <td>Manhattan</td>\n",
              "      <td>FRESCO</td>\n",
              "      <td>both</td>\n",
              "      <td>STARJEM RESTAURANT CORP</td>\n",
              "      <td>34 EAST   52 STREET</td>\n",
              "      <td>75031</td>\n",
              "      <td>Compliant</td>\n",
              "      <td>2022-02-18T11:51:49.000</td>\n",
              "      <td>DOT</td>\n",
              "      <td>10022</td>\n",
              "      <td>40.758954</td>\n",
              "      <td>-73.974325</td>\n",
              "      <td>5</td>\n",
              "      <td>4</td>\n",
              "      <td>102</td>\n",
              "      <td>1035474</td>\n",
              "      <td>1012870052</td>\n",
              "      <td>Midtown-Midtown South</td>\n",
              "      <td>NaN</td>\n",
              "    </tr>\n",
              "  </tbody>\n",
              "</table>\n",
              "<p>410 rows × 19 columns</p>\n",
              "</div>\n",
              "      <button class=\"colab-df-convert\" onclick=\"convertToInteractive('df-09c6c2c9-ab5f-4f12-9b46-00e1985ca97a')\"\n",
              "              title=\"Convert this dataframe to an interactive table.\"\n",
              "              style=\"display:none;\">\n",
              "        \n",
              "  <svg xmlns=\"http://www.w3.org/2000/svg\" height=\"24px\"viewBox=\"0 0 24 24\"\n",
              "       width=\"24px\">\n",
              "    <path d=\"M0 0h24v24H0V0z\" fill=\"none\"/>\n",
              "    <path d=\"M18.56 5.44l.94 2.06.94-2.06 2.06-.94-2.06-.94-.94-2.06-.94 2.06-2.06.94zm-11 1L8.5 8.5l.94-2.06 2.06-.94-2.06-.94L8.5 2.5l-.94 2.06-2.06.94zm10 10l.94 2.06.94-2.06 2.06-.94-2.06-.94-.94-2.06-.94 2.06-2.06.94z\"/><path d=\"M17.41 7.96l-1.37-1.37c-.4-.4-.92-.59-1.43-.59-.52 0-1.04.2-1.43.59L10.3 9.45l-7.72 7.72c-.78.78-.78 2.05 0 2.83L4 21.41c.39.39.9.59 1.41.59.51 0 1.02-.2 1.41-.59l7.78-7.78 2.81-2.81c.8-.78.8-2.07 0-2.86zM5.41 20L4 18.59l7.72-7.72 1.47 1.35L5.41 20z\"/>\n",
              "  </svg>\n",
              "      </button>\n",
              "      \n",
              "  <style>\n",
              "    .colab-df-container {\n",
              "      display:flex;\n",
              "      flex-wrap:wrap;\n",
              "      gap: 12px;\n",
              "    }\n",
              "\n",
              "    .colab-df-convert {\n",
              "      background-color: #E8F0FE;\n",
              "      border: none;\n",
              "      border-radius: 50%;\n",
              "      cursor: pointer;\n",
              "      display: none;\n",
              "      fill: #1967D2;\n",
              "      height: 32px;\n",
              "      padding: 0 0 0 0;\n",
              "      width: 32px;\n",
              "    }\n",
              "\n",
              "    .colab-df-convert:hover {\n",
              "      background-color: #E2EBFA;\n",
              "      box-shadow: 0px 1px 2px rgba(60, 64, 67, 0.3), 0px 1px 3px 1px rgba(60, 64, 67, 0.15);\n",
              "      fill: #174EA6;\n",
              "    }\n",
              "\n",
              "    [theme=dark] .colab-df-convert {\n",
              "      background-color: #3B4455;\n",
              "      fill: #D2E3FC;\n",
              "    }\n",
              "\n",
              "    [theme=dark] .colab-df-convert:hover {\n",
              "      background-color: #434B5C;\n",
              "      box-shadow: 0px 1px 3px 1px rgba(0, 0, 0, 0.15);\n",
              "      filter: drop-shadow(0px 1px 2px rgba(0, 0, 0, 0.3));\n",
              "      fill: #FFFFFF;\n",
              "    }\n",
              "  </style>\n",
              "\n",
              "      <script>\n",
              "        const buttonEl =\n",
              "          document.querySelector('#df-09c6c2c9-ab5f-4f12-9b46-00e1985ca97a button.colab-df-convert');\n",
              "        buttonEl.style.display =\n",
              "          google.colab.kernel.accessAllowed ? 'block' : 'none';\n",
              "\n",
              "        async function convertToInteractive(key) {\n",
              "          const element = document.querySelector('#df-09c6c2c9-ab5f-4f12-9b46-00e1985ca97a');\n",
              "          const dataTable =\n",
              "            await google.colab.kernel.invokeFunction('convertToInteractive',\n",
              "                                                     [key], {});\n",
              "          if (!dataTable) return;\n",
              "\n",
              "          const docLinkHtml = 'Like what you see? Visit the ' +\n",
              "            '<a target=\"_blank\" href=https://colab.research.google.com/notebooks/data_table.ipynb>data table notebook</a>'\n",
              "            + ' to learn more about interactive tables.';\n",
              "          element.innerHTML = '';\n",
              "          dataTable['output_type'] = 'display_data';\n",
              "          await google.colab.output.renderOutput(dataTable, element);\n",
              "          const docLink = document.createElement('div');\n",
              "          docLink.innerHTML = docLinkHtml;\n",
              "          element.appendChild(docLink);\n",
              "        }\n",
              "      </script>\n",
              "    </div>\n",
              "  </div>\n",
              "  "
            ]
          },
          "metadata": {},
          "execution_count": 104
        }
      ]
    },
    {
      "cell_type": "code",
      "source": [
        "#finding only the noncompliant restaurants (sam)\n",
        "noncompliant = df[df['isroadwaycompliant'] != 'Compliant']"
      ],
      "metadata": {
        "id": "sNfYXT7btdP1"
      },
      "execution_count": 105,
      "outputs": []
    },
    {
      "cell_type": "code",
      "source": [
        "noncompliant"
      ],
      "metadata": {
        "colab": {
          "base_uri": "https://localhost:8080/",
          "height": 904
        },
        "id": "KcRjhAQutfE0",
        "outputId": "4e3a131a-8136-4048-871a-c3a0b329c585"
      },
      "execution_count": 106,
      "outputs": [
        {
          "output_type": "execute_result",
          "data": {
            "text/plain": [
              "        borough            restaurantname seatingchoice  \\\n",
              "0     Manhattan               Oscar Wilde          both   \n",
              "1     Manhattan       LA RUBIA RESTAURANT          both   \n",
              "2     Manhattan              Thai Sliders      sidewalk   \n",
              "3      Brooklyn                     Otway          both   \n",
              "7     Manhattan                    Diller      sidewalk   \n",
              "...         ...                       ...           ...   \n",
              "1995  Manhattan  Totto Ramen Midtown East      sidewalk   \n",
              "1996     Queens          Bund on Broadway          both   \n",
              "1997   Brooklyn                SALVATORES       roadway   \n",
              "1998  Manhattan               LA VILLETTA          both   \n",
              "1999     Queens                     Blend          both   \n",
              "\n",
              "                     legalbusinessname       businessaddress  \\\n",
              "0                   Camelot Castle LLC      45  West 27th st   \n",
              "1              LA RUBIA RESTAURANT INC         3517 BROADWAY   \n",
              "2                       Silom Thai Inc         150   8th Ave   \n",
              "3                     St james 930 LLC     930 Fulton street   \n",
              "7                          Dillers Inc      357 Grand Street   \n",
              "...                                ...                   ...   \n",
              "1995            New Season Foods Corp.  248 East 52nd Street   \n",
              "1996  Bund on Broadway & Company, Inc.      25 - 08 Broadway   \n",
              "1997      SALVATORE'S PIZZERIA NYC LLC          291 3 AVENUE   \n",
              "1998                        JONILU LLC  398 EAST   52 STREET   \n",
              "1999               Cullen Partners LLC     47-04 Vernon Blvd   \n",
              "\n",
              "     restaurantinspectionid         isroadwaycompliant  \\\n",
              "0                     72891              Non-Compliant   \n",
              "1                     72892            For HIQA Review   \n",
              "2                     72893              Non-Compliant   \n",
              "3                     72894           Cease and Desist   \n",
              "7                     72899  Suspended and Deactivated   \n",
              "...                     ...                        ...   \n",
              "1995                  75042           Cease and Desist   \n",
              "1996                  75043           Cease and Desist   \n",
              "1997                  75044              Non-Compliant   \n",
              "1998                  75045           Cease and Desist   \n",
              "1999                  75046           Cease and Desist   \n",
              "\n",
              "                  inspectedon agencycode postcode   latitude   longitude  \\\n",
              "0     2021-12-20T16:06:58.000        DOT    10001  40.744876  -73.989657   \n",
              "1     2021-12-20T16:18:42.000        DOT    10031  40.825863  -73.950874   \n",
              "2     2021-12-20T16:35:41.000        DOT    10011  40.741906  -74.000945   \n",
              "3     2021-12-20T16:38:45.000        DOT    11238  40.682833  -73.963833   \n",
              "7     2021-12-20T23:58:57.000        NaN    10002  40.716662  -73.989041   \n",
              "...                       ...        ...      ...        ...         ...   \n",
              "1995  2022-02-18T12:56:14.000        DOT    10022  40.756603  -73.968749   \n",
              "1996  2022-02-18T13:05:47.000        DOT    11106  40.763304  -73.928214   \n",
              "1997  2022-02-18T13:37:08.000        DOT    11215  40.676956  -73.986405   \n",
              "1998  2022-02-18T13:46:58.000        DOT    10022  40.754988  -73.964927   \n",
              "1999  2022-02-18T13:49:27.000        DOT    11101  40.745295  -73.953254   \n",
              "\n",
              "     communityboard councildistrict censustract      bin         bbl  \\\n",
              "0                 5               3          58  1015677  1008290011   \n",
              "1                 9               7         229  1062369  1020910032   \n",
              "2                 4               3          81  1013845  1007670002   \n",
              "3                 2              35         201  3335112  3020130038   \n",
              "7                 3               1        1401  1077604  1003110013   \n",
              "...             ...             ...         ...      ...         ...   \n",
              "1995              6               4          98  1038490  1013250132   \n",
              "1996              1              22          53  4007156  4005800020   \n",
              "1997              6              39         119  3007692  3004540013   \n",
              "1998              6               4        8603  1081200  1013630047   \n",
              "1999              2              26           7  4000085  4000290046   \n",
              "\n",
              "                                             nta skippedreason  \n",
              "0     Hudson Yards-Chelsea-Flatiron-Union Square           NaN  \n",
              "1                               Hamilton Heights           NaN  \n",
              "2     Hudson Yards-Chelsea-Flatiron-Union Square           NaN  \n",
              "3                                   Clinton Hill           NaN  \n",
              "7                                Lower East Side           NaN  \n",
              "...                                          ...           ...  \n",
              "1995                     Turtle Bay-East Midtown           NaN  \n",
              "1996                                     Astoria           NaN  \n",
              "1997                          Park Slope-Gowanus           NaN  \n",
              "1998                     Turtle Bay-East Midtown           NaN  \n",
              "1999        Hunters Point-Sunnyside-West Maspeth           NaN  \n",
              "\n",
              "[1590 rows x 19 columns]"
            ],
            "text/html": [
              "\n",
              "  <div id=\"df-ea29926d-8b45-4229-b0fd-4875e3822418\">\n",
              "    <div class=\"colab-df-container\">\n",
              "      <div>\n",
              "<style scoped>\n",
              "    .dataframe tbody tr th:only-of-type {\n",
              "        vertical-align: middle;\n",
              "    }\n",
              "\n",
              "    .dataframe tbody tr th {\n",
              "        vertical-align: top;\n",
              "    }\n",
              "\n",
              "    .dataframe thead th {\n",
              "        text-align: right;\n",
              "    }\n",
              "</style>\n",
              "<table border=\"1\" class=\"dataframe\">\n",
              "  <thead>\n",
              "    <tr style=\"text-align: right;\">\n",
              "      <th></th>\n",
              "      <th>borough</th>\n",
              "      <th>restaurantname</th>\n",
              "      <th>seatingchoice</th>\n",
              "      <th>legalbusinessname</th>\n",
              "      <th>businessaddress</th>\n",
              "      <th>restaurantinspectionid</th>\n",
              "      <th>isroadwaycompliant</th>\n",
              "      <th>inspectedon</th>\n",
              "      <th>agencycode</th>\n",
              "      <th>postcode</th>\n",
              "      <th>latitude</th>\n",
              "      <th>longitude</th>\n",
              "      <th>communityboard</th>\n",
              "      <th>councildistrict</th>\n",
              "      <th>censustract</th>\n",
              "      <th>bin</th>\n",
              "      <th>bbl</th>\n",
              "      <th>nta</th>\n",
              "      <th>skippedreason</th>\n",
              "    </tr>\n",
              "  </thead>\n",
              "  <tbody>\n",
              "    <tr>\n",
              "      <th>0</th>\n",
              "      <td>Manhattan</td>\n",
              "      <td>Oscar Wilde</td>\n",
              "      <td>both</td>\n",
              "      <td>Camelot Castle LLC</td>\n",
              "      <td>45  West 27th st</td>\n",
              "      <td>72891</td>\n",
              "      <td>Non-Compliant</td>\n",
              "      <td>2021-12-20T16:06:58.000</td>\n",
              "      <td>DOT</td>\n",
              "      <td>10001</td>\n",
              "      <td>40.744876</td>\n",
              "      <td>-73.989657</td>\n",
              "      <td>5</td>\n",
              "      <td>3</td>\n",
              "      <td>58</td>\n",
              "      <td>1015677</td>\n",
              "      <td>1008290011</td>\n",
              "      <td>Hudson Yards-Chelsea-Flatiron-Union Square</td>\n",
              "      <td>NaN</td>\n",
              "    </tr>\n",
              "    <tr>\n",
              "      <th>1</th>\n",
              "      <td>Manhattan</td>\n",
              "      <td>LA RUBIA RESTAURANT</td>\n",
              "      <td>both</td>\n",
              "      <td>LA RUBIA RESTAURANT INC</td>\n",
              "      <td>3517 BROADWAY</td>\n",
              "      <td>72892</td>\n",
              "      <td>For HIQA Review</td>\n",
              "      <td>2021-12-20T16:18:42.000</td>\n",
              "      <td>DOT</td>\n",
              "      <td>10031</td>\n",
              "      <td>40.825863</td>\n",
              "      <td>-73.950874</td>\n",
              "      <td>9</td>\n",
              "      <td>7</td>\n",
              "      <td>229</td>\n",
              "      <td>1062369</td>\n",
              "      <td>1020910032</td>\n",
              "      <td>Hamilton Heights</td>\n",
              "      <td>NaN</td>\n",
              "    </tr>\n",
              "    <tr>\n",
              "      <th>2</th>\n",
              "      <td>Manhattan</td>\n",
              "      <td>Thai Sliders</td>\n",
              "      <td>sidewalk</td>\n",
              "      <td>Silom Thai Inc</td>\n",
              "      <td>150   8th Ave</td>\n",
              "      <td>72893</td>\n",
              "      <td>Non-Compliant</td>\n",
              "      <td>2021-12-20T16:35:41.000</td>\n",
              "      <td>DOT</td>\n",
              "      <td>10011</td>\n",
              "      <td>40.741906</td>\n",
              "      <td>-74.000945</td>\n",
              "      <td>4</td>\n",
              "      <td>3</td>\n",
              "      <td>81</td>\n",
              "      <td>1013845</td>\n",
              "      <td>1007670002</td>\n",
              "      <td>Hudson Yards-Chelsea-Flatiron-Union Square</td>\n",
              "      <td>NaN</td>\n",
              "    </tr>\n",
              "    <tr>\n",
              "      <th>3</th>\n",
              "      <td>Brooklyn</td>\n",
              "      <td>Otway</td>\n",
              "      <td>both</td>\n",
              "      <td>St james 930 LLC</td>\n",
              "      <td>930 Fulton street</td>\n",
              "      <td>72894</td>\n",
              "      <td>Cease and Desist</td>\n",
              "      <td>2021-12-20T16:38:45.000</td>\n",
              "      <td>DOT</td>\n",
              "      <td>11238</td>\n",
              "      <td>40.682833</td>\n",
              "      <td>-73.963833</td>\n",
              "      <td>2</td>\n",
              "      <td>35</td>\n",
              "      <td>201</td>\n",
              "      <td>3335112</td>\n",
              "      <td>3020130038</td>\n",
              "      <td>Clinton Hill</td>\n",
              "      <td>NaN</td>\n",
              "    </tr>\n",
              "    <tr>\n",
              "      <th>7</th>\n",
              "      <td>Manhattan</td>\n",
              "      <td>Diller</td>\n",
              "      <td>sidewalk</td>\n",
              "      <td>Dillers Inc</td>\n",
              "      <td>357 Grand Street</td>\n",
              "      <td>72899</td>\n",
              "      <td>Suspended and Deactivated</td>\n",
              "      <td>2021-12-20T23:58:57.000</td>\n",
              "      <td>NaN</td>\n",
              "      <td>10002</td>\n",
              "      <td>40.716662</td>\n",
              "      <td>-73.989041</td>\n",
              "      <td>3</td>\n",
              "      <td>1</td>\n",
              "      <td>1401</td>\n",
              "      <td>1077604</td>\n",
              "      <td>1003110013</td>\n",
              "      <td>Lower East Side</td>\n",
              "      <td>NaN</td>\n",
              "    </tr>\n",
              "    <tr>\n",
              "      <th>...</th>\n",
              "      <td>...</td>\n",
              "      <td>...</td>\n",
              "      <td>...</td>\n",
              "      <td>...</td>\n",
              "      <td>...</td>\n",
              "      <td>...</td>\n",
              "      <td>...</td>\n",
              "      <td>...</td>\n",
              "      <td>...</td>\n",
              "      <td>...</td>\n",
              "      <td>...</td>\n",
              "      <td>...</td>\n",
              "      <td>...</td>\n",
              "      <td>...</td>\n",
              "      <td>...</td>\n",
              "      <td>...</td>\n",
              "      <td>...</td>\n",
              "      <td>...</td>\n",
              "      <td>...</td>\n",
              "    </tr>\n",
              "    <tr>\n",
              "      <th>1995</th>\n",
              "      <td>Manhattan</td>\n",
              "      <td>Totto Ramen Midtown East</td>\n",
              "      <td>sidewalk</td>\n",
              "      <td>New Season Foods Corp.</td>\n",
              "      <td>248 East 52nd Street</td>\n",
              "      <td>75042</td>\n",
              "      <td>Cease and Desist</td>\n",
              "      <td>2022-02-18T12:56:14.000</td>\n",
              "      <td>DOT</td>\n",
              "      <td>10022</td>\n",
              "      <td>40.756603</td>\n",
              "      <td>-73.968749</td>\n",
              "      <td>6</td>\n",
              "      <td>4</td>\n",
              "      <td>98</td>\n",
              "      <td>1038490</td>\n",
              "      <td>1013250132</td>\n",
              "      <td>Turtle Bay-East Midtown</td>\n",
              "      <td>NaN</td>\n",
              "    </tr>\n",
              "    <tr>\n",
              "      <th>1996</th>\n",
              "      <td>Queens</td>\n",
              "      <td>Bund on Broadway</td>\n",
              "      <td>both</td>\n",
              "      <td>Bund on Broadway &amp; Company, Inc.</td>\n",
              "      <td>25 - 08 Broadway</td>\n",
              "      <td>75043</td>\n",
              "      <td>Cease and Desist</td>\n",
              "      <td>2022-02-18T13:05:47.000</td>\n",
              "      <td>DOT</td>\n",
              "      <td>11106</td>\n",
              "      <td>40.763304</td>\n",
              "      <td>-73.928214</td>\n",
              "      <td>1</td>\n",
              "      <td>22</td>\n",
              "      <td>53</td>\n",
              "      <td>4007156</td>\n",
              "      <td>4005800020</td>\n",
              "      <td>Astoria</td>\n",
              "      <td>NaN</td>\n",
              "    </tr>\n",
              "    <tr>\n",
              "      <th>1997</th>\n",
              "      <td>Brooklyn</td>\n",
              "      <td>SALVATORES</td>\n",
              "      <td>roadway</td>\n",
              "      <td>SALVATORE'S PIZZERIA NYC LLC</td>\n",
              "      <td>291 3 AVENUE</td>\n",
              "      <td>75044</td>\n",
              "      <td>Non-Compliant</td>\n",
              "      <td>2022-02-18T13:37:08.000</td>\n",
              "      <td>DOT</td>\n",
              "      <td>11215</td>\n",
              "      <td>40.676956</td>\n",
              "      <td>-73.986405</td>\n",
              "      <td>6</td>\n",
              "      <td>39</td>\n",
              "      <td>119</td>\n",
              "      <td>3007692</td>\n",
              "      <td>3004540013</td>\n",
              "      <td>Park Slope-Gowanus</td>\n",
              "      <td>NaN</td>\n",
              "    </tr>\n",
              "    <tr>\n",
              "      <th>1998</th>\n",
              "      <td>Manhattan</td>\n",
              "      <td>LA VILLETTA</td>\n",
              "      <td>both</td>\n",
              "      <td>JONILU LLC</td>\n",
              "      <td>398 EAST   52 STREET</td>\n",
              "      <td>75045</td>\n",
              "      <td>Cease and Desist</td>\n",
              "      <td>2022-02-18T13:46:58.000</td>\n",
              "      <td>DOT</td>\n",
              "      <td>10022</td>\n",
              "      <td>40.754988</td>\n",
              "      <td>-73.964927</td>\n",
              "      <td>6</td>\n",
              "      <td>4</td>\n",
              "      <td>8603</td>\n",
              "      <td>1081200</td>\n",
              "      <td>1013630047</td>\n",
              "      <td>Turtle Bay-East Midtown</td>\n",
              "      <td>NaN</td>\n",
              "    </tr>\n",
              "    <tr>\n",
              "      <th>1999</th>\n",
              "      <td>Queens</td>\n",
              "      <td>Blend</td>\n",
              "      <td>both</td>\n",
              "      <td>Cullen Partners LLC</td>\n",
              "      <td>47-04 Vernon Blvd</td>\n",
              "      <td>75046</td>\n",
              "      <td>Cease and Desist</td>\n",
              "      <td>2022-02-18T13:49:27.000</td>\n",
              "      <td>DOT</td>\n",
              "      <td>11101</td>\n",
              "      <td>40.745295</td>\n",
              "      <td>-73.953254</td>\n",
              "      <td>2</td>\n",
              "      <td>26</td>\n",
              "      <td>7</td>\n",
              "      <td>4000085</td>\n",
              "      <td>4000290046</td>\n",
              "      <td>Hunters Point-Sunnyside-West Maspeth</td>\n",
              "      <td>NaN</td>\n",
              "    </tr>\n",
              "  </tbody>\n",
              "</table>\n",
              "<p>1590 rows × 19 columns</p>\n",
              "</div>\n",
              "      <button class=\"colab-df-convert\" onclick=\"convertToInteractive('df-ea29926d-8b45-4229-b0fd-4875e3822418')\"\n",
              "              title=\"Convert this dataframe to an interactive table.\"\n",
              "              style=\"display:none;\">\n",
              "        \n",
              "  <svg xmlns=\"http://www.w3.org/2000/svg\" height=\"24px\"viewBox=\"0 0 24 24\"\n",
              "       width=\"24px\">\n",
              "    <path d=\"M0 0h24v24H0V0z\" fill=\"none\"/>\n",
              "    <path d=\"M18.56 5.44l.94 2.06.94-2.06 2.06-.94-2.06-.94-.94-2.06-.94 2.06-2.06.94zm-11 1L8.5 8.5l.94-2.06 2.06-.94-2.06-.94L8.5 2.5l-.94 2.06-2.06.94zm10 10l.94 2.06.94-2.06 2.06-.94-2.06-.94-.94-2.06-.94 2.06-2.06.94z\"/><path d=\"M17.41 7.96l-1.37-1.37c-.4-.4-.92-.59-1.43-.59-.52 0-1.04.2-1.43.59L10.3 9.45l-7.72 7.72c-.78.78-.78 2.05 0 2.83L4 21.41c.39.39.9.59 1.41.59.51 0 1.02-.2 1.41-.59l7.78-7.78 2.81-2.81c.8-.78.8-2.07 0-2.86zM5.41 20L4 18.59l7.72-7.72 1.47 1.35L5.41 20z\"/>\n",
              "  </svg>\n",
              "      </button>\n",
              "      \n",
              "  <style>\n",
              "    .colab-df-container {\n",
              "      display:flex;\n",
              "      flex-wrap:wrap;\n",
              "      gap: 12px;\n",
              "    }\n",
              "\n",
              "    .colab-df-convert {\n",
              "      background-color: #E8F0FE;\n",
              "      border: none;\n",
              "      border-radius: 50%;\n",
              "      cursor: pointer;\n",
              "      display: none;\n",
              "      fill: #1967D2;\n",
              "      height: 32px;\n",
              "      padding: 0 0 0 0;\n",
              "      width: 32px;\n",
              "    }\n",
              "\n",
              "    .colab-df-convert:hover {\n",
              "      background-color: #E2EBFA;\n",
              "      box-shadow: 0px 1px 2px rgba(60, 64, 67, 0.3), 0px 1px 3px 1px rgba(60, 64, 67, 0.15);\n",
              "      fill: #174EA6;\n",
              "    }\n",
              "\n",
              "    [theme=dark] .colab-df-convert {\n",
              "      background-color: #3B4455;\n",
              "      fill: #D2E3FC;\n",
              "    }\n",
              "\n",
              "    [theme=dark] .colab-df-convert:hover {\n",
              "      background-color: #434B5C;\n",
              "      box-shadow: 0px 1px 3px 1px rgba(0, 0, 0, 0.15);\n",
              "      filter: drop-shadow(0px 1px 2px rgba(0, 0, 0, 0.3));\n",
              "      fill: #FFFFFF;\n",
              "    }\n",
              "  </style>\n",
              "\n",
              "      <script>\n",
              "        const buttonEl =\n",
              "          document.querySelector('#df-ea29926d-8b45-4229-b0fd-4875e3822418 button.colab-df-convert');\n",
              "        buttonEl.style.display =\n",
              "          google.colab.kernel.accessAllowed ? 'block' : 'none';\n",
              "\n",
              "        async function convertToInteractive(key) {\n",
              "          const element = document.querySelector('#df-ea29926d-8b45-4229-b0fd-4875e3822418');\n",
              "          const dataTable =\n",
              "            await google.colab.kernel.invokeFunction('convertToInteractive',\n",
              "                                                     [key], {});\n",
              "          if (!dataTable) return;\n",
              "\n",
              "          const docLinkHtml = 'Like what you see? Visit the ' +\n",
              "            '<a target=\"_blank\" href=https://colab.research.google.com/notebooks/data_table.ipynb>data table notebook</a>'\n",
              "            + ' to learn more about interactive tables.';\n",
              "          element.innerHTML = '';\n",
              "          dataTable['output_type'] = 'display_data';\n",
              "          await google.colab.output.renderOutput(dataTable, element);\n",
              "          const docLink = document.createElement('div');\n",
              "          docLink.innerHTML = docLinkHtml;\n",
              "          element.appendChild(docLink);\n",
              "        }\n",
              "      </script>\n",
              "    </div>\n",
              "  </div>\n",
              "  "
            ]
          },
          "metadata": {},
          "execution_count": 106
        }
      ]
    },
    {
      "cell_type": "code",
      "source": [
        "#geopandas dataframe of compliant (sam)\n",
        "compliantll = compliant[['latitude', 'longitude']].copy()\n",
        "compliantlatlong = gpd.GeoDataFrame(compliantll, geometry = gpd.points_from_xy(compliantll.longitude, compliantll.latitude))"
      ],
      "metadata": {
        "id": "BLhdfUTCtf_W"
      },
      "execution_count": 107,
      "outputs": []
    },
    {
      "cell_type": "code",
      "source": [
        "compliantlatlong"
      ],
      "metadata": {
        "colab": {
          "base_uri": "https://localhost:8080/",
          "height": 424
        },
        "id": "0XfgjhvAtiPY",
        "outputId": "c96c6738-790e-487e-e487-27021add8f8e"
      },
      "execution_count": 108,
      "outputs": [
        {
          "output_type": "execute_result",
          "data": {
            "text/plain": [
              "       latitude   longitude                    geometry\n",
              "4     40.716913  -73.958728  POINT (-73.95873 40.71691)\n",
              "5     40.724837  -73.998402  POINT (-73.99840 40.72484)\n",
              "6     40.744917  -74.002487  POINT (-74.00249 40.74492)\n",
              "16          NaN         NaN                 POINT EMPTY\n",
              "28          NaN         NaN                 POINT EMPTY\n",
              "...         ...         ...                         ...\n",
              "1954  40.723769  -74.002605  POINT (-74.00261 40.72377)\n",
              "1962  40.668911  -73.985747  POINT (-73.98575 40.66891)\n",
              "1965  40.776033  -73.981485  POINT (-73.98149 40.77603)\n",
              "1978  40.745963  -74.000094  POINT (-74.00009 40.74596)\n",
              "1984  40.758954  -73.974325  POINT (-73.97432 40.75895)\n",
              "\n",
              "[410 rows x 3 columns]"
            ],
            "text/html": [
              "\n",
              "  <div id=\"df-f66dadb2-1ca6-43c6-a1b2-f6ba2d02ab84\">\n",
              "    <div class=\"colab-df-container\">\n",
              "      <div>\n",
              "<style scoped>\n",
              "    .dataframe tbody tr th:only-of-type {\n",
              "        vertical-align: middle;\n",
              "    }\n",
              "\n",
              "    .dataframe tbody tr th {\n",
              "        vertical-align: top;\n",
              "    }\n",
              "\n",
              "    .dataframe thead th {\n",
              "        text-align: right;\n",
              "    }\n",
              "</style>\n",
              "<table border=\"1\" class=\"dataframe\">\n",
              "  <thead>\n",
              "    <tr style=\"text-align: right;\">\n",
              "      <th></th>\n",
              "      <th>latitude</th>\n",
              "      <th>longitude</th>\n",
              "      <th>geometry</th>\n",
              "    </tr>\n",
              "  </thead>\n",
              "  <tbody>\n",
              "    <tr>\n",
              "      <th>4</th>\n",
              "      <td>40.716913</td>\n",
              "      <td>-73.958728</td>\n",
              "      <td>POINT (-73.95873 40.71691)</td>\n",
              "    </tr>\n",
              "    <tr>\n",
              "      <th>5</th>\n",
              "      <td>40.724837</td>\n",
              "      <td>-73.998402</td>\n",
              "      <td>POINT (-73.99840 40.72484)</td>\n",
              "    </tr>\n",
              "    <tr>\n",
              "      <th>6</th>\n",
              "      <td>40.744917</td>\n",
              "      <td>-74.002487</td>\n",
              "      <td>POINT (-74.00249 40.74492)</td>\n",
              "    </tr>\n",
              "    <tr>\n",
              "      <th>16</th>\n",
              "      <td>NaN</td>\n",
              "      <td>NaN</td>\n",
              "      <td>POINT EMPTY</td>\n",
              "    </tr>\n",
              "    <tr>\n",
              "      <th>28</th>\n",
              "      <td>NaN</td>\n",
              "      <td>NaN</td>\n",
              "      <td>POINT EMPTY</td>\n",
              "    </tr>\n",
              "    <tr>\n",
              "      <th>...</th>\n",
              "      <td>...</td>\n",
              "      <td>...</td>\n",
              "      <td>...</td>\n",
              "    </tr>\n",
              "    <tr>\n",
              "      <th>1954</th>\n",
              "      <td>40.723769</td>\n",
              "      <td>-74.002605</td>\n",
              "      <td>POINT (-74.00261 40.72377)</td>\n",
              "    </tr>\n",
              "    <tr>\n",
              "      <th>1962</th>\n",
              "      <td>40.668911</td>\n",
              "      <td>-73.985747</td>\n",
              "      <td>POINT (-73.98575 40.66891)</td>\n",
              "    </tr>\n",
              "    <tr>\n",
              "      <th>1965</th>\n",
              "      <td>40.776033</td>\n",
              "      <td>-73.981485</td>\n",
              "      <td>POINT (-73.98149 40.77603)</td>\n",
              "    </tr>\n",
              "    <tr>\n",
              "      <th>1978</th>\n",
              "      <td>40.745963</td>\n",
              "      <td>-74.000094</td>\n",
              "      <td>POINT (-74.00009 40.74596)</td>\n",
              "    </tr>\n",
              "    <tr>\n",
              "      <th>1984</th>\n",
              "      <td>40.758954</td>\n",
              "      <td>-73.974325</td>\n",
              "      <td>POINT (-73.97432 40.75895)</td>\n",
              "    </tr>\n",
              "  </tbody>\n",
              "</table>\n",
              "<p>410 rows × 3 columns</p>\n",
              "</div>\n",
              "      <button class=\"colab-df-convert\" onclick=\"convertToInteractive('df-f66dadb2-1ca6-43c6-a1b2-f6ba2d02ab84')\"\n",
              "              title=\"Convert this dataframe to an interactive table.\"\n",
              "              style=\"display:none;\">\n",
              "        \n",
              "  <svg xmlns=\"http://www.w3.org/2000/svg\" height=\"24px\"viewBox=\"0 0 24 24\"\n",
              "       width=\"24px\">\n",
              "    <path d=\"M0 0h24v24H0V0z\" fill=\"none\"/>\n",
              "    <path d=\"M18.56 5.44l.94 2.06.94-2.06 2.06-.94-2.06-.94-.94-2.06-.94 2.06-2.06.94zm-11 1L8.5 8.5l.94-2.06 2.06-.94-2.06-.94L8.5 2.5l-.94 2.06-2.06.94zm10 10l.94 2.06.94-2.06 2.06-.94-2.06-.94-.94-2.06-.94 2.06-2.06.94z\"/><path d=\"M17.41 7.96l-1.37-1.37c-.4-.4-.92-.59-1.43-.59-.52 0-1.04.2-1.43.59L10.3 9.45l-7.72 7.72c-.78.78-.78 2.05 0 2.83L4 21.41c.39.39.9.59 1.41.59.51 0 1.02-.2 1.41-.59l7.78-7.78 2.81-2.81c.8-.78.8-2.07 0-2.86zM5.41 20L4 18.59l7.72-7.72 1.47 1.35L5.41 20z\"/>\n",
              "  </svg>\n",
              "      </button>\n",
              "      \n",
              "  <style>\n",
              "    .colab-df-container {\n",
              "      display:flex;\n",
              "      flex-wrap:wrap;\n",
              "      gap: 12px;\n",
              "    }\n",
              "\n",
              "    .colab-df-convert {\n",
              "      background-color: #E8F0FE;\n",
              "      border: none;\n",
              "      border-radius: 50%;\n",
              "      cursor: pointer;\n",
              "      display: none;\n",
              "      fill: #1967D2;\n",
              "      height: 32px;\n",
              "      padding: 0 0 0 0;\n",
              "      width: 32px;\n",
              "    }\n",
              "\n",
              "    .colab-df-convert:hover {\n",
              "      background-color: #E2EBFA;\n",
              "      box-shadow: 0px 1px 2px rgba(60, 64, 67, 0.3), 0px 1px 3px 1px rgba(60, 64, 67, 0.15);\n",
              "      fill: #174EA6;\n",
              "    }\n",
              "\n",
              "    [theme=dark] .colab-df-convert {\n",
              "      background-color: #3B4455;\n",
              "      fill: #D2E3FC;\n",
              "    }\n",
              "\n",
              "    [theme=dark] .colab-df-convert:hover {\n",
              "      background-color: #434B5C;\n",
              "      box-shadow: 0px 1px 3px 1px rgba(0, 0, 0, 0.15);\n",
              "      filter: drop-shadow(0px 1px 2px rgba(0, 0, 0, 0.3));\n",
              "      fill: #FFFFFF;\n",
              "    }\n",
              "  </style>\n",
              "\n",
              "      <script>\n",
              "        const buttonEl =\n",
              "          document.querySelector('#df-f66dadb2-1ca6-43c6-a1b2-f6ba2d02ab84 button.colab-df-convert');\n",
              "        buttonEl.style.display =\n",
              "          google.colab.kernel.accessAllowed ? 'block' : 'none';\n",
              "\n",
              "        async function convertToInteractive(key) {\n",
              "          const element = document.querySelector('#df-f66dadb2-1ca6-43c6-a1b2-f6ba2d02ab84');\n",
              "          const dataTable =\n",
              "            await google.colab.kernel.invokeFunction('convertToInteractive',\n",
              "                                                     [key], {});\n",
              "          if (!dataTable) return;\n",
              "\n",
              "          const docLinkHtml = 'Like what you see? Visit the ' +\n",
              "            '<a target=\"_blank\" href=https://colab.research.google.com/notebooks/data_table.ipynb>data table notebook</a>'\n",
              "            + ' to learn more about interactive tables.';\n",
              "          element.innerHTML = '';\n",
              "          dataTable['output_type'] = 'display_data';\n",
              "          await google.colab.output.renderOutput(dataTable, element);\n",
              "          const docLink = document.createElement('div');\n",
              "          docLink.innerHTML = docLinkHtml;\n",
              "          element.appendChild(docLink);\n",
              "        }\n",
              "      </script>\n",
              "    </div>\n",
              "  </div>\n",
              "  "
            ]
          },
          "metadata": {},
          "execution_count": 108
        }
      ]
    },
    {
      "cell_type": "code",
      "source": [
        "#plot of the compliant restaurants (sam)\n",
        "compliantlatlong.plot(color = 'red', markersize = 2)"
      ],
      "metadata": {
        "colab": {
          "base_uri": "https://localhost:8080/",
          "height": 283
        },
        "id": "hYrXqRiItjv6",
        "outputId": "d34cbf85-1ccc-4848-f439-b2f9ec2fd13b"
      },
      "execution_count": 109,
      "outputs": [
        {
          "output_type": "execute_result",
          "data": {
            "text/plain": [
              "<matplotlib.axes._subplots.AxesSubplot at 0x7f74c9d1b580>"
            ]
          },
          "metadata": {},
          "execution_count": 109
        },
        {
          "output_type": "display_data",
          "data": {
            "text/plain": [
              "<Figure size 432x288 with 1 Axes>"
            ],
            "image/png": "[encoded data removed]"
          },
          "metadata": {
            "needs_background": "light"
          }
        }
      ]
    },
    {
      "cell_type": "code",
      "source": [
        "#creating the new base of new york city (sam)\n",
        "places = [\n",
        "    \"Manhattan, New York, New York, USA\", \n",
        "    \"Bronx, New York, New York, USA\",\n",
        "    \"Queens, New York, New York, USA\",\n",
        "    \"Brooklyn, New York, New York, USA\",\n",
        "    \"Staten Island, New York, New York, USA\",\n",
        "]\n",
        "p = ox.geocode_to_gdf(places)\n",
        "newyork = p[['geometry']].copy()"
      ],
      "metadata": {
        "id": "jwZJxrfRuHbW"
      },
      "execution_count": 110,
      "outputs": []
    },
    {
      "cell_type": "code",
      "source": [
        "#plotting only the compliant restaurants onto the map of new york city (sam)\n",
        "base = newyork.plot(color = 'white', edgecolor = 'black')\n",
        "compliantlatlong.plot(ax = base, marker = 'o', color = 'red', markersize = 5, alpha = 0.4)"
      ],
      "metadata": {
        "colab": {
          "base_uri": "https://localhost:8080/",
          "height": 283
        },
        "id": "vxV53VkZt87L",
        "outputId": "c34f3efb-3a91-4d4b-d704-8e5dfc882dd6"
      },
      "execution_count": 111,
      "outputs": [
        {
          "output_type": "execute_result",
          "data": {
            "text/plain": [
              "<matplotlib.axes._subplots.AxesSubplot at 0x7f74c9c9baf0>"
            ]
          },
          "metadata": {},
          "execution_count": 111
        },
        {
          "output_type": "display_data",
          "data": {
            "text/plain": [
              "<Figure size 432x288 with 1 Axes>"
            ],
            "image/png": "[encoded data removed]"
          },
          "metadata": {
            "needs_background": "light"
          }
        }
      ]
    },
    {
      "cell_type": "code",
      "source": [
        "#making a map of the non compliant restuarants - geopandas (sam)\n",
        "noncompliantll = noncompliant[['latitude', 'longitude']].copy()\n",
        "noncompliantlatlong = gpd.GeoDataFrame(noncompliantll, geometry = gpd.points_from_xy(noncompliantll.longitude, noncompliantll.latitude))"
      ],
      "metadata": {
        "id": "wrX3nRA3tlpA"
      },
      "execution_count": 112,
      "outputs": []
    },
    {
      "cell_type": "code",
      "source": [
        "noncompliantlatlong"
      ],
      "metadata": {
        "colab": {
          "base_uri": "https://localhost:8080/",
          "height": 424
        },
        "id": "H7J0BURVtrrL",
        "outputId": "3ccf36d9-123d-49d7-a02c-3c127cee7479"
      },
      "execution_count": 113,
      "outputs": [
        {
          "output_type": "execute_result",
          "data": {
            "text/plain": [
              "       latitude   longitude                    geometry\n",
              "0     40.744876  -73.989657  POINT (-73.98966 40.74488)\n",
              "1     40.825863  -73.950874  POINT (-73.95087 40.82586)\n",
              "2     40.741906  -74.000945  POINT (-74.00095 40.74191)\n",
              "3     40.682833  -73.963833  POINT (-73.96383 40.68283)\n",
              "7     40.716662  -73.989041  POINT (-73.98904 40.71666)\n",
              "...         ...         ...                         ...\n",
              "1995  40.756603  -73.968749  POINT (-73.96875 40.75660)\n",
              "1996  40.763304  -73.928214  POINT (-73.92821 40.76330)\n",
              "1997  40.676956  -73.986405  POINT (-73.98641 40.67696)\n",
              "1998  40.754988  -73.964927  POINT (-73.96493 40.75499)\n",
              "1999  40.745295  -73.953254  POINT (-73.95325 40.74529)\n",
              "\n",
              "[1590 rows x 3 columns]"
            ],
            "text/html": [
              "\n",
              "  <div id=\"df-16fad0ce-aef2-4c0a-9fe6-3b39812042a7\">\n",
              "    <div class=\"colab-df-container\">\n",
              "      <div>\n",
              "<style scoped>\n",
              "    .dataframe tbody tr th:only-of-type {\n",
              "        vertical-align: middle;\n",
              "    }\n",
              "\n",
              "    .dataframe tbody tr th {\n",
              "        vertical-align: top;\n",
              "    }\n",
              "\n",
              "    .dataframe thead th {\n",
              "        text-align: right;\n",
              "    }\n",
              "</style>\n",
              "<table border=\"1\" class=\"dataframe\">\n",
              "  <thead>\n",
              "    <tr style=\"text-align: right;\">\n",
              "      <th></th>\n",
              "      <th>latitude</th>\n",
              "      <th>longitude</th>\n",
              "      <th>geometry</th>\n",
              "    </tr>\n",
              "  </thead>\n",
              "  <tbody>\n",
              "    <tr>\n",
              "      <th>0</th>\n",
              "      <td>40.744876</td>\n",
              "      <td>-73.989657</td>\n",
              "      <td>POINT (-73.98966 40.74488)</td>\n",
              "    </tr>\n",
              "    <tr>\n",
              "      <th>1</th>\n",
              "      <td>40.825863</td>\n",
              "      <td>-73.950874</td>\n",
              "      <td>POINT (-73.95087 40.82586)</td>\n",
              "    </tr>\n",
              "    <tr>\n",
              "      <th>2</th>\n",
              "      <td>40.741906</td>\n",
              "      <td>-74.000945</td>\n",
              "      <td>POINT (-74.00095 40.74191)</td>\n",
              "    </tr>\n",
              "    <tr>\n",
              "      <th>3</th>\n",
              "      <td>40.682833</td>\n",
              "      <td>-73.963833</td>\n",
              "      <td>POINT (-73.96383 40.68283)</td>\n",
              "    </tr>\n",
              "    <tr>\n",
              "      <th>7</th>\n",
              "      <td>40.716662</td>\n",
              "      <td>-73.989041</td>\n",
              "      <td>POINT (-73.98904 40.71666)</td>\n",
              "    </tr>\n",
              "    <tr>\n",
              "      <th>...</th>\n",
              "      <td>...</td>\n",
              "      <td>...</td>\n",
              "      <td>...</td>\n",
              "    </tr>\n",
              "    <tr>\n",
              "      <th>1995</th>\n",
              "      <td>40.756603</td>\n",
              "      <td>-73.968749</td>\n",
              "      <td>POINT (-73.96875 40.75660)</td>\n",
              "    </tr>\n",
              "    <tr>\n",
              "      <th>1996</th>\n",
              "      <td>40.763304</td>\n",
              "      <td>-73.928214</td>\n",
              "      <td>POINT (-73.92821 40.76330)</td>\n",
              "    </tr>\n",
              "    <tr>\n",
              "      <th>1997</th>\n",
              "      <td>40.676956</td>\n",
              "      <td>-73.986405</td>\n",
              "      <td>POINT (-73.98641 40.67696)</td>\n",
              "    </tr>\n",
              "    <tr>\n",
              "      <th>1998</th>\n",
              "      <td>40.754988</td>\n",
              "      <td>-73.964927</td>\n",
              "      <td>POINT (-73.96493 40.75499)</td>\n",
              "    </tr>\n",
              "    <tr>\n",
              "      <th>1999</th>\n",
              "      <td>40.745295</td>\n",
              "      <td>-73.953254</td>\n",
              "      <td>POINT (-73.95325 40.74529)</td>\n",
              "    </tr>\n",
              "  </tbody>\n",
              "</table>\n",
              "<p>1590 rows × 3 columns</p>\n",
              "</div>\n",
              "      <button class=\"colab-df-convert\" onclick=\"convertToInteractive('df-16fad0ce-aef2-4c0a-9fe6-3b39812042a7')\"\n",
              "              title=\"Convert this dataframe to an interactive table.\"\n",
              "              style=\"display:none;\">\n",
              "        \n",
              "  <svg xmlns=\"http://www.w3.org/2000/svg\" height=\"24px\"viewBox=\"0 0 24 24\"\n",
              "       width=\"24px\">\n",
              "    <path d=\"M0 0h24v24H0V0z\" fill=\"none\"/>\n",
              "    <path d=\"M18.56 5.44l.94 2.06.94-2.06 2.06-.94-2.06-.94-.94-2.06-.94 2.06-2.06.94zm-11 1L8.5 8.5l.94-2.06 2.06-.94-2.06-.94L8.5 2.5l-.94 2.06-2.06.94zm10 10l.94 2.06.94-2.06 2.06-.94-2.06-.94-.94-2.06-.94 2.06-2.06.94z\"/><path d=\"M17.41 7.96l-1.37-1.37c-.4-.4-.92-.59-1.43-.59-.52 0-1.04.2-1.43.59L10.3 9.45l-7.72 7.72c-.78.78-.78 2.05 0 2.83L4 21.41c.39.39.9.59 1.41.59.51 0 1.02-.2 1.41-.59l7.78-7.78 2.81-2.81c.8-.78.8-2.07 0-2.86zM5.41 20L4 18.59l7.72-7.72 1.47 1.35L5.41 20z\"/>\n",
              "  </svg>\n",
              "      </button>\n",
              "      \n",
              "  <style>\n",
              "    .colab-df-container {\n",
              "      display:flex;\n",
              "      flex-wrap:wrap;\n",
              "      gap: 12px;\n",
              "    }\n",
              "\n",
              "    .colab-df-convert {\n",
              "      background-color: #E8F0FE;\n",
              "      border: none;\n",
              "      border-radius: 50%;\n",
              "      cursor: pointer;\n",
              "      display: none;\n",
              "      fill: #1967D2;\n",
              "      height: 32px;\n",
              "      padding: 0 0 0 0;\n",
              "      width: 32px;\n",
              "    }\n",
              "\n",
              "    .colab-df-convert:hover {\n",
              "      background-color: #E2EBFA;\n",
              "      box-shadow: 0px 1px 2px rgba(60, 64, 67, 0.3), 0px 1px 3px 1px rgba(60, 64, 67, 0.15);\n",
              "      fill: #174EA6;\n",
              "    }\n",
              "\n",
              "    [theme=dark] .colab-df-convert {\n",
              "      background-color: #3B4455;\n",
              "      fill: #D2E3FC;\n",
              "    }\n",
              "\n",
              "    [theme=dark] .colab-df-convert:hover {\n",
              "      background-color: #434B5C;\n",
              "      box-shadow: 0px 1px 3px 1px rgba(0, 0, 0, 0.15);\n",
              "      filter: drop-shadow(0px 1px 2px rgba(0, 0, 0, 0.3));\n",
              "      fill: #FFFFFF;\n",
              "    }\n",
              "  </style>\n",
              "\n",
              "      <script>\n",
              "        const buttonEl =\n",
              "          document.querySelector('#df-16fad0ce-aef2-4c0a-9fe6-3b39812042a7 button.colab-df-convert');\n",
              "        buttonEl.style.display =\n",
              "          google.colab.kernel.accessAllowed ? 'block' : 'none';\n",
              "\n",
              "        async function convertToInteractive(key) {\n",
              "          const element = document.querySelector('#df-16fad0ce-aef2-4c0a-9fe6-3b39812042a7');\n",
              "          const dataTable =\n",
              "            await google.colab.kernel.invokeFunction('convertToInteractive',\n",
              "                                                     [key], {});\n",
              "          if (!dataTable) return;\n",
              "\n",
              "          const docLinkHtml = 'Like what you see? Visit the ' +\n",
              "            '<a target=\"_blank\" href=https://colab.research.google.com/notebooks/data_table.ipynb>data table notebook</a>'\n",
              "            + ' to learn more about interactive tables.';\n",
              "          element.innerHTML = '';\n",
              "          dataTable['output_type'] = 'display_data';\n",
              "          await google.colab.output.renderOutput(dataTable, element);\n",
              "          const docLink = document.createElement('div');\n",
              "          docLink.innerHTML = docLinkHtml;\n",
              "          element.appendChild(docLink);\n",
              "        }\n",
              "      </script>\n",
              "    </div>\n",
              "  </div>\n",
              "  "
            ]
          },
          "metadata": {},
          "execution_count": 113
        }
      ]
    },
    {
      "cell_type": "code",
      "source": [
        "#plotting the non compliant restaurants (sam)\n",
        "noncompliantlatlong.plot(color = 'blue', markersize = 2)"
      ],
      "metadata": {
        "colab": {
          "base_uri": "https://localhost:8080/",
          "height": 283
        },
        "id": "I-98YmhRttUt",
        "outputId": "9fc49d7c-af84-43af-8447-111881690208"
      },
      "execution_count": 114,
      "outputs": [
        {
          "output_type": "execute_result",
          "data": {
            "text/plain": [
              "<matplotlib.axes._subplots.AxesSubplot at 0x7f74c9c076a0>"
            ]
          },
          "metadata": {},
          "execution_count": 114
        },
        {
          "output_type": "display_data",
          "data": {
            "text/plain": [
              "<Figure size 432x288 with 1 Axes>"
            ],
            "image/png": "[encoded data removed]"
          },
          "metadata": {
            "needs_background": "light"
          }
        }
      ]
    },
    {
      "cell_type": "code",
      "source": [
        "#plotting the points on new york city map (sam)\n",
        "base = newyork.plot(color = 'white', edgecolor = 'black')\n",
        "noncompliantlatlong.plot(ax = base, marker = 'o', color = 'blue', markersize = 5, alpha = 0.4)"
      ],
      "metadata": {
        "id": "qZWwMT44uMgE",
        "outputId": "11e68860-bdec-48e9-b849-a24162317164",
        "colab": {
          "base_uri": "https://localhost:8080/",
          "height": 283
        }
      },
      "execution_count": 115,
      "outputs": [
        {
          "output_type": "execute_result",
          "data": {
            "text/plain": [
              "<matplotlib.axes._subplots.AxesSubplot at 0x7f74c9b82040>"
            ]
          },
          "metadata": {},
          "execution_count": 115
        },
        {
          "output_type": "display_data",
          "data": {
            "text/plain": [
              "<Figure size 432x288 with 1 Axes>"
            ],
            "image/png": "[encoded data removed]"
          },
          "metadata": {
            "needs_background": "light"
          }
        }
      ]
    },
    {
      "cell_type": "code",
      "source": [
        "#plotting both the compliant and non compliant restaurants with the right colors on the map of new york city (sam)\n",
        "base = newyork.plot(color = 'white', edgecolor = 'black')\n",
        "compliantlatlong.plot(ax = base, marker = 'o', color = 'red', markersize = 5, alpha = 0.4)\n",
        "noncompliantlatlong.plot(ax = base, marker = 'o', color = 'blue', markersize = 3, alpha = 0.2)"
      ],
      "metadata": {
        "colab": {
          "base_uri": "https://localhost:8080/",
          "height": 283
        },
        "id": "8fI1d-BttxlN",
        "outputId": "5663d66c-de85-4a3f-df7c-8b92eef52b44"
      },
      "execution_count": 116,
      "outputs": [
        {
          "output_type": "execute_result",
          "data": {
            "text/plain": [
              "<matplotlib.axes._subplots.AxesSubplot at 0x7f74c9b11970>"
            ]
          },
          "metadata": {},
          "execution_count": 116
        },
        {
          "output_type": "display_data",
          "data": {
            "text/plain": [
              "<Figure size 432x288 with 1 Axes>"
            ],
            "image/png": "[encoded data removed]"
          },
          "metadata": {
            "needs_background": "light"
          }
        }
      ]
    },
    {
      "cell_type": "code",
      "source": [
        "#dataframes of each of the different type of compliancy (sam)\n",
        "noncompliant = df[df['isroadwaycompliant'] == 'Non-Compliant']\n",
        "forhiqareview = df[df['isroadwaycompliant'] == 'For HIQA Review']\n",
        "ceaseanddesist = df[df['isroadwaycompliant'] == 'Cease and Desist']\n",
        "suspendedanddeactivated = df[df['isroadwaycompliant'] == 'Suspended and Deactivated']\n",
        "skippedinspection = df[df['isroadwaycompliant'] == 'Skipped Inspection']\n",
        "underreview = df[df['isroadwaycompliant'] == 'Under Review']\n",
        "markedforremoval = df[df['isroadwaycompliant'] == 'Marked For Removal']\n",
        "preremoval = df[df['isroadwaycompliant'] == 'Pre-Removal']\n",
        "presuspension = df[df['isroadwaycompliant'] == 'Pre-Suspension']"
      ],
      "metadata": {
        "id": "6x6vEwmgt0BS"
      },
      "execution_count": 117,
      "outputs": []
    },
    {
      "cell_type": "code",
      "source": [
        "#creating the bases for the bar graph (sam)\n",
        "name = ['Compliant', 'Non-Compliant', 'For HIQA Review', 'Cease and Desist', 'Suspended and Deactivate', 'Skipped Inspection', 'Under Review', 'Marked For Removal', 'Pre-Removal', 'Pre-Suspension']\n",
        "amount = [len(compliant), len(noncompliant), len(forhiqareview), len(ceaseanddesist), len(suspendedanddeactivated), len(skippedinspection), len(underreview), len(markedforremoval), len(preremoval), len(presuspension)]\n",
        "colors = ['pink', 'red', 'orange', 'yellow', 'green', 'teal', 'blue', 'purple', 'brown', 'black']"
      ],
      "metadata": {
        "id": "llyJNfkNBITH"
      },
      "execution_count": 118,
      "outputs": []
    },
    {
      "cell_type": "code",
      "source": [
        "#creating a bar graph showing the different types of compliancy/noncompliancy (sam)\n",
        "fig, ax = plt.subplots()\n",
        "\n",
        "ax.bar(name, amount)\n",
        "\n",
        "labels = ax.get_xticklabels()\n",
        "plt.setp(labels, rotation = 45, horizontalalignment = 'right')\n",
        "\n",
        "plt.bar(name, amount, color = colors)\n",
        "plt.title('Is Restaurant Compliant?', fontsize=14)\n",
        "plt.xlabel('Type', fontsize=14)\n",
        "plt.ylabel('Number of Restaurants', fontsize=14)"
      ],
      "metadata": {
        "colab": {
          "base_uri": "https://localhost:8080/",
          "height": 411
        },
        "id": "PQ3XAux2BKMR",
        "outputId": "5cd1b87d-fa0f-4b31-ca02-83d677083e95"
      },
      "execution_count": 119,
      "outputs": [
        {
          "output_type": "execute_result",
          "data": {
            "text/plain": [
              "Text(0, 0.5, 'Number of Restaurants')"
            ]
          },
          "metadata": {},
          "execution_count": 119
        },
        {
          "output_type": "display_data",
          "data": {
            "text/plain": [
              "<Figure size 432x288 with 1 Axes>"
            ],
            "image/png": "[encoded data removed]"
          },
          "metadata": {
            "needs_background": "light"
          }
        }
      ]
    },
    {
      "cell_type": "code",
      "source": [
        "#same info but a pie chart with the compliant highlighted (sam)\n",
        "explode = [0.2, 0, 0, 0, 0, 0, 0, 0, 0, 0]\n",
        "plt.pie(amount, labels = name, explode = explode, colors = colors)"
      ],
      "metadata": {
        "colab": {
          "base_uri": "https://localhost:8080/",
          "height": 605
        },
        "id": "ix8mDA7tBL4e",
        "outputId": "bfae6abe-dcb3-4aaf-fe03-4cf9a3ebfc2f"
      },
      "execution_count": 120,
      "outputs": [
        {
          "output_type": "execute_result",
          "data": {
            "text/plain": [
              "([<matplotlib.patches.Wedge at 0x7f74c9a26b80>,\n",
              "  <matplotlib.patches.Wedge at 0x7f74c99b3070>,\n",
              "  <matplotlib.patches.Wedge at 0x7f74c99b3490>,\n",
              "  <matplotlib.patches.Wedge at 0x7f74c99b38b0>,\n",
              "  <matplotlib.patches.Wedge at 0x7f74c99b3cd0>,\n",
              "  <matplotlib.patches.Wedge at 0x7f74c99bf130>,\n",
              "  <matplotlib.patches.Wedge at 0x7f74c99bf550>,\n",
              "  <matplotlib.patches.Wedge at 0x7f74c99bf970>,\n",
              "  <matplotlib.patches.Wedge at 0x7f74c99bfd90>,\n",
              "  <matplotlib.patches.Wedge at 0x7f74c99cf1f0>],\n",
              " [Text(1.0388344016245117, 0.781551716779794, 'Compliant'),\n",
              "  Text(-0.7914607321366023, 0.763930565880037, 'Non-Compliant'),\n",
              "  Text(-0.9935195104995862, -0.47214296802627764, 'For HIQA Review'),\n",
              "  Text(-0.5569787671123162, -0.9485645223104459, 'Cease and Desist'),\n",
              "  Text(0.012978195476980913, -1.099923436627369, 'Suspended and Deactivate'),\n",
              "  Text(0.5967547028136783, -0.9240583448407135, 'Skipped Inspection'),\n",
              "  Text(1.0153545308255798, -0.4231491187890703, 'Under Review'),\n",
              "  Text(1.0718956565692601, -0.24706214082282005, 'Marked For Removal'),\n",
              "  Text(1.090180320943374, -0.14665220021466527, 'Pre-Removal'),\n",
              "  Text(1.0987751887111823, -0.051894938796628175, 'Pre-Suspension')])"
            ]
          },
          "metadata": {},
          "execution_count": 120
        },
        {
          "output_type": "display_data",
          "data": {
            "text/plain": [
              "<Figure size 432x288 with 1 Axes>"
            ],
            "image/png": "[encoded data removed]"
          },
          "metadata": {}
        }
      ]
    },
    {
      "cell_type": "code",
      "source": [
        "client = Socrata(\"data.cityofnewyork.us\", None)\n",
        "results = client.get(\"4dx7-axux\", limit=2000)\n",
        "results_df = pd.DataFrame.from_records(results)"
      ],
      "metadata": {
        "id": "FpJ9aQcTB4OU",
        "colab": {
          "base_uri": "https://localhost:8080/"
        },
        "outputId": "2fc208b7-cc12-4d79-edfd-459c88d0fec1"
      },
      "execution_count": 121,
      "outputs": [
        {
          "output_type": "stream",
          "name": "stderr",
          "text": [
            "WARNING:root:Requests made without an app_token will be subject to strict throttling limits.\n"
          ]
        }
      ]
    },
    {
      "cell_type": "code",
      "source": [
        "results_df.rename(columns={'restaurantname': 'Restaurant_Name', 'legalbusinessname': 'Legal_Business_Name', 'isroadwaycompliant': 'Is_Roadway_Compliant', 'borough': 'Borough', 'restaurantname': 'Restaurant_Name', 'seatingchoice': 'Seating_Choice', 'businessaddress': 'Business_Address', 'restaurantinspectionid': 'Restaurant_Inspection_Id', 'inspectedon': 'Inspected_On', 'agencycode': 'Agency_Code', 'postcode': 'Post_Code', 'latitude': 'Latitude', 'longitude': 'Longitude', 'communityboard': 'Community_Board', 'councildistrict': 'Council_District'},inplace=True) \n",
        "results_df.head()"
      ],
      "metadata": {
        "colab": {
          "base_uri": "https://localhost:8080/",
          "height": 531
        },
        "id": "n4pW-K-clyLe",
        "outputId": "e26d7b1e-029f-4589-bb60-a1921441d25c"
      },
      "execution_count": 122,
      "outputs": [
        {
          "output_type": "execute_result",
          "data": {
            "text/plain": [
              "     Borough            Restaurant_Name Seating_Choice  \\\n",
              "0  Manhattan                Oscar Wilde           both   \n",
              "1  Manhattan        LA RUBIA RESTAURANT           both   \n",
              "2  Manhattan               Thai Sliders       sidewalk   \n",
              "3   Brooklyn                      Otway           both   \n",
              "4   Brooklyn  WILLIAMSBURG THAI CUISINE           both   \n",
              "\n",
              "                Legal_Business_Name    Business_Address  \\\n",
              "0                Camelot Castle LLC    45  West 27th st   \n",
              "1           LA RUBIA RESTAURANT INC       3517 BROADWAY   \n",
              "2                    Silom Thai Inc       150   8th Ave   \n",
              "3                  St james 930 LLC   930 Fulton street   \n",
              "4  WILLIAMSBURG THAI CUISINE NY INC  212 BEDFORD AVENUE   \n",
              "\n",
              "  Restaurant_Inspection_Id Is_Roadway_Compliant             Inspected_On  \\\n",
              "0                    72891        Non-Compliant  2021-12-20T16:06:58.000   \n",
              "1                    72892      For HIQA Review  2021-12-20T16:18:42.000   \n",
              "2                    72893        Non-Compliant  2021-12-20T16:35:41.000   \n",
              "3                    72894     Cease and Desist  2021-12-20T16:38:45.000   \n",
              "4                    72896            Compliant  2021-12-20T16:52:41.000   \n",
              "\n",
              "  Agency_Code Post_Code   Latitude   Longitude Community_Board  \\\n",
              "0         DOT     10001  40.744876  -73.989657               5   \n",
              "1         DOT     10031  40.825863  -73.950874               9   \n",
              "2         DOT     10011  40.741906  -74.000945               4   \n",
              "3         DOT     11238  40.682833  -73.963833               2   \n",
              "4         DOT     11249  40.716913  -73.958728               1   \n",
              "\n",
              "  Council_District censustract      bin         bbl  \\\n",
              "0                3          58  1015677  1008290011   \n",
              "1                7         229  1062369  1020910032   \n",
              "2                3          81  1013845  1007670002   \n",
              "3               35         201  3335112  3020130038   \n",
              "4               33         553  3062192  3023350026   \n",
              "\n",
              "                                          nta skippedreason  \n",
              "0  Hudson Yards-Chelsea-Flatiron-Union Square           NaN  \n",
              "1                            Hamilton Heights           NaN  \n",
              "2  Hudson Yards-Chelsea-Flatiron-Union Square           NaN  \n",
              "3                                Clinton Hill           NaN  \n",
              "4                       North Side-South Side           NaN  "
            ],
            "text/html": [
              "\n",
              "  <div id=\"df-a978b02e-e837-4552-814f-227d233d5efa\">\n",
              "    <div class=\"colab-df-container\">\n",
              "      <div>\n",
              "<style scoped>\n",
              "    .dataframe tbody tr th:only-of-type {\n",
              "        vertical-align: middle;\n",
              "    }\n",
              "\n",
              "    .dataframe tbody tr th {\n",
              "        vertical-align: top;\n",
              "    }\n",
              "\n",
              "    .dataframe thead th {\n",
              "        text-align: right;\n",
              "    }\n",
              "</style>\n",
              "<table border=\"1\" class=\"dataframe\">\n",
              "  <thead>\n",
              "    <tr style=\"text-align: right;\">\n",
              "      <th></th>\n",
              "      <th>Borough</th>\n",
              "      <th>Restaurant_Name</th>\n",
              "      <th>Seating_Choice</th>\n",
              "      <th>Legal_Business_Name</th>\n",
              "      <th>Business_Address</th>\n",
              "      <th>Restaurant_Inspection_Id</th>\n",
              "      <th>Is_Roadway_Compliant</th>\n",
              "      <th>Inspected_On</th>\n",
              "      <th>Agency_Code</th>\n",
              "      <th>Post_Code</th>\n",
              "      <th>Latitude</th>\n",
              "      <th>Longitude</th>\n",
              "      <th>Community_Board</th>\n",
              "      <th>Council_District</th>\n",
              "      <th>censustract</th>\n",
              "      <th>bin</th>\n",
              "      <th>bbl</th>\n",
              "      <th>nta</th>\n",
              "      <th>skippedreason</th>\n",
              "    </tr>\n",
              "  </thead>\n",
              "  <tbody>\n",
              "    <tr>\n",
              "      <th>0</th>\n",
              "      <td>Manhattan</td>\n",
              "      <td>Oscar Wilde</td>\n",
              "      <td>both</td>\n",
              "      <td>Camelot Castle LLC</td>\n",
              "      <td>45  West 27th st</td>\n",
              "      <td>72891</td>\n",
              "      <td>Non-Compliant</td>\n",
              "      <td>2021-12-20T16:06:58.000</td>\n",
              "      <td>DOT</td>\n",
              "      <td>10001</td>\n",
              "      <td>40.744876</td>\n",
              "      <td>-73.989657</td>\n",
              "      <td>5</td>\n",
              "      <td>3</td>\n",
              "      <td>58</td>\n",
              "      <td>1015677</td>\n",
              "      <td>1008290011</td>\n",
              "      <td>Hudson Yards-Chelsea-Flatiron-Union Square</td>\n",
              "      <td>NaN</td>\n",
              "    </tr>\n",
              "    <tr>\n",
              "      <th>1</th>\n",
              "      <td>Manhattan</td>\n",
              "      <td>LA RUBIA RESTAURANT</td>\n",
              "      <td>both</td>\n",
              "      <td>LA RUBIA RESTAURANT INC</td>\n",
              "      <td>3517 BROADWAY</td>\n",
              "      <td>72892</td>\n",
              "      <td>For HIQA Review</td>\n",
              "      <td>2021-12-20T16:18:42.000</td>\n",
              "      <td>DOT</td>\n",
              "      <td>10031</td>\n",
              "      <td>40.825863</td>\n",
              "      <td>-73.950874</td>\n",
              "      <td>9</td>\n",
              "      <td>7</td>\n",
              "      <td>229</td>\n",
              "      <td>1062369</td>\n",
              "      <td>1020910032</td>\n",
              "      <td>Hamilton Heights</td>\n",
              "      <td>NaN</td>\n",
              "    </tr>\n",
              "    <tr>\n",
              "      <th>2</th>\n",
              "      <td>Manhattan</td>\n",
              "      <td>Thai Sliders</td>\n",
              "      <td>sidewalk</td>\n",
              "      <td>Silom Thai Inc</td>\n",
              "      <td>150   8th Ave</td>\n",
              "      <td>72893</td>\n",
              "      <td>Non-Compliant</td>\n",
              "      <td>2021-12-20T16:35:41.000</td>\n",
              "      <td>DOT</td>\n",
              "      <td>10011</td>\n",
              "      <td>40.741906</td>\n",
              "      <td>-74.000945</td>\n",
              "      <td>4</td>\n",
              "      <td>3</td>\n",
              "      <td>81</td>\n",
              "      <td>1013845</td>\n",
              "      <td>1007670002</td>\n",
              "      <td>Hudson Yards-Chelsea-Flatiron-Union Square</td>\n",
              "      <td>NaN</td>\n",
              "    </tr>\n",
              "    <tr>\n",
              "      <th>3</th>\n",
              "      <td>Brooklyn</td>\n",
              "      <td>Otway</td>\n",
              "      <td>both</td>\n",
              "      <td>St james 930 LLC</td>\n",
              "      <td>930 Fulton street</td>\n",
              "      <td>72894</td>\n",
              "      <td>Cease and Desist</td>\n",
              "      <td>2021-12-20T16:38:45.000</td>\n",
              "      <td>DOT</td>\n",
              "      <td>11238</td>\n",
              "      <td>40.682833</td>\n",
              "      <td>-73.963833</td>\n",
              "      <td>2</td>\n",
              "      <td>35</td>\n",
              "      <td>201</td>\n",
              "      <td>3335112</td>\n",
              "      <td>3020130038</td>\n",
              "      <td>Clinton Hill</td>\n",
              "      <td>NaN</td>\n",
              "    </tr>\n",
              "    <tr>\n",
              "      <th>4</th>\n",
              "      <td>Brooklyn</td>\n",
              "      <td>WILLIAMSBURG THAI CUISINE</td>\n",
              "      <td>both</td>\n",
              "      <td>WILLIAMSBURG THAI CUISINE NY INC</td>\n",
              "      <td>212 BEDFORD AVENUE</td>\n",
              "      <td>72896</td>\n",
              "      <td>Compliant</td>\n",
              "      <td>2021-12-20T16:52:41.000</td>\n",
              "      <td>DOT</td>\n",
              "      <td>11249</td>\n",
              "      <td>40.716913</td>\n",
              "      <td>-73.958728</td>\n",
              "      <td>1</td>\n",
              "      <td>33</td>\n",
              "      <td>553</td>\n",
              "      <td>3062192</td>\n",
              "      <td>3023350026</td>\n",
              "      <td>North Side-South Side</td>\n",
              "      <td>NaN</td>\n",
              "    </tr>\n",
              "  </tbody>\n",
              "</table>\n",
              "</div>\n",
              "      <button class=\"colab-df-convert\" onclick=\"convertToInteractive('df-a978b02e-e837-4552-814f-227d233d5efa')\"\n",
              "              title=\"Convert this dataframe to an interactive table.\"\n",
              "              style=\"display:none;\">\n",
              "        \n",
              "  <svg xmlns=\"http://www.w3.org/2000/svg\" height=\"24px\"viewBox=\"0 0 24 24\"\n",
              "       width=\"24px\">\n",
              "    <path d=\"M0 0h24v24H0V0z\" fill=\"none\"/>\n",
              "    <path d=\"M18.56 5.44l.94 2.06.94-2.06 2.06-.94-2.06-.94-.94-2.06-.94 2.06-2.06.94zm-11 1L8.5 8.5l.94-2.06 2.06-.94-2.06-.94L8.5 2.5l-.94 2.06-2.06.94zm10 10l.94 2.06.94-2.06 2.06-.94-2.06-.94-.94-2.06-.94 2.06-2.06.94z\"/><path d=\"M17.41 7.96l-1.37-1.37c-.4-.4-.92-.59-1.43-.59-.52 0-1.04.2-1.43.59L10.3 9.45l-7.72 7.72c-.78.78-.78 2.05 0 2.83L4 21.41c.39.39.9.59 1.41.59.51 0 1.02-.2 1.41-.59l7.78-7.78 2.81-2.81c.8-.78.8-2.07 0-2.86zM5.41 20L4 18.59l7.72-7.72 1.47 1.35L5.41 20z\"/>\n",
              "  </svg>\n",
              "      </button>\n",
              "      \n",
              "  <style>\n",
              "    .colab-df-container {\n",
              "      display:flex;\n",
              "      flex-wrap:wrap;\n",
              "      gap: 12px;\n",
              "    }\n",
              "\n",
              "    .colab-df-convert {\n",
              "      background-color: #E8F0FE;\n",
              "      border: none;\n",
              "      border-radius: 50%;\n",
              "      cursor: pointer;\n",
              "      display: none;\n",
              "      fill: #1967D2;\n",
              "      height: 32px;\n",
              "      padding: 0 0 0 0;\n",
              "      width: 32px;\n",
              "    }\n",
              "\n",
              "    .colab-df-convert:hover {\n",
              "      background-color: #E2EBFA;\n",
              "      box-shadow: 0px 1px 2px rgba(60, 64, 67, 0.3), 0px 1px 3px 1px rgba(60, 64, 67, 0.15);\n",
              "      fill: #174EA6;\n",
              "    }\n",
              "\n",
              "    [theme=dark] .colab-df-convert {\n",
              "      background-color: #3B4455;\n",
              "      fill: #D2E3FC;\n",
              "    }\n",
              "\n",
              "    [theme=dark] .colab-df-convert:hover {\n",
              "      background-color: #434B5C;\n",
              "      box-shadow: 0px 1px 3px 1px rgba(0, 0, 0, 0.15);\n",
              "      filter: drop-shadow(0px 1px 2px rgba(0, 0, 0, 0.3));\n",
              "      fill: #FFFFFF;\n",
              "    }\n",
              "  </style>\n",
              "\n",
              "      <script>\n",
              "        const buttonEl =\n",
              "          document.querySelector('#df-a978b02e-e837-4552-814f-227d233d5efa button.colab-df-convert');\n",
              "        buttonEl.style.display =\n",
              "          google.colab.kernel.accessAllowed ? 'block' : 'none';\n",
              "\n",
              "        async function convertToInteractive(key) {\n",
              "          const element = document.querySelector('#df-a978b02e-e837-4552-814f-227d233d5efa');\n",
              "          const dataTable =\n",
              "            await google.colab.kernel.invokeFunction('convertToInteractive',\n",
              "                                                     [key], {});\n",
              "          if (!dataTable) return;\n",
              "\n",
              "          const docLinkHtml = 'Like what you see? Visit the ' +\n",
              "            '<a target=\"_blank\" href=https://colab.research.google.com/notebooks/data_table.ipynb>data table notebook</a>'\n",
              "            + ' to learn more about interactive tables.';\n",
              "          element.innerHTML = '';\n",
              "          dataTable['output_type'] = 'display_data';\n",
              "          await google.colab.output.renderOutput(dataTable, element);\n",
              "          const docLink = document.createElement('div');\n",
              "          docLink.innerHTML = docLinkHtml;\n",
              "          element.appendChild(docLink);\n",
              "        }\n",
              "      </script>\n",
              "    </div>\n",
              "  </div>\n",
              "  "
            ]
          },
          "metadata": {},
          "execution_count": 122
        }
      ]
    },
    {
      "cell_type": "code",
      "source": [
        "#drishti\n",
        "results_df = results_df.dropna(subset=['Latitude', 'Longitude', 'Community_Board', 'Council_District', 'censustract'])"
      ],
      "metadata": {
        "id": "nOjbO8mcl0tl"
      },
      "execution_count": 123,
      "outputs": []
    },
    {
      "cell_type": "code",
      "source": [
        "#drishti\n",
        "results_df = results_df.astype({'Borough': 'string', \n",
        "                                'Restaurant_Name': 'string', \n",
        "                                'Seating_Choice': 'string', \n",
        "                                'Legal_Business_Name': 'string', \n",
        "                                'Business_Address': 'string', \n",
        "                                'Restaurant_Inspection_Id': 'int' , \n",
        "                                'Is_Roadway_Compliant': 'string',  \n",
        "                                'Agency_Code': 'string', \n",
        "                                'Post_Code': 'int', \n",
        "                                'Latitude': 'float', \n",
        "                                'Longitude': 'float', \n",
        "                                'Community_Board': 'int', \n",
        "                                'Council_District': 'float', \n",
        "                                'censustract': 'float'})"
      ],
      "metadata": {
        "id": "r6MMY07fl_Df"
      },
      "execution_count": 124,
      "outputs": []
    },
    {
      "cell_type": "code",
      "source": [
        "#drishti\n",
        "results_df[\"Inspected_On\"]= pd.to_datetime(results_df[\"Inspected_On\"])"
      ],
      "metadata": {
        "id": "Ukdr8l9amBN0"
      },
      "execution_count": 125,
      "outputs": []
    },
    {
      "cell_type": "code",
      "source": [
        "#drishti\n",
        "Borough = results_df[\"Borough\"].unique()\n",
        "UniqueCompliant = results_df['Is_Roadway_Compliant'].unique()"
      ],
      "metadata": {
        "id": "E-m4iJlPmGwD"
      },
      "execution_count": 126,
      "outputs": []
    },
    {
      "cell_type": "code",
      "source": [
        "#drishti\n",
        "from google.colab import output\n",
        "output.enable_custom_widget_manager()"
      ],
      "metadata": {
        "id": "aZRjMVX6n3ho"
      },
      "execution_count": 127,
      "outputs": []
    },
    {
      "cell_type": "code",
      "source": [
        "#drishti\n",
        "def search(listA,term):\n",
        "    for i in range(0,len(listA)):\n",
        "        if listA[i]==term:\n",
        "            return i\n",
        "    return -1\n",
        "            \n",
        "def changed(x):\n",
        "    if x.name == \"value\":\n",
        "        if x.new == False:\n",
        "            cbDic[x.owner.description]=False\n",
        "        elif x.new == True:\n",
        "            cbDic[x.owner.description]=True\n",
        "        \n",
        "        arr = []\n",
        "        for k in cbDic.keys():\n",
        "            if cbDic[k]==True:\n",
        "                arr.append(k)\n",
        "    \n",
        "        with fig.batch_update():\n",
        "             \n",
        "            for i in range(len(fig.data)):\n",
        "                fig.data[i].x=np.array(arr)\n",
        "        \n",
        "                    \n",
        "                    \n",
        "                \n",
        "                \n",
        "\n",
        "dataset = results_df[['Borough', 'Is_Roadway_Compliant']]\n",
        "containerChildren = []\n",
        "cbDic = {}\n",
        "for b in Borough:\n",
        "    chbox = widgets.Checkbox(value=True,description=b ,disabled=False,indent=False)\n",
        "    chbox.observe(changed)\n",
        "    containerChildren.append(chbox)\n",
        "    cbDic[b]=True\n",
        "\n",
        "data = []\n",
        "bdMatrix = []\n",
        "for b in Borough:\n",
        "    d ={}\n",
        "    for c in UniqueCompliant:\n",
        "        d[c]=0\n",
        "    tempdf = dataset[dataset.Borough==b].groupby(['Is_Roadway_Compliant'])['Is_Roadway_Compliant'].count()\n",
        "    for i in d.keys():\n",
        "        try :\n",
        "            d[i]=tempdf[i]\n",
        "        except :\n",
        "            d[i]=0\n",
        "    bdMatrix.append(list(d.values()))\n",
        "    #trace = go.Bar(x=Borough y=list(d.values()))\n",
        "\n",
        "for i in range(0,len(bdMatrix[0])):\n",
        "    trace = go.Bar(x=Borough, y=[bdMatrix[v][i] for v in range(len(bdMatrix))], name=UniqueCompliant[i])\n",
        "    data.append(trace)\n",
        "    \n",
        "layout = go.Layout(barmode='group')\n",
        "\n",
        "#containerChildren.append(fig) \n",
        "data_final = data.copy()\n",
        "fig = go.FigureWidget(data=data_final,layout=layout)\n",
        "\n"
      ],
      "metadata": {
        "id": "kEjNyogNmcAp"
      },
      "execution_count": 128,
      "outputs": []
    },
    {
      "cell_type": "code",
      "source": [
        "#drishti\n",
        "checkboxContainer = widgets.HBox(children=containerChildren)\n",
        "figContainer = widgets.VBox(children=[fig])\n",
        "container = widgets.VBox(children= [checkboxContainer,figContainer])\n",
        "container"
      ],
      "metadata": {
        "id": "qtH5p9X8mv6i",
        "colab": {
          "base_uri": "https://localhost:8080/",
          "height": 49,
          "referenced_widgets": [
            "2ceeb965905f41669c938371718c87d9",
            "0262b2f3665b4ce6903db35db0724250",
            "5a15a1afabc4479d8480f702f2c85bc9",
            "3e4d3f41546942fd9fa5e8115ffa7213",
            "0cb0c6c99fd84406a1656e6229fbb0b7",
            "ac2b8e58d87e4b20b582996826ac63a8",
            "5b66f175fb2f4296814c6ffe9f4a596f",
            "66ca2e8b24a64c939a5d1afea371e5d2",
            "f0e9ea2a6111478a9e2e15a6522864be",
            "c7a5671c2b8648859e8b8af787493b4e",
            "b20e7feabd7440a59d6f689ec6335f85",
            "717d27f1da8944b78330622ffce2e243",
            "93beb5c5f66f4aae877f6afb6f676ffe",
            "1ff6e455baae4e489a2c7c7c5c2f1dc7",
            "286647bcbdc545f08e89741a63074898",
            "6840da5749344efba4c5f384654222cd",
            "7f44777aa74847ffbb51ca204f141ef1",
            "6fb12fe3279842cab88e27d11c2df5b4",
            "4e581ede4316425887cd2008628172d6"
          ]
        },
        "outputId": "1ecda333-063f-4734-f01e-27dcf0fe5d85"
      },
      "execution_count": 129,
      "outputs": [
        {
          "output_type": "display_data",
          "data": {
            "text/plain": [
              "VBox(children=(HBox(children=(Checkbox(value=True, description='Manhattan', indent=False), Checkbox(value=True…"
            ],
            "application/vnd.jupyter.widget-view+json": {
              "version_major": 2,
              "version_minor": 0,
              "model_id": "2ceeb965905f41669c938371718c87d9"
            }
          },
          "metadata": {
            "application/vnd.jupyter.widget-view+json": {
              "colab": {
                "custom_widget_manager": {
                  "url": "https://ssl.gstatic.com/colaboratory-static/widgets/colab-cdn-widget-manager/d2e234f7cc04bf79/manager.min.js"
                }
              }
            }
          }
        }
      ]
    },
    {
      "cell_type": "code",
      "source": [
        "results_df_2=results_df.groupby(['Borough']).count()\n",
        "results_df_2 = results_df_2.reset_index()\n",
        "plt.bar(results_df_2[\"Borough\"], results_df_2[\"Restaurant_Inspection_Id\"])\n",
        "plt.xlabel(\"Borough\")\n",
        "plt.ylabel(\"Number of Restaurants in Borough\")\n",
        "plt.title(\"Number of Restaurants in each Borough\")"
      ],
      "metadata": {
        "colab": {
          "base_uri": "https://localhost:8080/",
          "height": 313
        },
        "id": "f_UAnbE4LPa1",
        "outputId": "18245290-6c98-4ddb-bc6b-f50dab4afaeb"
      },
      "execution_count": 130,
      "outputs": [
        {
          "output_type": "execute_result",
          "data": {
            "text/plain": [
              "Text(0.5, 1.0, 'Number of Restaurants in each Borough')"
            ]
          },
          "metadata": {},
          "execution_count": 130
        },
        {
          "output_type": "display_data",
          "data": {
            "text/plain": [
              "<Figure size 432x288 with 1 Axes>"
            ],
            "image/png": "[encoded data removed]"
          },
          "metadata": {
            "needs_background": "light"
          }
        }
      ]
    },
    {
      "cell_type": "code",
      "source": [
        "fig = px.bar(results_df_2, x=\"Borough\", y=\"Is_Roadway_Compliant\", color = \"Borough\")\n",
        "fig.show()"
      ],
      "metadata": {
        "colab": {
          "base_uri": "https://localhost:8080/",
          "height": 542
        },
        "id": "yH4XPIYmLUQ6",
        "outputId": "e31a18f3-08d4-4107-844b-3cffcd6f15b4"
      },
      "execution_count": 131,
      "outputs": [
        {
          "output_type": "display_data",
          "data": {
            "text/html": [
              "<html>\n",
              "<head><meta charset=\"utf-8\" /></head>\n",
              "<body>\n",
              "    <div>            <script src=\"https://cdnjs.cloudflare.com/ajax/libs/mathjax/2.7.5/MathJax.js?config=TeX-AMS-MML_SVG\"></script><script type=\"text/javascript\">if (window.MathJax && window.MathJax.Hub && window.MathJax.Hub.Config) {window.MathJax.Hub.Config({SVG: {font: \"STIX-Web\"}});}</script>                <script type=\"text/javascript\">window.PlotlyConfig = {MathJaxConfig: 'local'};</script>\n",
              "        <script src=\"https://cdn.plot.ly/plotly-2.16.1.min.js\"></script>                <div id=\"6373c16a-17bd-4247-86df-907432ae8908\" class=\"plotly-graph-div\" style=\"height:525px; width:100%;\"></div>            <script type=\"text/javascript\">                                    window.PLOTLYENV=window.PLOTLYENV || {};                                    if (document.getElementById(\"6373c16a-17bd-4247-86df-907432ae8908\")) {                    Plotly.newPlot(                        \"6373c16a-17bd-4247-86df-907432ae8908\",                        [{\"alignmentgroup\":\"True\",\"hovertemplate\":\"Borough=%{x}<br>Is_Roadway_Compliant=%{y}<extra></extra>\",\"legendgroup\":\"Bronx\",\"marker\":{\"color\":\"#636efa\",\"pattern\":{\"shape\":\"\"}},\"name\":\"Bronx\",\"offsetgroup\":\"Bronx\",\"orientation\":\"v\",\"showlegend\":true,\"textposition\":\"auto\",\"x\":[\"Bronx\"],\"xaxis\":\"x\",\"y\":[53],\"yaxis\":\"y\",\"type\":\"bar\"},{\"alignmentgroup\":\"True\",\"hovertemplate\":\"Borough=%{x}<br>Is_Roadway_Compliant=%{y}<extra></extra>\",\"legendgroup\":\"Brooklyn\",\"marker\":{\"color\":\"#EF553B\",\"pattern\":{\"shape\":\"\"}},\"name\":\"Brooklyn\",\"offsetgroup\":\"Brooklyn\",\"orientation\":\"v\",\"showlegend\":true,\"textposition\":\"auto\",\"x\":[\"Brooklyn\"],\"xaxis\":\"x\",\"y\":[434],\"yaxis\":\"y\",\"type\":\"bar\"},{\"alignmentgroup\":\"True\",\"hovertemplate\":\"Borough=%{x}<br>Is_Roadway_Compliant=%{y}<extra></extra>\",\"legendgroup\":\"Manhattan\",\"marker\":{\"color\":\"#00cc96\",\"pattern\":{\"shape\":\"\"}},\"name\":\"Manhattan\",\"offsetgroup\":\"Manhattan\",\"orientation\":\"v\",\"showlegend\":true,\"textposition\":\"auto\",\"x\":[\"Manhattan\"],\"xaxis\":\"x\",\"y\":[977],\"yaxis\":\"y\",\"type\":\"bar\"},{\"alignmentgroup\":\"True\",\"hovertemplate\":\"Borough=%{x}<br>Is_Roadway_Compliant=%{y}<extra></extra>\",\"legendgroup\":\"Queens\",\"marker\":{\"color\":\"#ab63fa\",\"pattern\":{\"shape\":\"\"}},\"name\":\"Queens\",\"offsetgroup\":\"Queens\",\"orientation\":\"v\",\"showlegend\":true,\"textposition\":\"auto\",\"x\":[\"Queens\"],\"xaxis\":\"x\",\"y\":[352],\"yaxis\":\"y\",\"type\":\"bar\"}],                        {\"template\":{\"data\":{\"histogram2dcontour\":[{\"type\":\"histogram2dcontour\",\"colorbar\":{\"outlinewidth\":0,\"ticks\":\"\"},\"colorscale\":[[0.0,\"#0d0887\"],[0.1111111111111111,\"#46039f\"],[0.2222222222222222,\"#7201a8\"],[0.3333333333333333,\"#9c179e\"],[0.4444444444444444,\"#bd3786\"],[0.5555555555555556,\"#d8576b\"],[0.6666666666666666,\"#ed7953\"],[0.7777777777777778,\"#fb9f3a\"],[0.8888888888888888,\"#fdca26\"],[1.0,\"#f0f921\"]]}],\"choropleth\":[{\"type\":\"choropleth\",\"colorbar\":{\"outlinewidth\":0,\"ticks\":\"\"}}],\"histogram2d\":[{\"type\":\"histogram2d\",\"colorbar\":{\"outlinewidth\":0,\"ticks\":\"\"},\"colorscale\":[[0.0,\"#0d0887\"],[0.1111111111111111,\"#46039f\"],[0.2222222222222222,\"#7201a8\"],[0.3333333333333333,\"#9c179e\"],[0.4444444444444444,\"#bd3786\"],[0.5555555555555556,\"#d8576b\"],[0.6666666666666666,\"#ed7953\"],[0.7777777777777778,\"#fb9f3a\"],[0.8888888888888888,\"#fdca26\"],[1.0,\"#f0f921\"]]}],\"heatmap\":[{\"type\":\"heatmap\",\"colorbar\":{\"outlinewidth\":0,\"ticks\":\"\"},\"colorscale\":[[0.0,\"#0d0887\"],[0.1111111111111111,\"#46039f\"],[0.2222222222222222,\"#7201a8\"],[0.3333333333333333,\"#9c179e\"],[0.4444444444444444,\"#bd3786\"],[0.5555555555555556,\"#d8576b\"],[0.6666666666666666,\"#ed7953\"],[0.7777777777777778,\"#fb9f3a\"],[0.8888888888888888,\"#fdca26\"],[1.0,\"#f0f921\"]]}],\"heatmapgl\":[{\"type\":\"heatmapgl\",\"colorbar\":{\"outlinewidth\":0,\"ticks\":\"\"},\"colorscale\":[[0.0,\"#0d0887\"],[0.1111111111111111,\"#46039f\"],[0.2222222222222222,\"#7201a8\"],[0.3333333333333333,\"#9c179e\"],[0.4444444444444444,\"#bd3786\"],[0.5555555555555556,\"#d8576b\"],[0.6666666666666666,\"#ed7953\"],[0.7777777777777778,\"#fb9f3a\"],[0.8888888888888888,\"#fdca26\"],[1.0,\"#f0f921\"]]}],\"contourcarpet\":[{\"type\":\"contourcarpet\",\"colorbar\":{\"outlinewidth\":0,\"ticks\":\"\"}}],\"contour\":[{\"type\":\"contour\",\"colorbar\":{\"outlinewidth\":0,\"ticks\":\"\"},\"colorscale\":[[0.0,\"#0d0887\"],[0.1111111111111111,\"#46039f\"],[0.2222222222222222,\"#7201a8\"],[0.3333333333333333,\"#9c179e\"],[0.4444444444444444,\"#bd3786\"],[0.5555555555555556,\"#d8576b\"],[0.6666666666666666,\"#ed7953\"],[0.7777777777777778,\"#fb9f3a\"],[0.8888888888888888,\"#fdca26\"],[1.0,\"#f0f921\"]]}],\"surface\":[{\"type\":\"surface\",\"colorbar\":{\"outlinewidth\":0,\"ticks\":\"\"},\"colorscale\":[[0.0,\"#0d0887\"],[0.1111111111111111,\"#46039f\"],[0.2222222222222222,\"#7201a8\"],[0.3333333333333333,\"#9c179e\"],[0.4444444444444444,\"#bd3786\"],[0.5555555555555556,\"#d8576b\"],[0.6666666666666666,\"#ed7953\"],[0.7777777777777778,\"#fb9f3a\"],[0.8888888888888888,\"#fdca26\"],[1.0,\"#f0f921\"]]}],\"mesh3d\":[{\"type\":\"mesh3d\",\"colorbar\":{\"outlinewidth\":0,\"ticks\":\"\"}}],\"scatter\":[{\"fillpattern\":{\"fillmode\":\"overlay\",\"size\":10,\"solidity\":0.2},\"type\":\"scatter\"}],\"parcoords\":[{\"type\":\"parcoords\",\"line\":{\"colorbar\":{\"outlinewidth\":0,\"ticks\":\"\"}}}],\"scatterpolargl\":[{\"type\":\"scatterpolargl\",\"marker\":{\"colorbar\":{\"outlinewidth\":0,\"ticks\":\"\"}}}],\"bar\":[{\"error_x\":{\"color\":\"#2a3f5f\"},\"error_y\":{\"color\":\"#2a3f5f\"},\"marker\":{\"line\":{\"color\":\"#E5ECF6\",\"width\":0.5},\"pattern\":{\"fillmode\":\"overlay\",\"size\":10,\"solidity\":0.2}},\"type\":\"bar\"}],\"scattergeo\":[{\"type\":\"scattergeo\",\"marker\":{\"colorbar\":{\"outlinewidth\":0,\"ticks\":\"\"}}}],\"scatterpolar\":[{\"type\":\"scatterpolar\",\"marker\":{\"colorbar\":{\"outlinewidth\":0,\"ticks\":\"\"}}}],\"histogram\":[{\"marker\":{\"pattern\":{\"fillmode\":\"overlay\",\"size\":10,\"solidity\":0.2}},\"type\":\"histogram\"}],\"scattergl\":[{\"type\":\"scattergl\",\"marker\":{\"colorbar\":{\"outlinewidth\":0,\"ticks\":\"\"}}}],\"scatter3d\":[{\"type\":\"scatter3d\",\"line\":{\"colorbar\":{\"outlinewidth\":0,\"ticks\":\"\"}},\"marker\":{\"colorbar\":{\"outlinewidth\":0,\"ticks\":\"\"}}}],\"scattermapbox\":[{\"type\":\"scattermapbox\",\"marker\":{\"colorbar\":{\"outlinewidth\":0,\"ticks\":\"\"}}}],\"scatterternary\":[{\"type\":\"scatterternary\",\"marker\":{\"colorbar\":{\"outlinewidth\":0,\"ticks\":\"\"}}}],\"scattercarpet\":[{\"type\":\"scattercarpet\",\"marker\":{\"colorbar\":{\"outlinewidth\":0,\"ticks\":\"\"}}}],\"carpet\":[{\"aaxis\":{\"endlinecolor\":\"#2a3f5f\",\"gridcolor\":\"white\",\"linecolor\":\"white\",\"minorgridcolor\":\"white\",\"startlinecolor\":\"#2a3f5f\"},\"baxis\":{\"endlinecolor\":\"#2a3f5f\",\"gridcolor\":\"white\",\"linecolor\":\"white\",\"minorgridcolor\":\"white\",\"startlinecolor\":\"#2a3f5f\"},\"type\":\"carpet\"}],\"table\":[{\"cells\":{\"fill\":{\"color\":\"#EBF0F8\"},\"line\":{\"color\":\"white\"}},\"header\":{\"fill\":{\"color\":\"#C8D4E3\"},\"line\":{\"color\":\"white\"}},\"type\":\"table\"}],\"barpolar\":[{\"marker\":{\"line\":{\"color\":\"#E5ECF6\",\"width\":0.5},\"pattern\":{\"fillmode\":\"overlay\",\"size\":10,\"solidity\":0.2}},\"type\":\"barpolar\"}],\"pie\":[{\"automargin\":true,\"type\":\"pie\"}]},\"layout\":{\"autotypenumbers\":\"strict\",\"colorway\":[\"#636efa\",\"#EF553B\",\"#00cc96\",\"#ab63fa\",\"#FFA15A\",\"#19d3f3\",\"#FF6692\",\"#B6E880\",\"#FF97FF\",\"#FECB52\"],\"font\":{\"color\":\"#2a3f5f\"},\"hovermode\":\"closest\",\"hoverlabel\":{\"align\":\"left\"},\"paper_bgcolor\":\"white\",\"plot_bgcolor\":\"#E5ECF6\",\"polar\":{\"bgcolor\":\"#E5ECF6\",\"angularaxis\":{\"gridcolor\":\"white\",\"linecolor\":\"white\",\"ticks\":\"\"},\"radialaxis\":{\"gridcolor\":\"white\",\"linecolor\":\"white\",\"ticks\":\"\"}},\"ternary\":{\"bgcolor\":\"#E5ECF6\",\"aaxis\":{\"gridcolor\":\"white\",\"linecolor\":\"white\",\"ticks\":\"\"},\"baxis\":{\"gridcolor\":\"white\",\"linecolor\":\"white\",\"ticks\":\"\"},\"caxis\":{\"gridcolor\":\"white\",\"linecolor\":\"white\",\"ticks\":\"\"}},\"coloraxis\":{\"colorbar\":{\"outlinewidth\":0,\"ticks\":\"\"}},\"colorscale\":{\"sequential\":[[0.0,\"#0d0887\"],[0.1111111111111111,\"#46039f\"],[0.2222222222222222,\"#7201a8\"],[0.3333333333333333,\"#9c179e\"],[0.4444444444444444,\"#bd3786\"],[0.5555555555555556,\"#d8576b\"],[0.6666666666666666,\"#ed7953\"],[0.7777777777777778,\"#fb9f3a\"],[0.8888888888888888,\"#fdca26\"],[1.0,\"#f0f921\"]],\"sequentialminus\":[[0.0,\"#0d0887\"],[0.1111111111111111,\"#46039f\"],[0.2222222222222222,\"#7201a8\"],[0.3333333333333333,\"#9c179e\"],[0.4444444444444444,\"#bd3786\"],[0.5555555555555556,\"#d8576b\"],[0.6666666666666666,\"#ed7953\"],[0.7777777777777778,\"#fb9f3a\"],[0.8888888888888888,\"#fdca26\"],[1.0,\"#f0f921\"]],\"diverging\":[[0,\"#8e0152\"],[0.1,\"#c51b7d\"],[0.2,\"#de77ae\"],[0.3,\"#f1b6da\"],[0.4,\"#fde0ef\"],[0.5,\"#f7f7f7\"],[0.6,\"#e6f5d0\"],[0.7,\"#b8e186\"],[0.8,\"#7fbc41\"],[0.9,\"#4d9221\"],[1,\"#276419\"]]},\"xaxis\":{\"gridcolor\":\"white\",\"linecolor\":\"white\",\"ticks\":\"\",\"title\":{\"standoff\":15},\"zerolinecolor\":\"white\",\"automargin\":true,\"zerolinewidth\":2},\"yaxis\":{\"gridcolor\":\"white\",\"linecolor\":\"white\",\"ticks\":\"\",\"title\":{\"standoff\":15},\"zerolinecolor\":\"white\",\"automargin\":true,\"zerolinewidth\":2},\"scene\":{\"xaxis\":{\"backgroundcolor\":\"#E5ECF6\",\"gridcolor\":\"white\",\"linecolor\":\"white\",\"showbackground\":true,\"ticks\":\"\",\"zerolinecolor\":\"white\",\"gridwidth\":2},\"yaxis\":{\"backgroundcolor\":\"#E5ECF6\",\"gridcolor\":\"white\",\"linecolor\":\"white\",\"showbackground\":true,\"ticks\":\"\",\"zerolinecolor\":\"white\",\"gridwidth\":2},\"zaxis\":{\"backgroundcolor\":\"#E5ECF6\",\"gridcolor\":\"white\",\"linecolor\":\"white\",\"showbackground\":true,\"ticks\":\"\",\"zerolinecolor\":\"white\",\"gridwidth\":2}},\"shapedefaults\":{\"line\":{\"color\":\"#2a3f5f\"}},\"annotationdefaults\":{\"arrowcolor\":\"#2a3f5f\",\"arrowhead\":0,\"arrowwidth\":1},\"geo\":{\"bgcolor\":\"white\",\"landcolor\":\"#E5ECF6\",\"subunitcolor\":\"white\",\"showland\":true,\"showlakes\":true,\"lakecolor\":\"white\"},\"title\":{\"x\":0.05},\"mapbox\":{\"style\":\"light\"}}},\"xaxis\":{\"anchor\":\"y\",\"domain\":[0.0,1.0],\"title\":{\"text\":\"Borough\"},\"categoryorder\":\"array\",\"categoryarray\":[\"Bronx\",\"Brooklyn\",\"Manhattan\",\"Queens\"]},\"yaxis\":{\"anchor\":\"x\",\"domain\":[0.0,1.0],\"title\":{\"text\":\"Is_Roadway_Compliant\"}},\"legend\":{\"title\":{\"text\":\"Borough\"},\"tracegroupgap\":0},\"margin\":{\"t\":60},\"barmode\":\"relative\"},                        {\"responsive\": true}                    ).then(function(){\n",
              "                            \n",
              "var gd = document.getElementById('6373c16a-17bd-4247-86df-907432ae8908');\n",
              "var x = new MutationObserver(function (mutations, observer) {{\n",
              "        var display = window.getComputedStyle(gd).display;\n",
              "        if (!display || display === 'none') {{\n",
              "            console.log([gd, 'removed!']);\n",
              "            Plotly.purge(gd);\n",
              "            observer.disconnect();\n",
              "        }}\n",
              "}});\n",
              "\n",
              "// Listen for the removal of the full notebook cells\n",
              "var notebookContainer = gd.closest('#notebook-container');\n",
              "if (notebookContainer) {{\n",
              "    x.observe(notebookContainer, {childList: true});\n",
              "}}\n",
              "\n",
              "// Listen for the clearing of the current output cell\n",
              "var outputEl = gd.closest('.output');\n",
              "if (outputEl) {{\n",
              "    x.observe(outputEl, {childList: true});\n",
              "}}\n",
              "\n",
              "                        })                };                            </script>        </div>\n",
              "</body>\n",
              "</html>"
            ]
          },
          "metadata": {}
        }
      ]
    },
    {
      "cell_type": "code",
      "source": [
        "#Count of Restaurants inspected every year\n",
        "#results_df_4['year']=results_df['Inspected_On'].apply(lambda x:x.split('-')[0])\n",
        "results_df['year'] = pd.to_datetime(results_df['Inspected_On']).dt.date"
      ],
      "metadata": {
        "id": "cVV1TDTaLr9n"
      },
      "execution_count": 132,
      "outputs": []
    },
    {
      "cell_type": "code",
      "source": [
        "results_df_4=results_df.groupby(['Council_District']).count()\n",
        "results_df_4 = results_df_4.reset_index()\n",
        "plt.bar(results_df_4[\"Council_District\"], results_df_4[\"Restaurant_Inspection_Id\"])\n",
        "plt.xlabel(\"Council_Districts\")\n",
        "plt.ylabel(\"Number of Restaurants\")\n",
        "plt.title(\"Number of Restaurants in each Council District\")"
      ],
      "metadata": {
        "colab": {
          "base_uri": "https://localhost:8080/",
          "height": 314
        },
        "id": "5JkCQQxeLtuK",
        "outputId": "2e2f17fc-ea86-42b3-9ebb-28642e453e23"
      },
      "execution_count": 133,
      "outputs": [
        {
          "output_type": "execute_result",
          "data": {
            "text/plain": [
              "Text(0.5, 1.0, 'Number of Restaurants in each Council District')"
            ]
          },
          "metadata": {},
          "execution_count": 133
        },
        {
          "output_type": "display_data",
          "data": {
            "text/plain": [
              "<Figure size 432x288 with 1 Axes>"
            ],
            "image/png": "[encoded data removed]"
          },
          "metadata": {
            "needs_background": "light"
          }
        }
      ]
    },
    {
      "cell_type": "code",
      "source": [
        "#Compliant Restaurants in each Council District\n",
        "plt.figure(figsize=(15,10))\n",
        "results_df_4= results_df[results_df['Is_Roadway_Compliant'] == 'Compliant']\n",
        "#results_df_4=results_df_4.groupby(['Council_District])['Is_Roadway_Compliant'].count()\n",
        "results_df_4=results_df_4.groupby(['Council_District'])['Is_Roadway_Compliant'].count()\n",
        "results_df_4 = results_df_4.reset_index()\n",
        "plt.plot(results_df_4['Council_District'], results_df_4['Is_Roadway_Compliant'])\n",
        "highest_cd=int(max(results_df_4['Council_District']))+1\n",
        "plt.xticks([i for i in range(1, highest_cd)])\n",
        "plt.xlabel(\"Council_District\")\n",
        "plt.ylabel(\"Number of Compliant Restaurants\")\n",
        "plt.title(\"Number of Compliant Restaurants in each Council District\")"
      ],
      "metadata": {
        "colab": {
          "base_uri": "https://localhost:8080/",
          "height": 874
        },
        "id": "sh53iTSTL4M5",
        "outputId": "14856ad5-a307-4f37-9d30-46bdbef4e83f"
      },
      "execution_count": 134,
      "outputs": [
        {
          "output_type": "stream",
          "name": "stderr",
          "text": [
            "/usr/local/lib/python3.8/dist-packages/matplotlib/cbook/__init__.py:1402: FutureWarning:\n",
            "\n",
            "Support for multi-dimensional indexing (e.g. `obj[:, None]`) is deprecated and will be removed in a future version.  Convert to a numpy array before indexing instead.\n",
            "\n",
            "/usr/local/lib/python3.8/dist-packages/matplotlib/axes/_base.py:276: FutureWarning:\n",
            "\n",
            "Support for multi-dimensional indexing (e.g. `obj[:, None]`) is deprecated and will be removed in a future version.  Convert to a numpy array before indexing instead.\n",
            "\n",
            "/usr/local/lib/python3.8/dist-packages/matplotlib/axes/_base.py:278: FutureWarning:\n",
            "\n",
            "Support for multi-dimensional indexing (e.g. `obj[:, None]`) is deprecated and will be removed in a future version.  Convert to a numpy array before indexing instead.\n",
            "\n"
          ]
        },
        {
          "output_type": "execute_result",
          "data": {
            "text/plain": [
              "Text(0.5, 1.0, 'Number of Compliant Restaurants in each Council District')"
            ]
          },
          "metadata": {},
          "execution_count": 134
        },
        {
          "output_type": "display_data",
          "data": {
            "text/plain": [
              "<Figure size 1080x720 with 1 Axes>"
            ],
            "image/png": "[encoded data removed]"
          },
          "metadata": {
            "needs_background": "light"
          }
        }
      ]
    },
    {
      "cell_type": "code",
      "source": [
        "#Compliant Restaurants in each Council District\n",
        "plt.figure(figsize=(15,10))\n",
        "results_df_5= results_df[results_df['Is_Roadway_Compliant'] == 'Compliant']\n",
        "results_df_5=results_df_5.groupby(['Seating_Choice'])['Is_Roadway_Compliant'].count()\n",
        "results_df_5 = results_df_5.reset_index()\n",
        "plt.bar(results_df_5['Seating_Choice'], results_df_5['Is_Roadway_Compliant'])\n",
        "#plt.xticks([i for i in range(1, highest_cd)])\n",
        "plt.xlabel(\"Seating Choice\")\n",
        "plt.ylabel(\"Number of Compliant Restaurants\")\n",
        "plt.title(\"Number of Compliant Restaurants By Choice of Seating\")"
      ],
      "metadata": {
        "colab": {
          "base_uri": "https://localhost:8080/",
          "height": 639
        },
        "id": "ldnR8JR6L8tw",
        "outputId": "e919bac8-a6fb-4aa0-bb7d-c3c0ca0093de"
      },
      "execution_count": 135,
      "outputs": [
        {
          "output_type": "execute_result",
          "data": {
            "text/plain": [
              "Text(0.5, 1.0, 'Number of Compliant Restaurants By Choice of Seating')"
            ]
          },
          "metadata": {},
          "execution_count": 135
        },
        {
          "output_type": "display_data",
          "data": {
            "text/plain": [
              "<Figure size 1080x720 with 1 Axes>"
            ],
            "image/png": "[encoded data removed]"
          },
          "metadata": {
            "needs_background": "light"
          }
        }
      ]
    },
    {
      "cell_type": "code",
      "source": [
        "labels= list(results_df_5['Seating_Choice'])\n",
        "\n",
        "colors=['green', 'red', 'blue']\n",
        "\n",
        "sizes= list(results_df_5['Is_Roadway_Compliant'])\n",
        "\n",
        "explode = (0, 0, 0.1)\n",
        "\n",
        "plt.pie(sizes,labels=labels, colors=colors, startangle=90, autopct='%1.1f%%', explode=explode)\n",
        "\n",
        "plt.axis('equal')\n",
        "\n",
        "plt.title(\"Ratio of seating choice in New York City\")\n",
        "\n",
        "plt.show()"
      ],
      "metadata": {
        "colab": {
          "base_uri": "https://localhost:8080/",
          "height": 264
        },
        "id": "MN91njFeMCgR",
        "outputId": "a3322223-64c4-4c6d-c0dd-3ca2949f4d56"
      },
      "execution_count": 136,
      "outputs": [
        {
          "output_type": "display_data",
          "data": {
            "text/plain": [
              "<Figure size 432x288 with 1 Axes>"
            ],
            "image/png": "[encoded data removed]"
          },
          "metadata": {}
        }
      ]
    },
    {
      "cell_type": "code",
      "source": [
        "Borough = results_df[\"Borough\"].unique()\n",
        "UniqueCompliant = dataset['Is_Roadway_Compliant'].unique()"
      ],
      "metadata": {
        "id": "Xph2agmdMH-y"
      },
      "execution_count": 137,
      "outputs": []
    },
    {
      "cell_type": "code",
      "source": [
        "def search(listA,term):\n",
        "    for i in range(0,len(listA)):\n",
        "        if listA[i]==term:\n",
        "            return i\n",
        "    return -1\n",
        "            \n",
        "def changed(x):\n",
        "    if x.name == \"value\":\n",
        "        if x.new == False:\n",
        "            cbDic[x.owner.description]=False\n",
        "        elif x.new == True:\n",
        "            cbDic[x.owner.description]=True\n",
        "        \n",
        "        arr = []\n",
        "        for k in cbDic.keys():\n",
        "            if cbDic[k]==True:\n",
        "                arr.append(k)\n",
        "    \n",
        "        with fig.batch_update():\n",
        "             \n",
        "            for i in range(len(fig.data)):\n",
        "                fig.data[i].x=np.array(arr)\n",
        "        \n",
        "                    \n",
        "                    \n",
        "                \n",
        "                \n",
        "\n",
        "dataset = results_df[['Borough', 'Is_Roadway_Compliant']]\n",
        "containerChildren = []\n",
        "cbDic = {}\n",
        "for b in Borough:\n",
        "    chbox = widgets.Checkbox(value=True,description=b ,disabled=False,indent=False)\n",
        "    chbox.observe(changed)\n",
        "    containerChildren.append(chbox)\n",
        "    cbDic[b]=True\n",
        "\n",
        "data = []\n",
        "bdMatrix = []\n",
        "for b in Borough:\n",
        "    d ={}\n",
        "    for c in UniqueCompliant:\n",
        "        d[c]=0\n",
        "    tempdf = dataset[dataset.Borough==b].groupby(['Is_Roadway_Compliant'])['Is_Roadway_Compliant'].count()\n",
        "    for i in d.keys():\n",
        "        try :\n",
        "            d[i]=tempdf[i]\n",
        "        except :\n",
        "            d[i]=0\n",
        "    bdMatrix.append(list(d.values()))\n",
        "    #trace = go.Bar(x=Borough y=list(d.values()))\n",
        "\n",
        "for i in range(0,len(bdMatrix[0])):\n",
        "    trace = go.Bar(x=Borough, y=[bdMatrix[v][i] for v in range(len(bdMatrix))], name=UniqueCompliant[i])\n",
        "    data.append(trace)\n",
        "    \n",
        "layout = go.Layout(barmode='group')\n",
        "\n",
        "#containerChildren.append(fig) \n",
        "data_final = data.copy()\n",
        "fig = go.FigureWidget(data=data_final,layout=layout)\n"
      ],
      "metadata": {
        "id": "j53Pll7HMNBO"
      },
      "execution_count": 138,
      "outputs": []
    },
    {
      "cell_type": "code",
      "source": [
        "checkboxContainer = widgets.HBox(children=containerChildren)\n",
        "figContainer = widgets.VBox(children=[fig])\n",
        "container = widgets.VBox(children= [checkboxContainer,figContainer])"
      ],
      "metadata": {
        "id": "g9a1KK4NMPLd"
      },
      "execution_count": 139,
      "outputs": []
    },
    {
      "cell_type": "code",
      "source": [
        "container"
      ],
      "metadata": {
        "colab": {
          "base_uri": "https://localhost:8080/",
          "height": 49,
          "referenced_widgets": [
            "827ac0ab49b44e1cb9c7ec8e698ab351",
            "90b34cdc0f194b7c85b7fc9354977035",
            "a3184cd2a739405eb82310b1c22abf40",
            "9ff5a191aab0464da00a9c20b9421dbd",
            "cd7792a4a6394aa488b3d30ba945b44a",
            "2414b824160d4aa6b8775b62e5e2c56a",
            "da733e70b2524aa49e775171a5ca8eca",
            "b8484a8701e9430280b54e38422aee25",
            "dfee25c374af4917b69917d111d37dda",
            "d0649bb6ddb34fd4b39b992b465581fe",
            "d30e99a6bf794c609f3a32bb3da7d496",
            "ce09bf9cf8d4484a9849d7a4bf6e6af8",
            "28b277f997704fcc9571381117c91634",
            "2e3db6bf0625401aa3c38287763782bb",
            "17885ba4074e4408a53d1c5252a4b85d",
            "e18065dcc38b425d824c70bdfb3f7ea8",
            "a7e1f9d8752b42e2830c0c728f34f556",
            "73b8692f6b7347f288caa2016df67355",
            "ca600458b02e4100b98e851cd43bc107"
          ]
        },
        "id": "gWOOhAOqMVoz",
        "outputId": "4f2bbe82-7051-4199-d142-c2e88dea1367"
      },
      "execution_count": 140,
      "outputs": [
        {
          "output_type": "display_data",
          "data": {
            "text/plain": [
              "VBox(children=(HBox(children=(Checkbox(value=True, description='Manhattan', indent=False), Checkbox(value=True…"
            ],
            "application/vnd.jupyter.widget-view+json": {
              "version_major": 2,
              "version_minor": 0,
              "model_id": "827ac0ab49b44e1cb9c7ec8e698ab351"
            }
          },
          "metadata": {
            "application/vnd.jupyter.widget-view+json": {
              "colab": {
                "custom_widget_manager": {
                  "url": "https://ssl.gstatic.com/colaboratory-static/widgets/colab-cdn-widget-manager/d2e234f7cc04bf79/manager.min.js"
                }
              }
            }
          }
        }
      ]
    }
  ]
}